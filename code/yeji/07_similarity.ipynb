{
 "cells": [
  {
   "source": [
    "## train on train data and test on dev data"
   ],
   "cell_type": "markdown",
   "metadata": {}
  },
  {
   "cell_type": "code",
   "execution_count": 32,
   "metadata": {},
   "outputs": [
    {
     "output_type": "execute_result",
     "data": {
      "text/plain": [
       "                                           comments bias_label  gender_label  \\\n",
       "7891                                     힘내세요 응원합니다       none         False   \n",
       "7892                             힘내세요삼가 고인의 명복을 빕니다       none         False   \n",
       "7893                                 힘내세용 항상 응원합니닷        none         False   \n",
       "7894  힘내소연기로 답해요나도 53살 인데 이런일 저런일 다 있더라구요인격을 믿습니다홨팅       none         False   \n",
       "7895                             힘들면 관뒀어야지 그게 현명한거다       none         False   \n",
       "\n",
       "     hate_label                              news_title  \\\n",
       "7891       none           허지웅 허투루 넘길 말 없었다솔직하게 드러냈던 속사정   \n",
       "7892       none      이혜경 오 캐롤’ 공연 중 남편 오정욱 부고오열 속 발인 종합   \n",
       "7893       none             설경구♥ 송윤아 아들과 즐거운 하루 전 엄마니까요   \n",
       "7894       none  현장연예인 인생 협박 유감미소잃은 최민수 보복운전 혐의 2차 공판종합   \n",
       "7895       none            단독스태프 사망사고 서른이지만 결국 오늘 촬영 취소   \n",
       "\n",
       "                                            comment_pos  \\\n",
       "7891  [('힘내세요', 'Verb'), ('응원', 'Noun'), ('합니다', 'Ve...   \n",
       "7892  [('힘내세요', 'Verb'), ('삼가', 'Verb'), ('고인', 'Nou...   \n",
       "7893  [('힘내세용', 'Verb'), ('항상', 'Noun'), ('응원', 'Nou...   \n",
       "7894  [('힘내소', 'Verb'), ('연기', 'Noun'), ('로', 'Josa'...   \n",
       "7895  [('힘들면', 'Adjective'), ('관', 'Noun'), ('뒀어야지',...   \n",
       "\n",
       "                                              title_pos  \n",
       "7891  [('허지웅', 'Noun'), ('허투루', 'Noun'), ('넘길', 'Ver...  \n",
       "7892  [('이혜경', 'Noun'), ('오', 'Noun'), ('캐롤', 'Noun'...  \n",
       "7893  [('설경구', 'Noun'), ('♥', 'Foreign'), ('송윤아', 'N...  \n",
       "7894  [('현장', 'Noun'), ('연예인', 'Noun'), ('인생', 'Noun...  \n",
       "7895  [('단독', 'Noun'), ('스태프', 'Noun'), ('사망', 'Noun...  "
      ],
      "text/html": "<div>\n<style scoped>\n    .dataframe tbody tr th:only-of-type {\n        vertical-align: middle;\n    }\n\n    .dataframe tbody tr th {\n        vertical-align: top;\n    }\n\n    .dataframe thead th {\n        text-align: right;\n    }\n</style>\n<table border=\"1\" class=\"dataframe\">\n  <thead>\n    <tr style=\"text-align: right;\">\n      <th></th>\n      <th>comments</th>\n      <th>bias_label</th>\n      <th>gender_label</th>\n      <th>hate_label</th>\n      <th>news_title</th>\n      <th>comment_pos</th>\n      <th>title_pos</th>\n    </tr>\n  </thead>\n  <tbody>\n    <tr>\n      <th>7891</th>\n      <td>힘내세요 응원합니다</td>\n      <td>none</td>\n      <td>False</td>\n      <td>none</td>\n      <td>허지웅 허투루 넘길 말 없었다솔직하게 드러냈던 속사정</td>\n      <td>[('힘내세요', 'Verb'), ('응원', 'Noun'), ('합니다', 'Ve...</td>\n      <td>[('허지웅', 'Noun'), ('허투루', 'Noun'), ('넘길', 'Ver...</td>\n    </tr>\n    <tr>\n      <th>7892</th>\n      <td>힘내세요삼가 고인의 명복을 빕니다</td>\n      <td>none</td>\n      <td>False</td>\n      <td>none</td>\n      <td>이혜경 오 캐롤’ 공연 중 남편 오정욱 부고오열 속 발인 종합</td>\n      <td>[('힘내세요', 'Verb'), ('삼가', 'Verb'), ('고인', 'Nou...</td>\n      <td>[('이혜경', 'Noun'), ('오', 'Noun'), ('캐롤', 'Noun'...</td>\n    </tr>\n    <tr>\n      <th>7893</th>\n      <td>힘내세용 항상 응원합니닷</td>\n      <td>none</td>\n      <td>False</td>\n      <td>none</td>\n      <td>설경구♥ 송윤아 아들과 즐거운 하루 전 엄마니까요</td>\n      <td>[('힘내세용', 'Verb'), ('항상', 'Noun'), ('응원', 'Nou...</td>\n      <td>[('설경구', 'Noun'), ('♥', 'Foreign'), ('송윤아', 'N...</td>\n    </tr>\n    <tr>\n      <th>7894</th>\n      <td>힘내소연기로 답해요나도 53살 인데 이런일 저런일 다 있더라구요인격을 믿습니다홨팅</td>\n      <td>none</td>\n      <td>False</td>\n      <td>none</td>\n      <td>현장연예인 인생 협박 유감미소잃은 최민수 보복운전 혐의 2차 공판종합</td>\n      <td>[('힘내소', 'Verb'), ('연기', 'Noun'), ('로', 'Josa'...</td>\n      <td>[('현장', 'Noun'), ('연예인', 'Noun'), ('인생', 'Noun...</td>\n    </tr>\n    <tr>\n      <th>7895</th>\n      <td>힘들면 관뒀어야지 그게 현명한거다</td>\n      <td>none</td>\n      <td>False</td>\n      <td>none</td>\n      <td>단독스태프 사망사고 서른이지만 결국 오늘 촬영 취소</td>\n      <td>[('힘들면', 'Adjective'), ('관', 'Noun'), ('뒀어야지',...</td>\n      <td>[('단독', 'Noun'), ('스태프', 'Noun'), ('사망', 'Noun...</td>\n    </tr>\n  </tbody>\n</table>\n</div>"
     },
     "metadata": {},
     "execution_count": 32
    }
   ],
   "source": [
    "import pandas as pd\n",
    "import numpy as np\n",
    "import seaborn as sns\n",
    "import matplotlib.pyplot as plt\n",
    "%matplotlib inline\n",
    "import warnings\n",
    "warnings.filterwarnings('ignore')\n",
    "\n",
    "train = pd.read_csv('./datas/train_ver2', index_col=[0])\n",
    "train.tail()"
   ]
  },
  {
   "cell_type": "code",
   "execution_count": 19,
   "metadata": {},
   "outputs": [
    {
     "output_type": "display_data",
     "data": {
      "text/plain": "<Figure size 1080x432 with 4 Axes>",
      "image/svg+xml": "<?xml version=\"1.0\" encoding=\"utf-8\" standalone=\"no\"?>\r\n<!DOCTYPE svg PUBLIC \"-//W3C//DTD SVG 1.1//EN\"\r\n  \"http://www.w3.org/Graphics/SVG/1.1/DTD/svg11.dtd\">\r\n<!-- Created with matplotlib (https://matplotlib.org/) -->\r\n<svg height=\"379.605625pt\" version=\"1.1\" viewBox=\"0 0 904.4875 379.605625\" width=\"904.4875pt\" xmlns=\"http://www.w3.org/2000/svg\" xmlns:xlink=\"http://www.w3.org/1999/xlink\">\r\n <metadata>\r\n  <rdf:RDF xmlns:cc=\"http://creativecommons.org/ns#\" xmlns:dc=\"http://purl.org/dc/elements/1.1/\" xmlns:rdf=\"http://www.w3.org/1999/02/22-rdf-syntax-ns#\">\r\n   <cc:Work>\r\n    <dc:type rdf:resource=\"http://purl.org/dc/dcmitype/StillImage\"/>\r\n    <dc:date>2021-01-16T14:44:39.088909</dc:date>\r\n    <dc:format>image/svg+xml</dc:format>\r\n    <dc:creator>\r\n     <cc:Agent>\r\n      <dc:title>Matplotlib v3.3.3, https://matplotlib.org/</dc:title>\r\n     </cc:Agent>\r\n    </dc:creator>\r\n   </cc:Work>\r\n  </rdf:RDF>\r\n </metadata>\r\n <defs>\r\n  <style type=\"text/css\">*{stroke-linecap:butt;stroke-linejoin:round;}</style>\r\n </defs>\r\n <g id=\"figure_1\">\r\n  <g id=\"patch_1\">\r\n   <path d=\"M 0 379.605625 \r\nL 904.4875 379.605625 \r\nL 904.4875 0 \r\nL 0 0 \r\nz\r\n\" style=\"fill:none;\"/>\r\n  </g>\r\n  <g id=\"axes_1\">\r\n   <g id=\"patch_2\">\r\n    <path d=\"M 33.2875 151.918125 \r\nL 408.939674 151.918125 \r\nL 408.939674 22.318125 \r\nL 33.2875 22.318125 \r\nz\r\n\" style=\"fill:#ffffff;\"/>\r\n   </g>\r\n   <g id=\"patch_3\">\r\n    <path clip-path=\"url(#pa06d4706ec)\" d=\"M 50.362599 151.918125 \r\nL 57.192638 151.918125 \r\nL 57.192638 132.169554 \r\nL 50.362599 132.169554 \r\nz\r\n\" style=\"fill:#1f77b4;\"/>\r\n   </g>\r\n   <g id=\"patch_4\">\r\n    <path clip-path=\"url(#pa06d4706ec)\" d=\"M 57.192638 151.918125 \r\nL 64.022678 151.918125 \r\nL 64.022678 81.563839 \r\nL 57.192638 81.563839 \r\nz\r\n\" style=\"fill:#1f77b4;\"/>\r\n   </g>\r\n   <g id=\"patch_5\">\r\n    <path clip-path=\"url(#pa06d4706ec)\" d=\"M 64.022678 151.918125 \r\nL 70.852717 151.918125 \r\nL 70.852717 54.409554 \r\nL 64.022678 54.409554 \r\nz\r\n\" style=\"fill:#1f77b4;\"/>\r\n   </g>\r\n   <g id=\"patch_6\">\r\n    <path clip-path=\"url(#pa06d4706ec)\" d=\"M 70.852717 151.918125 \r\nL 77.682757 151.918125 \r\nL 77.682757 87.735268 \r\nL 70.852717 87.735268 \r\nz\r\n\" style=\"fill:#1f77b4;\"/>\r\n   </g>\r\n   <g id=\"patch_7\">\r\n    <path clip-path=\"url(#pa06d4706ec)\" d=\"M 77.682757 151.918125 \r\nL 84.512796 151.918125 \r\nL 84.512796 28.489554 \r\nL 77.682757 28.489554 \r\nz\r\n\" style=\"fill:#1f77b4;\"/>\r\n   </g>\r\n   <g id=\"patch_8\">\r\n    <path clip-path=\"url(#pa06d4706ec)\" d=\"M 84.512796 151.918125 \r\nL 91.342836 151.918125 \r\nL 91.342836 34.660982 \r\nL 84.512796 34.660982 \r\nz\r\n\" style=\"fill:#1f77b4;\"/>\r\n   </g>\r\n   <g id=\"patch_9\">\r\n    <path clip-path=\"url(#pa06d4706ec)\" d=\"M 91.342836 151.918125 \r\nL 98.172875 151.918125 \r\nL 98.172875 55.643839 \r\nL 91.342836 55.643839 \r\nz\r\n\" style=\"fill:#1f77b4;\"/>\r\n   </g>\r\n   <g id=\"patch_10\">\r\n    <path clip-path=\"url(#pa06d4706ec)\" d=\"M 98.172875 151.918125 \r\nL 105.002915 151.918125 \r\nL 105.002915 32.192411 \r\nL 98.172875 32.192411 \r\nz\r\n\" style=\"fill:#1f77b4;\"/>\r\n   </g>\r\n   <g id=\"patch_11\">\r\n    <path clip-path=\"url(#pa06d4706ec)\" d=\"M 105.002915 151.918125 \r\nL 111.832955 151.918125 \r\nL 111.832955 32.192411 \r\nL 105.002915 32.192411 \r\nz\r\n\" style=\"fill:#1f77b4;\"/>\r\n   </g>\r\n   <g id=\"patch_12\">\r\n    <path clip-path=\"url(#pa06d4706ec)\" d=\"M 111.832955 151.918125 \r\nL 118.662994 151.918125 \r\nL 118.662994 65.518125 \r\nL 111.832955 65.518125 \r\nz\r\n\" style=\"fill:#1f77b4;\"/>\r\n   </g>\r\n   <g id=\"patch_13\">\r\n    <path clip-path=\"url(#pa06d4706ec)\" d=\"M 118.662994 151.918125 \r\nL 125.493034 151.918125 \r\nL 125.493034 39.598125 \r\nL 118.662994 39.598125 \r\nz\r\n\" style=\"fill:#1f77b4;\"/>\r\n   </g>\r\n   <g id=\"patch_14\">\r\n    <path clip-path=\"url(#pa06d4706ec)\" d=\"M 125.493034 151.918125 \r\nL 132.323073 151.918125 \r\nL 132.323073 71.689554 \r\nL 125.493034 71.689554 \r\nz\r\n\" style=\"fill:#1f77b4;\"/>\r\n   </g>\r\n   <g id=\"patch_15\">\r\n    <path clip-path=\"url(#pa06d4706ec)\" d=\"M 132.323073 151.918125 \r\nL 139.153113 151.918125 \r\nL 139.153113 97.609554 \r\nL 132.323073 97.609554 \r\nz\r\n\" style=\"fill:#1f77b4;\"/>\r\n   </g>\r\n   <g id=\"patch_16\">\r\n    <path clip-path=\"url(#pa06d4706ec)\" d=\"M 139.153113 151.918125 \r\nL 145.983152 151.918125 \r\nL 145.983152 65.518125 \r\nL 139.153113 65.518125 \r\nz\r\n\" style=\"fill:#1f77b4;\"/>\r\n   </g>\r\n   <g id=\"patch_17\">\r\n    <path clip-path=\"url(#pa06d4706ec)\" d=\"M 145.983152 151.918125 \r\nL 152.813192 151.918125 \r\nL 152.813192 77.860982 \r\nL 145.983152 77.860982 \r\nz\r\n\" style=\"fill:#1f77b4;\"/>\r\n   </g>\r\n   <g id=\"patch_18\">\r\n    <path clip-path=\"url(#pa06d4706ec)\" d=\"M 152.813192 151.918125 \r\nL 159.643231 151.918125 \r\nL 159.643231 109.952411 \r\nL 152.813192 109.952411 \r\nz\r\n\" style=\"fill:#1f77b4;\"/>\r\n   </g>\r\n   <g id=\"patch_19\">\r\n    <path clip-path=\"url(#pa06d4706ec)\" d=\"M 159.643231 151.918125 \r\nL 166.473271 151.918125 \r\nL 166.473271 75.392411 \r\nL 159.643231 75.392411 \r\nz\r\n\" style=\"fill:#1f77b4;\"/>\r\n   </g>\r\n   <g id=\"patch_20\">\r\n    <path clip-path=\"url(#pa06d4706ec)\" d=\"M 166.473271 151.918125 \r\nL 173.30331 151.918125 \r\nL 173.30331 75.392411 \r\nL 166.473271 75.392411 \r\nz\r\n\" style=\"fill:#1f77b4;\"/>\r\n   </g>\r\n   <g id=\"patch_21\">\r\n    <path clip-path=\"url(#pa06d4706ec)\" d=\"M 173.30331 151.918125 \r\nL 180.13335 151.918125 \r\nL 180.13335 101.312411 \r\nL 173.30331 101.312411 \r\nz\r\n\" style=\"fill:#1f77b4;\"/>\r\n   </g>\r\n   <g id=\"patch_22\">\r\n    <path clip-path=\"url(#pa06d4706ec)\" d=\"M 180.13335 151.918125 \r\nL 186.963389 151.918125 \r\nL 186.963389 93.906696 \r\nL 180.13335 93.906696 \r\nz\r\n\" style=\"fill:#1f77b4;\"/>\r\n   </g>\r\n   <g id=\"patch_23\">\r\n    <path clip-path=\"url(#pa06d4706ec)\" d=\"M 186.963389 151.918125 \r\nL 193.793429 151.918125 \r\nL 193.793429 91.438125 \r\nL 186.963389 91.438125 \r\nz\r\n\" style=\"fill:#1f77b4;\"/>\r\n   </g>\r\n   <g id=\"patch_24\">\r\n    <path clip-path=\"url(#pa06d4706ec)\" d=\"M 193.793429 151.918125 \r\nL 200.623468 151.918125 \r\nL 200.623468 114.889554 \r\nL 193.793429 114.889554 \r\nz\r\n\" style=\"fill:#1f77b4;\"/>\r\n   </g>\r\n   <g id=\"patch_25\">\r\n    <path clip-path=\"url(#pa06d4706ec)\" d=\"M 200.623468 151.918125 \r\nL 207.453508 151.918125 \r\nL 207.453508 96.375268 \r\nL 200.623468 96.375268 \r\nz\r\n\" style=\"fill:#1f77b4;\"/>\r\n   </g>\r\n   <g id=\"patch_26\">\r\n    <path clip-path=\"url(#pa06d4706ec)\" d=\"M 207.453508 151.918125 \r\nL 214.283547 151.918125 \r\nL 214.283547 113.655268 \r\nL 207.453508 113.655268 \r\nz\r\n\" style=\"fill:#1f77b4;\"/>\r\n   </g>\r\n   <g id=\"patch_27\">\r\n    <path clip-path=\"url(#pa06d4706ec)\" d=\"M 214.283547 151.918125 \r\nL 221.113587 151.918125 \r\nL 221.113587 119.826696 \r\nL 214.283547 119.826696 \r\nz\r\n\" style=\"fill:#1f77b4;\"/>\r\n   </g>\r\n   <g id=\"patch_28\">\r\n    <path clip-path=\"url(#pa06d4706ec)\" d=\"M 221.113587 151.918125 \r\nL 227.943626 151.918125 \r\nL 227.943626 92.672411 \r\nL 221.113587 92.672411 \r\nz\r\n\" style=\"fill:#1f77b4;\"/>\r\n   </g>\r\n   <g id=\"patch_29\">\r\n    <path clip-path=\"url(#pa06d4706ec)\" d=\"M 227.943626 151.918125 \r\nL 234.773666 151.918125 \r\nL 234.773666 106.249554 \r\nL 227.943626 106.249554 \r\nz\r\n\" style=\"fill:#1f77b4;\"/>\r\n   </g>\r\n   <g id=\"patch_30\">\r\n    <path clip-path=\"url(#pa06d4706ec)\" d=\"M 234.773666 151.918125 \r\nL 241.603706 151.918125 \r\nL 241.603706 119.826696 \r\nL 234.773666 119.826696 \r\nz\r\n\" style=\"fill:#1f77b4;\"/>\r\n   </g>\r\n   <g id=\"patch_31\">\r\n    <path clip-path=\"url(#pa06d4706ec)\" d=\"M 241.603706 151.918125 \r\nL 248.433745 151.918125 \r\nL 248.433745 137.106696 \r\nL 241.603706 137.106696 \r\nz\r\n\" style=\"fill:#1f77b4;\"/>\r\n   </g>\r\n   <g id=\"patch_32\">\r\n    <path clip-path=\"url(#pa06d4706ec)\" d=\"M 248.433745 151.918125 \r\nL 255.263785 151.918125 \r\nL 255.263785 117.358125 \r\nL 248.433745 117.358125 \r\nz\r\n\" style=\"fill:#1f77b4;\"/>\r\n   </g>\r\n   <g id=\"patch_33\">\r\n    <path clip-path=\"url(#pa06d4706ec)\" d=\"M 255.263785 151.918125 \r\nL 262.093824 151.918125 \r\nL 262.093824 112.420982 \r\nL 255.263785 112.420982 \r\nz\r\n\" style=\"fill:#1f77b4;\"/>\r\n   </g>\r\n   <g id=\"patch_34\">\r\n    <path clip-path=\"url(#pa06d4706ec)\" d=\"M 262.093824 151.918125 \r\nL 268.923864 151.918125 \r\nL 268.923864 129.700982 \r\nL 262.093824 129.700982 \r\nz\r\n\" style=\"fill:#1f77b4;\"/>\r\n   </g>\r\n   <g id=\"patch_35\">\r\n    <path clip-path=\"url(#pa06d4706ec)\" d=\"M 268.923864 151.918125 \r\nL 275.753903 151.918125 \r\nL 275.753903 121.060982 \r\nL 268.923864 121.060982 \r\nz\r\n\" style=\"fill:#1f77b4;\"/>\r\n   </g>\r\n   <g id=\"patch_36\">\r\n    <path clip-path=\"url(#pa06d4706ec)\" d=\"M 275.753903 151.918125 \r\nL 282.583943 151.918125 \r\nL 282.583943 128.466696 \r\nL 275.753903 128.466696 \r\nz\r\n\" style=\"fill:#1f77b4;\"/>\r\n   </g>\r\n   <g id=\"patch_37\">\r\n    <path clip-path=\"url(#pa06d4706ec)\" d=\"M 282.583943 151.918125 \r\nL 289.413982 151.918125 \r\nL 289.413982 133.403839 \r\nL 282.583943 133.403839 \r\nz\r\n\" style=\"fill:#1f77b4;\"/>\r\n   </g>\r\n   <g id=\"patch_38\">\r\n    <path clip-path=\"url(#pa06d4706ec)\" d=\"M 289.413982 151.918125 \r\nL 296.244022 151.918125 \r\nL 296.244022 125.998125 \r\nL 289.413982 125.998125 \r\nz\r\n\" style=\"fill:#1f77b4;\"/>\r\n   </g>\r\n   <g id=\"patch_39\">\r\n    <path clip-path=\"url(#pa06d4706ec)\" d=\"M 296.244022 151.918125 \r\nL 303.074061 151.918125 \r\nL 303.074061 137.106696 \r\nL 296.244022 137.106696 \r\nz\r\n\" style=\"fill:#1f77b4;\"/>\r\n   </g>\r\n   <g id=\"patch_40\">\r\n    <path clip-path=\"url(#pa06d4706ec)\" d=\"M 303.074061 151.918125 \r\nL 309.904101 151.918125 \r\nL 309.904101 142.043839 \r\nL 303.074061 142.043839 \r\nz\r\n\" style=\"fill:#1f77b4;\"/>\r\n   </g>\r\n   <g id=\"patch_41\">\r\n    <path clip-path=\"url(#pa06d4706ec)\" d=\"M 309.904101 151.918125 \r\nL 316.73414 151.918125 \r\nL 316.73414 133.403839 \r\nL 309.904101 133.403839 \r\nz\r\n\" style=\"fill:#1f77b4;\"/>\r\n   </g>\r\n   <g id=\"patch_42\">\r\n    <path clip-path=\"url(#pa06d4706ec)\" d=\"M 316.73414 151.918125 \r\nL 323.56418 151.918125 \r\nL 323.56418 133.403839 \r\nL 316.73414 133.403839 \r\nz\r\n\" style=\"fill:#1f77b4;\"/>\r\n   </g>\r\n   <g id=\"patch_43\">\r\n    <path clip-path=\"url(#pa06d4706ec)\" d=\"M 323.56418 151.918125 \r\nL 330.394219 151.918125 \r\nL 330.394219 138.340982 \r\nL 323.56418 138.340982 \r\nz\r\n\" style=\"fill:#1f77b4;\"/>\r\n   </g>\r\n   <g id=\"patch_44\">\r\n    <path clip-path=\"url(#pa06d4706ec)\" d=\"M 330.394219 151.918125 \r\nL 337.224259 151.918125 \r\nL 337.224259 134.638125 \r\nL 330.394219 134.638125 \r\nz\r\n\" style=\"fill:#1f77b4;\"/>\r\n   </g>\r\n   <g id=\"patch_45\">\r\n    <path clip-path=\"url(#pa06d4706ec)\" d=\"M 337.224259 151.918125 \r\nL 344.054298 151.918125 \r\nL 344.054298 143.278125 \r\nL 337.224259 143.278125 \r\nz\r\n\" style=\"fill:#1f77b4;\"/>\r\n   </g>\r\n   <g id=\"patch_46\">\r\n    <path clip-path=\"url(#pa06d4706ec)\" d=\"M 344.054298 151.918125 \r\nL 350.884338 151.918125 \r\nL 350.884338 142.043839 \r\nL 344.054298 142.043839 \r\nz\r\n\" style=\"fill:#1f77b4;\"/>\r\n   </g>\r\n   <g id=\"patch_47\">\r\n    <path clip-path=\"url(#pa06d4706ec)\" d=\"M 350.884338 151.918125 \r\nL 357.714377 151.918125 \r\nL 357.714377 139.575268 \r\nL 350.884338 139.575268 \r\nz\r\n\" style=\"fill:#1f77b4;\"/>\r\n   </g>\r\n   <g id=\"patch_48\">\r\n    <path clip-path=\"url(#pa06d4706ec)\" d=\"M 357.714377 151.918125 \r\nL 364.544417 151.918125 \r\nL 364.544417 139.575268 \r\nL 357.714377 139.575268 \r\nz\r\n\" style=\"fill:#1f77b4;\"/>\r\n   </g>\r\n   <g id=\"patch_49\">\r\n    <path clip-path=\"url(#pa06d4706ec)\" d=\"M 364.544417 151.918125 \r\nL 371.374457 151.918125 \r\nL 371.374457 143.278125 \r\nL 364.544417 143.278125 \r\nz\r\n\" style=\"fill:#1f77b4;\"/>\r\n   </g>\r\n   <g id=\"patch_50\">\r\n    <path clip-path=\"url(#pa06d4706ec)\" d=\"M 371.374457 151.918125 \r\nL 378.204496 151.918125 \r\nL 378.204496 138.340982 \r\nL 371.374457 138.340982 \r\nz\r\n\" style=\"fill:#1f77b4;\"/>\r\n   </g>\r\n   <g id=\"patch_51\">\r\n    <path clip-path=\"url(#pa06d4706ec)\" d=\"M 378.204496 151.918125 \r\nL 385.034536 151.918125 \r\nL 385.034536 148.215268 \r\nL 378.204496 148.215268 \r\nz\r\n\" style=\"fill:#1f77b4;\"/>\r\n   </g>\r\n   <g id=\"patch_52\">\r\n    <path clip-path=\"url(#pa06d4706ec)\" d=\"M 385.034536 151.918125 \r\nL 391.864575 151.918125 \r\nL 391.864575 150.683839 \r\nL 385.034536 150.683839 \r\nz\r\n\" style=\"fill:#1f77b4;\"/>\r\n   </g>\r\n   <g id=\"matplotlib.axis_1\">\r\n    <g id=\"xtick_1\">\r\n     <g id=\"line2d_1\">\r\n      <defs>\r\n       <path d=\"M 0 0 \r\nL 0 3.5 \r\n\" id=\"m5db32f4107\" style=\"stroke:#000000;stroke-width:0.8;\"/>\r\n      </defs>\r\n      <g>\r\n       <use style=\"stroke:#000000;stroke-width:0.8;\" x=\"40.16851\" xlink:href=\"#m5db32f4107\" y=\"151.918125\"/>\r\n      </g>\r\n     </g>\r\n     <g id=\"text_1\">\r\n      <!-- 0 -->\r\n      <g transform=\"translate(42.927885 165.280625)rotate(-90)scale(0.1 -0.1)\">\r\n       <defs>\r\n        <path d=\"M 31.78125 66.40625 \r\nQ 24.171875 66.40625 20.328125 58.90625 \r\nQ 16.5 51.421875 16.5 36.375 \r\nQ 16.5 21.390625 20.328125 13.890625 \r\nQ 24.171875 6.390625 31.78125 6.390625 \r\nQ 39.453125 6.390625 43.28125 13.890625 \r\nQ 47.125 21.390625 47.125 36.375 \r\nQ 47.125 51.421875 43.28125 58.90625 \r\nQ 39.453125 66.40625 31.78125 66.40625 \r\nz\r\nM 31.78125 74.21875 \r\nQ 44.046875 74.21875 50.515625 64.515625 \r\nQ 56.984375 54.828125 56.984375 36.375 \r\nQ 56.984375 17.96875 50.515625 8.265625 \r\nQ 44.046875 -1.421875 31.78125 -1.421875 \r\nQ 19.53125 -1.421875 13.0625 8.265625 \r\nQ 6.59375 17.96875 6.59375 36.375 \r\nQ 6.59375 54.828125 13.0625 64.515625 \r\nQ 19.53125 74.21875 31.78125 74.21875 \r\nz\r\n\" id=\"DejaVuSans-48\"/>\r\n       </defs>\r\n       <use xlink:href=\"#DejaVuSans-48\"/>\r\n      </g>\r\n     </g>\r\n    </g>\r\n    <g id=\"xtick_2\">\r\n     <g id=\"line2d_2\">\r\n      <g>\r\n       <use style=\"stroke:#000000;stroke-width:0.8;\" x=\"91.138954\" xlink:href=\"#m5db32f4107\" y=\"151.918125\"/>\r\n      </g>\r\n     </g>\r\n     <g id=\"text_2\">\r\n      <!-- 20 -->\r\n      <g transform=\"translate(93.898329 171.643125)rotate(-90)scale(0.1 -0.1)\">\r\n       <defs>\r\n        <path d=\"M 19.1875 8.296875 \r\nL 53.609375 8.296875 \r\nL 53.609375 0 \r\nL 7.328125 0 \r\nL 7.328125 8.296875 \r\nQ 12.9375 14.109375 22.625 23.890625 \r\nQ 32.328125 33.6875 34.8125 36.53125 \r\nQ 39.546875 41.84375 41.421875 45.53125 \r\nQ 43.3125 49.21875 43.3125 52.78125 \r\nQ 43.3125 58.59375 39.234375 62.25 \r\nQ 35.15625 65.921875 28.609375 65.921875 \r\nQ 23.96875 65.921875 18.8125 64.3125 \r\nQ 13.671875 62.703125 7.8125 59.421875 \r\nL 7.8125 69.390625 \r\nQ 13.765625 71.78125 18.9375 73 \r\nQ 24.125 74.21875 28.421875 74.21875 \r\nQ 39.75 74.21875 46.484375 68.546875 \r\nQ 53.21875 62.890625 53.21875 53.421875 \r\nQ 53.21875 48.921875 51.53125 44.890625 \r\nQ 49.859375 40.875 45.40625 35.40625 \r\nQ 44.1875 33.984375 37.640625 27.21875 \r\nQ 31.109375 20.453125 19.1875 8.296875 \r\nz\r\n\" id=\"DejaVuSans-50\"/>\r\n       </defs>\r\n       <use xlink:href=\"#DejaVuSans-50\"/>\r\n       <use x=\"63.623047\" xlink:href=\"#DejaVuSans-48\"/>\r\n      </g>\r\n     </g>\r\n    </g>\r\n    <g id=\"xtick_3\">\r\n     <g id=\"line2d_3\">\r\n      <g>\r\n       <use style=\"stroke:#000000;stroke-width:0.8;\" x=\"142.109398\" xlink:href=\"#m5db32f4107\" y=\"151.918125\"/>\r\n      </g>\r\n     </g>\r\n     <g id=\"text_3\">\r\n      <!-- 40 -->\r\n      <g transform=\"translate(144.868773 171.643125)rotate(-90)scale(0.1 -0.1)\">\r\n       <defs>\r\n        <path d=\"M 37.796875 64.3125 \r\nL 12.890625 25.390625 \r\nL 37.796875 25.390625 \r\nz\r\nM 35.203125 72.90625 \r\nL 47.609375 72.90625 \r\nL 47.609375 25.390625 \r\nL 58.015625 25.390625 \r\nL 58.015625 17.1875 \r\nL 47.609375 17.1875 \r\nL 47.609375 0 \r\nL 37.796875 0 \r\nL 37.796875 17.1875 \r\nL 4.890625 17.1875 \r\nL 4.890625 26.703125 \r\nz\r\n\" id=\"DejaVuSans-52\"/>\r\n       </defs>\r\n       <use xlink:href=\"#DejaVuSans-52\"/>\r\n       <use x=\"63.623047\" xlink:href=\"#DejaVuSans-48\"/>\r\n      </g>\r\n     </g>\r\n    </g>\r\n    <g id=\"xtick_4\">\r\n     <g id=\"line2d_4\">\r\n      <g>\r\n       <use style=\"stroke:#000000;stroke-width:0.8;\" x=\"193.079843\" xlink:href=\"#m5db32f4107\" y=\"151.918125\"/>\r\n      </g>\r\n     </g>\r\n     <g id=\"text_4\">\r\n      <!-- 60 -->\r\n      <g transform=\"translate(195.839218 171.643125)rotate(-90)scale(0.1 -0.1)\">\r\n       <defs>\r\n        <path d=\"M 33.015625 40.375 \r\nQ 26.375 40.375 22.484375 35.828125 \r\nQ 18.609375 31.296875 18.609375 23.390625 \r\nQ 18.609375 15.53125 22.484375 10.953125 \r\nQ 26.375 6.390625 33.015625 6.390625 \r\nQ 39.65625 6.390625 43.53125 10.953125 \r\nQ 47.40625 15.53125 47.40625 23.390625 \r\nQ 47.40625 31.296875 43.53125 35.828125 \r\nQ 39.65625 40.375 33.015625 40.375 \r\nz\r\nM 52.59375 71.296875 \r\nL 52.59375 62.3125 \r\nQ 48.875 64.0625 45.09375 64.984375 \r\nQ 41.3125 65.921875 37.59375 65.921875 \r\nQ 27.828125 65.921875 22.671875 59.328125 \r\nQ 17.53125 52.734375 16.796875 39.40625 \r\nQ 19.671875 43.65625 24.015625 45.921875 \r\nQ 28.375 48.1875 33.59375 48.1875 \r\nQ 44.578125 48.1875 50.953125 41.515625 \r\nQ 57.328125 34.859375 57.328125 23.390625 \r\nQ 57.328125 12.15625 50.6875 5.359375 \r\nQ 44.046875 -1.421875 33.015625 -1.421875 \r\nQ 20.359375 -1.421875 13.671875 8.265625 \r\nQ 6.984375 17.96875 6.984375 36.375 \r\nQ 6.984375 53.65625 15.1875 63.9375 \r\nQ 23.390625 74.21875 37.203125 74.21875 \r\nQ 40.921875 74.21875 44.703125 73.484375 \r\nQ 48.484375 72.75 52.59375 71.296875 \r\nz\r\n\" id=\"DejaVuSans-54\"/>\r\n       </defs>\r\n       <use xlink:href=\"#DejaVuSans-54\"/>\r\n       <use x=\"63.623047\" xlink:href=\"#DejaVuSans-48\"/>\r\n      </g>\r\n     </g>\r\n    </g>\r\n    <g id=\"xtick_5\">\r\n     <g id=\"line2d_5\">\r\n      <g>\r\n       <use style=\"stroke:#000000;stroke-width:0.8;\" x=\"244.050287\" xlink:href=\"#m5db32f4107\" y=\"151.918125\"/>\r\n      </g>\r\n     </g>\r\n     <g id=\"text_5\">\r\n      <!-- 80 -->\r\n      <g transform=\"translate(246.809662 171.643125)rotate(-90)scale(0.1 -0.1)\">\r\n       <defs>\r\n        <path d=\"M 31.78125 34.625 \r\nQ 24.75 34.625 20.71875 30.859375 \r\nQ 16.703125 27.09375 16.703125 20.515625 \r\nQ 16.703125 13.921875 20.71875 10.15625 \r\nQ 24.75 6.390625 31.78125 6.390625 \r\nQ 38.8125 6.390625 42.859375 10.171875 \r\nQ 46.921875 13.96875 46.921875 20.515625 \r\nQ 46.921875 27.09375 42.890625 30.859375 \r\nQ 38.875 34.625 31.78125 34.625 \r\nz\r\nM 21.921875 38.8125 \r\nQ 15.578125 40.375 12.03125 44.71875 \r\nQ 8.5 49.078125 8.5 55.328125 \r\nQ 8.5 64.0625 14.71875 69.140625 \r\nQ 20.953125 74.21875 31.78125 74.21875 \r\nQ 42.671875 74.21875 48.875 69.140625 \r\nQ 55.078125 64.0625 55.078125 55.328125 \r\nQ 55.078125 49.078125 51.53125 44.71875 \r\nQ 48 40.375 41.703125 38.8125 \r\nQ 48.828125 37.15625 52.796875 32.3125 \r\nQ 56.78125 27.484375 56.78125 20.515625 \r\nQ 56.78125 9.90625 50.3125 4.234375 \r\nQ 43.84375 -1.421875 31.78125 -1.421875 \r\nQ 19.734375 -1.421875 13.25 4.234375 \r\nQ 6.78125 9.90625 6.78125 20.515625 \r\nQ 6.78125 27.484375 10.78125 32.3125 \r\nQ 14.796875 37.15625 21.921875 38.8125 \r\nz\r\nM 18.3125 54.390625 \r\nQ 18.3125 48.734375 21.84375 45.5625 \r\nQ 25.390625 42.390625 31.78125 42.390625 \r\nQ 38.140625 42.390625 41.71875 45.5625 \r\nQ 45.3125 48.734375 45.3125 54.390625 \r\nQ 45.3125 60.0625 41.71875 63.234375 \r\nQ 38.140625 66.40625 31.78125 66.40625 \r\nQ 25.390625 66.40625 21.84375 63.234375 \r\nQ 18.3125 60.0625 18.3125 54.390625 \r\nz\r\n\" id=\"DejaVuSans-56\"/>\r\n       </defs>\r\n       <use xlink:href=\"#DejaVuSans-56\"/>\r\n       <use x=\"63.623047\" xlink:href=\"#DejaVuSans-48\"/>\r\n      </g>\r\n     </g>\r\n    </g>\r\n    <g id=\"xtick_6\">\r\n     <g id=\"line2d_6\">\r\n      <g>\r\n       <use style=\"stroke:#000000;stroke-width:0.8;\" x=\"295.020731\" xlink:href=\"#m5db32f4107\" y=\"151.918125\"/>\r\n      </g>\r\n     </g>\r\n     <g id=\"text_6\">\r\n      <!-- 100 -->\r\n      <g transform=\"translate(297.780106 178.005625)rotate(-90)scale(0.1 -0.1)\">\r\n       <defs>\r\n        <path d=\"M 12.40625 8.296875 \r\nL 28.515625 8.296875 \r\nL 28.515625 63.921875 \r\nL 10.984375 60.40625 \r\nL 10.984375 69.390625 \r\nL 28.421875 72.90625 \r\nL 38.28125 72.90625 \r\nL 38.28125 8.296875 \r\nL 54.390625 8.296875 \r\nL 54.390625 0 \r\nL 12.40625 0 \r\nz\r\n\" id=\"DejaVuSans-49\"/>\r\n       </defs>\r\n       <use xlink:href=\"#DejaVuSans-49\"/>\r\n       <use x=\"63.623047\" xlink:href=\"#DejaVuSans-48\"/>\r\n       <use x=\"127.246094\" xlink:href=\"#DejaVuSans-48\"/>\r\n      </g>\r\n     </g>\r\n    </g>\r\n    <g id=\"xtick_7\">\r\n     <g id=\"line2d_7\">\r\n      <g>\r\n       <use style=\"stroke:#000000;stroke-width:0.8;\" x=\"345.991175\" xlink:href=\"#m5db32f4107\" y=\"151.918125\"/>\r\n      </g>\r\n     </g>\r\n     <g id=\"text_7\">\r\n      <!-- 120 -->\r\n      <g transform=\"translate(348.75055 178.005625)rotate(-90)scale(0.1 -0.1)\">\r\n       <use xlink:href=\"#DejaVuSans-49\"/>\r\n       <use x=\"63.623047\" xlink:href=\"#DejaVuSans-50\"/>\r\n       <use x=\"127.246094\" xlink:href=\"#DejaVuSans-48\"/>\r\n      </g>\r\n     </g>\r\n    </g>\r\n    <g id=\"xtick_8\">\r\n     <g id=\"line2d_8\">\r\n      <g>\r\n       <use style=\"stroke:#000000;stroke-width:0.8;\" x=\"396.96162\" xlink:href=\"#m5db32f4107\" y=\"151.918125\"/>\r\n      </g>\r\n     </g>\r\n     <g id=\"text_8\">\r\n      <!-- 140 -->\r\n      <g transform=\"translate(399.720995 178.005625)rotate(-90)scale(0.1 -0.1)\">\r\n       <use xlink:href=\"#DejaVuSans-49\"/>\r\n       <use x=\"63.623047\" xlink:href=\"#DejaVuSans-52\"/>\r\n       <use x=\"127.246094\" xlink:href=\"#DejaVuSans-48\"/>\r\n      </g>\r\n     </g>\r\n    </g>\r\n   </g>\r\n   <g id=\"matplotlib.axis_2\">\r\n    <g id=\"ytick_1\">\r\n     <g id=\"line2d_9\">\r\n      <defs>\r\n       <path d=\"M 0 0 \r\nL -3.5 0 \r\n\" id=\"m1c55539a6d\" style=\"stroke:#000000;stroke-width:0.8;\"/>\r\n      </defs>\r\n      <g>\r\n       <use style=\"stroke:#000000;stroke-width:0.8;\" x=\"33.2875\" xlink:href=\"#m1c55539a6d\" y=\"151.918125\"/>\r\n      </g>\r\n     </g>\r\n     <g id=\"text_9\">\r\n      <!-- 0 -->\r\n      <g transform=\"translate(19.925 155.717344)scale(0.1 -0.1)\">\r\n       <use xlink:href=\"#DejaVuSans-48\"/>\r\n      </g>\r\n     </g>\r\n    </g>\r\n    <g id=\"ytick_2\">\r\n     <g id=\"line2d_10\">\r\n      <g>\r\n       <use style=\"stroke:#000000;stroke-width:0.8;\" x=\"33.2875\" xlink:href=\"#m1c55539a6d\" y=\"127.232411\"/>\r\n      </g>\r\n     </g>\r\n     <g id=\"text_10\">\r\n      <!-- 20 -->\r\n      <g transform=\"translate(13.5625 131.031629)scale(0.1 -0.1)\">\r\n       <use xlink:href=\"#DejaVuSans-50\"/>\r\n       <use x=\"63.623047\" xlink:href=\"#DejaVuSans-48\"/>\r\n      </g>\r\n     </g>\r\n    </g>\r\n    <g id=\"ytick_3\">\r\n     <g id=\"line2d_11\">\r\n      <g>\r\n       <use style=\"stroke:#000000;stroke-width:0.8;\" x=\"33.2875\" xlink:href=\"#m1c55539a6d\" y=\"102.546696\"/>\r\n      </g>\r\n     </g>\r\n     <g id=\"text_11\">\r\n      <!-- 40 -->\r\n      <g transform=\"translate(13.5625 106.345915)scale(0.1 -0.1)\">\r\n       <use xlink:href=\"#DejaVuSans-52\"/>\r\n       <use x=\"63.623047\" xlink:href=\"#DejaVuSans-48\"/>\r\n      </g>\r\n     </g>\r\n    </g>\r\n    <g id=\"ytick_4\">\r\n     <g id=\"line2d_12\">\r\n      <g>\r\n       <use style=\"stroke:#000000;stroke-width:0.8;\" x=\"33.2875\" xlink:href=\"#m1c55539a6d\" y=\"77.860982\"/>\r\n      </g>\r\n     </g>\r\n     <g id=\"text_12\">\r\n      <!-- 60 -->\r\n      <g transform=\"translate(13.5625 81.660201)scale(0.1 -0.1)\">\r\n       <use xlink:href=\"#DejaVuSans-54\"/>\r\n       <use x=\"63.623047\" xlink:href=\"#DejaVuSans-48\"/>\r\n      </g>\r\n     </g>\r\n    </g>\r\n    <g id=\"ytick_5\">\r\n     <g id=\"line2d_13\">\r\n      <g>\r\n       <use style=\"stroke:#000000;stroke-width:0.8;\" x=\"33.2875\" xlink:href=\"#m1c55539a6d\" y=\"53.175268\"/>\r\n      </g>\r\n     </g>\r\n     <g id=\"text_13\">\r\n      <!-- 80 -->\r\n      <g transform=\"translate(13.5625 56.974487)scale(0.1 -0.1)\">\r\n       <use xlink:href=\"#DejaVuSans-56\"/>\r\n       <use x=\"63.623047\" xlink:href=\"#DejaVuSans-48\"/>\r\n      </g>\r\n     </g>\r\n    </g>\r\n    <g id=\"ytick_6\">\r\n     <g id=\"line2d_14\">\r\n      <g>\r\n       <use style=\"stroke:#000000;stroke-width:0.8;\" x=\"33.2875\" xlink:href=\"#m1c55539a6d\" y=\"28.489554\"/>\r\n      </g>\r\n     </g>\r\n     <g id=\"text_14\">\r\n      <!-- 100 -->\r\n      <g transform=\"translate(7.2 32.288772)scale(0.1 -0.1)\">\r\n       <use xlink:href=\"#DejaVuSans-49\"/>\r\n       <use x=\"63.623047\" xlink:href=\"#DejaVuSans-48\"/>\r\n       <use x=\"127.246094\" xlink:href=\"#DejaVuSans-48\"/>\r\n      </g>\r\n     </g>\r\n    </g>\r\n   </g>\r\n   <g id=\"patch_53\">\r\n    <path d=\"M 33.2875 151.918125 \r\nL 33.2875 22.318125 \r\n\" style=\"fill:none;stroke:#000000;stroke-linecap:square;stroke-linejoin:miter;stroke-width:0.8;\"/>\r\n   </g>\r\n   <g id=\"patch_54\">\r\n    <path d=\"M 408.939674 151.918125 \r\nL 408.939674 22.318125 \r\n\" style=\"fill:none;stroke:#000000;stroke-linecap:square;stroke-linejoin:miter;stroke-width:0.8;\"/>\r\n   </g>\r\n   <g id=\"patch_55\">\r\n    <path d=\"M 33.2875 151.918125 \r\nL 408.939674 151.918125 \r\n\" style=\"fill:none;stroke:#000000;stroke-linecap:square;stroke-linejoin:miter;stroke-width:0.8;\"/>\r\n   </g>\r\n   <g id=\"patch_56\">\r\n    <path d=\"M 33.2875 22.318125 \r\nL 408.939674 22.318125 \r\n\" style=\"fill:none;stroke:#000000;stroke-linecap:square;stroke-linejoin:miter;stroke-width:0.8;\"/>\r\n   </g>\r\n   <g id=\"text_15\">\r\n    <!-- hate -->\r\n    <g transform=\"translate(207.590149 16.318125)scale(0.12 -0.12)\">\r\n     <defs>\r\n      <path d=\"M 54.890625 33.015625 \r\nL 54.890625 0 \r\nL 45.90625 0 \r\nL 45.90625 32.71875 \r\nQ 45.90625 40.484375 42.875 44.328125 \r\nQ 39.84375 48.1875 33.796875 48.1875 \r\nQ 26.515625 48.1875 22.3125 43.546875 \r\nQ 18.109375 38.921875 18.109375 30.90625 \r\nL 18.109375 0 \r\nL 9.078125 0 \r\nL 9.078125 75.984375 \r\nL 18.109375 75.984375 \r\nL 18.109375 46.1875 \r\nQ 21.34375 51.125 25.703125 53.5625 \r\nQ 30.078125 56 35.796875 56 \r\nQ 45.21875 56 50.046875 50.171875 \r\nQ 54.890625 44.34375 54.890625 33.015625 \r\nz\r\n\" id=\"DejaVuSans-104\"/>\r\n      <path d=\"M 34.28125 27.484375 \r\nQ 23.390625 27.484375 19.1875 25 \r\nQ 14.984375 22.515625 14.984375 16.5 \r\nQ 14.984375 11.71875 18.140625 8.90625 \r\nQ 21.296875 6.109375 26.703125 6.109375 \r\nQ 34.1875 6.109375 38.703125 11.40625 \r\nQ 43.21875 16.703125 43.21875 25.484375 \r\nL 43.21875 27.484375 \r\nz\r\nM 52.203125 31.203125 \r\nL 52.203125 0 \r\nL 43.21875 0 \r\nL 43.21875 8.296875 \r\nQ 40.140625 3.328125 35.546875 0.953125 \r\nQ 30.953125 -1.421875 24.3125 -1.421875 \r\nQ 15.921875 -1.421875 10.953125 3.296875 \r\nQ 6 8.015625 6 15.921875 \r\nQ 6 25.140625 12.171875 29.828125 \r\nQ 18.359375 34.515625 30.609375 34.515625 \r\nL 43.21875 34.515625 \r\nL 43.21875 35.40625 \r\nQ 43.21875 41.609375 39.140625 45 \r\nQ 35.0625 48.390625 27.6875 48.390625 \r\nQ 23 48.390625 18.546875 47.265625 \r\nQ 14.109375 46.140625 10.015625 43.890625 \r\nL 10.015625 52.203125 \r\nQ 14.9375 54.109375 19.578125 55.046875 \r\nQ 24.21875 56 28.609375 56 \r\nQ 40.484375 56 46.34375 49.84375 \r\nQ 52.203125 43.703125 52.203125 31.203125 \r\nz\r\n\" id=\"DejaVuSans-97\"/>\r\n      <path d=\"M 18.3125 70.21875 \r\nL 18.3125 54.6875 \r\nL 36.8125 54.6875 \r\nL 36.8125 47.703125 \r\nL 18.3125 47.703125 \r\nL 18.3125 18.015625 \r\nQ 18.3125 11.328125 20.140625 9.421875 \r\nQ 21.96875 7.515625 27.59375 7.515625 \r\nL 36.8125 7.515625 \r\nL 36.8125 0 \r\nL 27.59375 0 \r\nQ 17.1875 0 13.234375 3.875 \r\nQ 9.28125 7.765625 9.28125 18.015625 \r\nL 9.28125 47.703125 \r\nL 2.6875 47.703125 \r\nL 2.6875 54.6875 \r\nL 9.28125 54.6875 \r\nL 9.28125 70.21875 \r\nz\r\n\" id=\"DejaVuSans-116\"/>\r\n      <path d=\"M 56.203125 29.59375 \r\nL 56.203125 25.203125 \r\nL 14.890625 25.203125 \r\nQ 15.484375 15.921875 20.484375 11.0625 \r\nQ 25.484375 6.203125 34.421875 6.203125 \r\nQ 39.59375 6.203125 44.453125 7.46875 \r\nQ 49.3125 8.734375 54.109375 11.28125 \r\nL 54.109375 2.78125 \r\nQ 49.265625 0.734375 44.1875 -0.34375 \r\nQ 39.109375 -1.421875 33.890625 -1.421875 \r\nQ 20.796875 -1.421875 13.15625 6.1875 \r\nQ 5.515625 13.8125 5.515625 26.8125 \r\nQ 5.515625 40.234375 12.765625 48.109375 \r\nQ 20.015625 56 32.328125 56 \r\nQ 43.359375 56 49.78125 48.890625 \r\nQ 56.203125 41.796875 56.203125 29.59375 \r\nz\r\nM 47.21875 32.234375 \r\nQ 47.125 39.59375 43.09375 43.984375 \r\nQ 39.0625 48.390625 32.421875 48.390625 \r\nQ 24.90625 48.390625 20.390625 44.140625 \r\nQ 15.875 39.890625 15.1875 32.171875 \r\nz\r\n\" id=\"DejaVuSans-101\"/>\r\n     </defs>\r\n     <use xlink:href=\"#DejaVuSans-104\"/>\r\n     <use x=\"63.378906\" xlink:href=\"#DejaVuSans-97\"/>\r\n     <use x=\"124.658203\" xlink:href=\"#DejaVuSans-116\"/>\r\n     <use x=\"163.867188\" xlink:href=\"#DejaVuSans-101\"/>\r\n    </g>\r\n   </g>\r\n  </g>\r\n  <g id=\"axes_2\">\r\n   <g id=\"patch_57\">\r\n    <path d=\"M 521.635326 151.918125 \r\nL 897.2875 151.918125 \r\nL 897.2875 22.318125 \r\nL 521.635326 22.318125 \r\nz\r\n\" style=\"fill:#ffffff;\"/>\r\n   </g>\r\n   <g id=\"patch_58\">\r\n    <path clip-path=\"url(#p01e0084827)\" d=\"M 538.710425 151.918125 \r\nL 545.540464 151.918125 \r\nL 545.540464 150.760982 \r\nL 538.710425 150.760982 \r\nz\r\n\" style=\"fill:#1f77b4;\"/>\r\n   </g>\r\n   <g id=\"patch_59\">\r\n    <path clip-path=\"url(#p01e0084827)\" d=\"M 545.540464 151.918125 \r\nL 552.370504 151.918125 \r\nL 552.370504 132.632411 \r\nL 545.540464 132.632411 \r\nz\r\n\" style=\"fill:#1f77b4;\"/>\r\n   </g>\r\n   <g id=\"patch_60\">\r\n    <path clip-path=\"url(#p01e0084827)\" d=\"M 552.370504 151.918125 \r\nL 559.200543 151.918125 \r\nL 559.200543 57.032411 \r\nL 552.370504 57.032411 \r\nz\r\n\" style=\"fill:#1f77b4;\"/>\r\n   </g>\r\n   <g id=\"patch_61\">\r\n    <path clip-path=\"url(#p01e0084827)\" d=\"M 559.200543 151.918125 \r\nL 566.030583 151.918125 \r\nL 566.030583 82.875268 \r\nL 559.200543 82.875268 \r\nz\r\n\" style=\"fill:#1f77b4;\"/>\r\n   </g>\r\n   <g id=\"patch_62\">\r\n    <path clip-path=\"url(#p01e0084827)\" d=\"M 566.030583 151.918125 \r\nL 572.860623 151.918125 \r\nL 572.860623 43.532411 \r\nL 566.030583 43.532411 \r\nz\r\n\" style=\"fill:#1f77b4;\"/>\r\n   </g>\r\n   <g id=\"patch_63\">\r\n    <path clip-path=\"url(#p01e0084827)\" d=\"M 572.860623 151.918125 \r\nL 579.690662 151.918125 \r\nL 579.690662 28.489554 \r\nL 572.860623 28.489554 \r\nz\r\n\" style=\"fill:#1f77b4;\"/>\r\n   </g>\r\n   <g id=\"patch_64\">\r\n    <path clip-path=\"url(#p01e0084827)\" d=\"M 579.690662 151.918125 \r\nL 586.520702 151.918125 \r\nL 586.520702 59.346696 \r\nL 579.690662 59.346696 \r\nz\r\n\" style=\"fill:#1f77b4;\"/>\r\n   </g>\r\n   <g id=\"patch_65\">\r\n    <path clip-path=\"url(#p01e0084827)\" d=\"M 586.520702 151.918125 \r\nL 593.350741 151.918125 \r\nL 593.350741 94.446696 \r\nL 586.520702 94.446696 \r\nz\r\n\" style=\"fill:#1f77b4;\"/>\r\n   </g>\r\n   <g id=\"patch_66\">\r\n    <path clip-path=\"url(#p01e0084827)\" d=\"M 593.350741 151.918125 \r\nL 600.180781 151.918125 \r\nL 600.180781 79.403839 \r\nL 593.350741 79.403839 \r\nz\r\n\" style=\"fill:#1f77b4;\"/>\r\n   </g>\r\n   <g id=\"patch_67\">\r\n    <path clip-path=\"url(#p01e0084827)\" d=\"M 600.180781 151.918125 \r\nL 607.01082 151.918125 \r\nL 607.01082 72.460982 \r\nL 600.180781 72.460982 \r\nz\r\n\" style=\"fill:#1f77b4;\"/>\r\n   </g>\r\n   <g id=\"patch_68\">\r\n    <path clip-path=\"url(#p01e0084827)\" d=\"M 607.01082 151.918125 \r\nL 613.84086 151.918125 \r\nL 613.84086 108.332411 \r\nL 607.01082 108.332411 \r\nz\r\n\" style=\"fill:#1f77b4;\"/>\r\n   </g>\r\n   <g id=\"patch_69\">\r\n    <path clip-path=\"url(#p01e0084827)\" d=\"M 613.84086 151.918125 \r\nL 620.670899 151.918125 \r\nL 620.670899 95.218125 \r\nL 613.84086 95.218125 \r\nz\r\n\" style=\"fill:#1f77b4;\"/>\r\n   </g>\r\n   <g id=\"patch_70\">\r\n    <path clip-path=\"url(#p01e0084827)\" d=\"M 620.670899 151.918125 \r\nL 627.500939 151.918125 \r\nL 627.500939 100.232411 \r\nL 620.670899 100.232411 \r\nz\r\n\" style=\"fill:#1f77b4;\"/>\r\n   </g>\r\n   <g id=\"patch_71\">\r\n    <path clip-path=\"url(#p01e0084827)\" d=\"M 627.500939 151.918125 \r\nL 634.330978 151.918125 \r\nL 634.330978 111.418125 \r\nL 627.500939 111.418125 \r\nz\r\n\" style=\"fill:#1f77b4;\"/>\r\n   </g>\r\n   <g id=\"patch_72\">\r\n    <path clip-path=\"url(#p01e0084827)\" d=\"M 634.330978 151.918125 \r\nL 641.161018 151.918125 \r\nL 641.161018 122.603839 \r\nL 634.330978 122.603839 \r\nz\r\n\" style=\"fill:#1f77b4;\"/>\r\n   </g>\r\n   <g id=\"patch_73\">\r\n    <path clip-path=\"url(#p01e0084827)\" d=\"M 641.161018 151.918125 \r\nL 647.991057 151.918125 \r\nL 647.991057 116.818125 \r\nL 641.161018 116.818125 \r\nz\r\n\" style=\"fill:#1f77b4;\"/>\r\n   </g>\r\n   <g id=\"patch_74\">\r\n    <path clip-path=\"url(#p01e0084827)\" d=\"M 647.991057 151.918125 \r\nL 654.821097 151.918125 \r\nL 654.821097 114.889554 \r\nL 647.991057 114.889554 \r\nz\r\n\" style=\"fill:#1f77b4;\"/>\r\n   </g>\r\n   <g id=\"patch_75\">\r\n    <path clip-path=\"url(#p01e0084827)\" d=\"M 654.821097 151.918125 \r\nL 661.651136 151.918125 \r\nL 661.651136 131.089554 \r\nL 654.821097 131.089554 \r\nz\r\n\" style=\"fill:#1f77b4;\"/>\r\n   </g>\r\n   <g id=\"patch_76\">\r\n    <path clip-path=\"url(#p01e0084827)\" d=\"M 661.651136 151.918125 \r\nL 668.481176 151.918125 \r\nL 668.481176 114.503839 \r\nL 661.651136 114.503839 \r\nz\r\n\" style=\"fill:#1f77b4;\"/>\r\n   </g>\r\n   <g id=\"patch_77\">\r\n    <path clip-path=\"url(#p01e0084827)\" d=\"M 668.481176 151.918125 \r\nL 675.311215 151.918125 \r\nL 675.311215 126.846696 \r\nL 668.481176 126.846696 \r\nz\r\n\" style=\"fill:#1f77b4;\"/>\r\n   </g>\r\n   <g id=\"patch_78\">\r\n    <path clip-path=\"url(#p01e0084827)\" d=\"M 675.311215 151.918125 \r\nL 682.141255 151.918125 \r\nL 682.141255 128.389554 \r\nL 675.311215 128.389554 \r\nz\r\n\" style=\"fill:#1f77b4;\"/>\r\n   </g>\r\n   <g id=\"patch_79\">\r\n    <path clip-path=\"url(#p01e0084827)\" d=\"M 682.141255 151.918125 \r\nL 688.971294 151.918125 \r\nL 688.971294 134.946696 \r\nL 682.141255 134.946696 \r\nz\r\n\" style=\"fill:#1f77b4;\"/>\r\n   </g>\r\n   <g id=\"patch_80\">\r\n    <path clip-path=\"url(#p01e0084827)\" d=\"M 688.971294 151.918125 \r\nL 695.801334 151.918125 \r\nL 695.801334 130.703839 \r\nL 688.971294 130.703839 \r\nz\r\n\" style=\"fill:#1f77b4;\"/>\r\n   </g>\r\n   <g id=\"patch_81\">\r\n    <path clip-path=\"url(#p01e0084827)\" d=\"M 695.801334 151.918125 \r\nL 702.631374 151.918125 \r\nL 702.631374 138.032411 \r\nL 695.801334 138.032411 \r\nz\r\n\" style=\"fill:#1f77b4;\"/>\r\n   </g>\r\n   <g id=\"patch_82\">\r\n    <path clip-path=\"url(#p01e0084827)\" d=\"M 702.631374 151.918125 \r\nL 709.461413 151.918125 \r\nL 709.461413 143.818125 \r\nL 702.631374 143.818125 \r\nz\r\n\" style=\"fill:#1f77b4;\"/>\r\n   </g>\r\n   <g id=\"patch_83\">\r\n    <path clip-path=\"url(#p01e0084827)\" d=\"M 709.461413 151.918125 \r\nL 716.291453 151.918125 \r\nL 716.291453 136.103839 \r\nL 709.461413 136.103839 \r\nz\r\n\" style=\"fill:#1f77b4;\"/>\r\n   </g>\r\n   <g id=\"patch_84\">\r\n    <path clip-path=\"url(#p01e0084827)\" d=\"M 716.291453 151.918125 \r\nL 723.121492 151.918125 \r\nL 723.121492 134.946696 \r\nL 716.291453 134.946696 \r\nz\r\n\" style=\"fill:#1f77b4;\"/>\r\n   </g>\r\n   <g id=\"patch_85\">\r\n    <path clip-path=\"url(#p01e0084827)\" d=\"M 723.121492 151.918125 \r\nL 729.951532 151.918125 \r\nL 729.951532 136.103839 \r\nL 723.121492 136.103839 \r\nz\r\n\" style=\"fill:#1f77b4;\"/>\r\n   </g>\r\n   <g id=\"patch_86\">\r\n    <path clip-path=\"url(#p01e0084827)\" d=\"M 729.951532 151.918125 \r\nL 736.781571 151.918125 \r\nL 736.781571 143.432411 \r\nL 729.951532 143.432411 \r\nz\r\n\" style=\"fill:#1f77b4;\"/>\r\n   </g>\r\n   <g id=\"patch_87\">\r\n    <path clip-path=\"url(#p01e0084827)\" d=\"M 736.781571 151.918125 \r\nL 743.611611 151.918125 \r\nL 743.611611 142.275268 \r\nL 736.781571 142.275268 \r\nz\r\n\" style=\"fill:#1f77b4;\"/>\r\n   </g>\r\n   <g id=\"patch_88\">\r\n    <path clip-path=\"url(#p01e0084827)\" d=\"M 743.611611 151.918125 \r\nL 750.44165 151.918125 \r\nL 750.44165 141.889554 \r\nL 743.611611 141.889554 \r\nz\r\n\" style=\"fill:#1f77b4;\"/>\r\n   </g>\r\n   <g id=\"patch_89\">\r\n    <path clip-path=\"url(#p01e0084827)\" d=\"M 750.44165 151.918125 \r\nL 757.27169 151.918125 \r\nL 757.27169 143.818125 \r\nL 750.44165 143.818125 \r\nz\r\n\" style=\"fill:#1f77b4;\"/>\r\n   </g>\r\n   <g id=\"patch_90\">\r\n    <path clip-path=\"url(#p01e0084827)\" d=\"M 757.27169 151.918125 \r\nL 764.101729 151.918125 \r\nL 764.101729 144.203839 \r\nL 757.27169 144.203839 \r\nz\r\n\" style=\"fill:#1f77b4;\"/>\r\n   </g>\r\n   <g id=\"patch_91\">\r\n    <path clip-path=\"url(#p01e0084827)\" d=\"M 764.101729 151.918125 \r\nL 770.931769 151.918125 \r\nL 770.931769 139.575268 \r\nL 764.101729 139.575268 \r\nz\r\n\" style=\"fill:#1f77b4;\"/>\r\n   </g>\r\n   <g id=\"patch_92\">\r\n    <path clip-path=\"url(#p01e0084827)\" d=\"M 770.931769 151.918125 \r\nL 777.761808 151.918125 \r\nL 777.761808 146.518125 \r\nL 770.931769 146.518125 \r\nz\r\n\" style=\"fill:#1f77b4;\"/>\r\n   </g>\r\n   <g id=\"patch_93\">\r\n    <path clip-path=\"url(#p01e0084827)\" d=\"M 777.761808 151.918125 \r\nL 784.591848 151.918125 \r\nL 784.591848 147.289554 \r\nL 777.761808 147.289554 \r\nz\r\n\" style=\"fill:#1f77b4;\"/>\r\n   </g>\r\n   <g id=\"patch_94\">\r\n    <path clip-path=\"url(#p01e0084827)\" d=\"M 784.591848 151.918125 \r\nL 791.421887 151.918125 \r\nL 791.421887 145.746696 \r\nL 784.591848 145.746696 \r\nz\r\n\" style=\"fill:#1f77b4;\"/>\r\n   </g>\r\n   <g id=\"patch_95\">\r\n    <path clip-path=\"url(#p01e0084827)\" d=\"M 791.421887 151.918125 \r\nL 798.251927 151.918125 \r\nL 798.251927 143.432411 \r\nL 791.421887 143.432411 \r\nz\r\n\" style=\"fill:#1f77b4;\"/>\r\n   </g>\r\n   <g id=\"patch_96\">\r\n    <path clip-path=\"url(#p01e0084827)\" d=\"M 798.251927 151.918125 \r\nL 805.081966 151.918125 \r\nL 805.081966 145.360982 \r\nL 798.251927 145.360982 \r\nz\r\n\" style=\"fill:#1f77b4;\"/>\r\n   </g>\r\n   <g id=\"patch_97\">\r\n    <path clip-path=\"url(#p01e0084827)\" d=\"M 805.081966 151.918125 \r\nL 811.912006 151.918125 \r\nL 811.912006 149.989554 \r\nL 805.081966 149.989554 \r\nz\r\n\" style=\"fill:#1f77b4;\"/>\r\n   </g>\r\n   <g id=\"patch_98\">\r\n    <path clip-path=\"url(#p01e0084827)\" d=\"M 811.912006 151.918125 \r\nL 818.742045 151.918125 \r\nL 818.742045 148.832411 \r\nL 811.912006 148.832411 \r\nz\r\n\" style=\"fill:#1f77b4;\"/>\r\n   </g>\r\n   <g id=\"patch_99\">\r\n    <path clip-path=\"url(#p01e0084827)\" d=\"M 818.742045 151.918125 \r\nL 825.572085 151.918125 \r\nL 825.572085 148.446696 \r\nL 818.742045 148.446696 \r\nz\r\n\" style=\"fill:#1f77b4;\"/>\r\n   </g>\r\n   <g id=\"patch_100\">\r\n    <path clip-path=\"url(#p01e0084827)\" d=\"M 825.572085 151.918125 \r\nL 832.402125 151.918125 \r\nL 832.402125 148.060982 \r\nL 825.572085 148.060982 \r\nz\r\n\" style=\"fill:#1f77b4;\"/>\r\n   </g>\r\n   <g id=\"patch_101\">\r\n    <path clip-path=\"url(#p01e0084827)\" d=\"M 832.402125 151.918125 \r\nL 839.232164 151.918125 \r\nL 839.232164 148.060982 \r\nL 832.402125 148.060982 \r\nz\r\n\" style=\"fill:#1f77b4;\"/>\r\n   </g>\r\n   <g id=\"patch_102\">\r\n    <path clip-path=\"url(#p01e0084827)\" d=\"M 839.232164 151.918125 \r\nL 846.062204 151.918125 \r\nL 846.062204 146.903839 \r\nL 839.232164 146.903839 \r\nz\r\n\" style=\"fill:#1f77b4;\"/>\r\n   </g>\r\n   <g id=\"patch_103\">\r\n    <path clip-path=\"url(#p01e0084827)\" d=\"M 846.062204 151.918125 \r\nL 852.892243 151.918125 \r\nL 852.892243 148.832411 \r\nL 846.062204 148.832411 \r\nz\r\n\" style=\"fill:#1f77b4;\"/>\r\n   </g>\r\n   <g id=\"patch_104\">\r\n    <path clip-path=\"url(#p01e0084827)\" d=\"M 852.892243 151.918125 \r\nL 859.722283 151.918125 \r\nL 859.722283 150.375268 \r\nL 852.892243 150.375268 \r\nz\r\n\" style=\"fill:#1f77b4;\"/>\r\n   </g>\r\n   <g id=\"patch_105\">\r\n    <path clip-path=\"url(#p01e0084827)\" d=\"M 859.722283 151.918125 \r\nL 866.552322 151.918125 \r\nL 866.552322 149.603839 \r\nL 859.722283 149.603839 \r\nz\r\n\" style=\"fill:#1f77b4;\"/>\r\n   </g>\r\n   <g id=\"patch_106\">\r\n    <path clip-path=\"url(#p01e0084827)\" d=\"M 866.552322 151.918125 \r\nL 873.382362 151.918125 \r\nL 873.382362 151.146696 \r\nL 866.552322 151.146696 \r\nz\r\n\" style=\"fill:#1f77b4;\"/>\r\n   </g>\r\n   <g id=\"patch_107\">\r\n    <path clip-path=\"url(#p01e0084827)\" d=\"M 873.382362 151.918125 \r\nL 880.212401 151.918125 \r\nL 880.212401 151.532411 \r\nL 873.382362 151.532411 \r\nz\r\n\" style=\"fill:#1f77b4;\"/>\r\n   </g>\r\n   <g id=\"matplotlib.axis_3\">\r\n    <g id=\"xtick_9\">\r\n     <g id=\"line2d_15\">\r\n      <g>\r\n       <use style=\"stroke:#000000;stroke-width:0.8;\" x=\"536.199381\" xlink:href=\"#m5db32f4107\" y=\"151.918125\"/>\r\n      </g>\r\n     </g>\r\n     <g id=\"text_16\">\r\n      <!-- 0 -->\r\n      <g transform=\"translate(538.958756 165.280625)rotate(-90)scale(0.1 -0.1)\">\r\n       <use xlink:href=\"#DejaVuSans-48\"/>\r\n      </g>\r\n     </g>\r\n    </g>\r\n    <g id=\"xtick_10\">\r\n     <g id=\"line2d_16\">\r\n      <g>\r\n       <use style=\"stroke:#000000;stroke-width:0.8;\" x=\"586.42026\" xlink:href=\"#m5db32f4107\" y=\"151.918125\"/>\r\n      </g>\r\n     </g>\r\n     <g id=\"text_17\">\r\n      <!-- 20 -->\r\n      <g transform=\"translate(589.179635 171.643125)rotate(-90)scale(0.1 -0.1)\">\r\n       <use xlink:href=\"#DejaVuSans-50\"/>\r\n       <use x=\"63.623047\" xlink:href=\"#DejaVuSans-48\"/>\r\n      </g>\r\n     </g>\r\n    </g>\r\n    <g id=\"xtick_11\">\r\n     <g id=\"line2d_17\">\r\n      <g>\r\n       <use style=\"stroke:#000000;stroke-width:0.8;\" x=\"636.641139\" xlink:href=\"#m5db32f4107\" y=\"151.918125\"/>\r\n      </g>\r\n     </g>\r\n     <g id=\"text_18\">\r\n      <!-- 40 -->\r\n      <g transform=\"translate(639.400514 171.643125)rotate(-90)scale(0.1 -0.1)\">\r\n       <use xlink:href=\"#DejaVuSans-52\"/>\r\n       <use x=\"63.623047\" xlink:href=\"#DejaVuSans-48\"/>\r\n      </g>\r\n     </g>\r\n    </g>\r\n    <g id=\"xtick_12\">\r\n     <g id=\"line2d_18\">\r\n      <g>\r\n       <use style=\"stroke:#000000;stroke-width:0.8;\" x=\"686.862018\" xlink:href=\"#m5db32f4107\" y=\"151.918125\"/>\r\n      </g>\r\n     </g>\r\n     <g id=\"text_19\">\r\n      <!-- 60 -->\r\n      <g transform=\"translate(689.621393 171.643125)rotate(-90)scale(0.1 -0.1)\">\r\n       <use xlink:href=\"#DejaVuSans-54\"/>\r\n       <use x=\"63.623047\" xlink:href=\"#DejaVuSans-48\"/>\r\n      </g>\r\n     </g>\r\n    </g>\r\n    <g id=\"xtick_13\">\r\n     <g id=\"line2d_19\">\r\n      <g>\r\n       <use style=\"stroke:#000000;stroke-width:0.8;\" x=\"737.082896\" xlink:href=\"#m5db32f4107\" y=\"151.918125\"/>\r\n      </g>\r\n     </g>\r\n     <g id=\"text_20\">\r\n      <!-- 80 -->\r\n      <g transform=\"translate(739.842271 171.643125)rotate(-90)scale(0.1 -0.1)\">\r\n       <use xlink:href=\"#DejaVuSans-56\"/>\r\n       <use x=\"63.623047\" xlink:href=\"#DejaVuSans-48\"/>\r\n      </g>\r\n     </g>\r\n    </g>\r\n    <g id=\"xtick_14\">\r\n     <g id=\"line2d_20\">\r\n      <g>\r\n       <use style=\"stroke:#000000;stroke-width:0.8;\" x=\"787.303775\" xlink:href=\"#m5db32f4107\" y=\"151.918125\"/>\r\n      </g>\r\n     </g>\r\n     <g id=\"text_21\">\r\n      <!-- 100 -->\r\n      <g transform=\"translate(790.06315 178.005625)rotate(-90)scale(0.1 -0.1)\">\r\n       <use xlink:href=\"#DejaVuSans-49\"/>\r\n       <use x=\"63.623047\" xlink:href=\"#DejaVuSans-48\"/>\r\n       <use x=\"127.246094\" xlink:href=\"#DejaVuSans-48\"/>\r\n      </g>\r\n     </g>\r\n    </g>\r\n    <g id=\"xtick_15\">\r\n     <g id=\"line2d_21\">\r\n      <g>\r\n       <use style=\"stroke:#000000;stroke-width:0.8;\" x=\"837.524654\" xlink:href=\"#m5db32f4107\" y=\"151.918125\"/>\r\n      </g>\r\n     </g>\r\n     <g id=\"text_22\">\r\n      <!-- 120 -->\r\n      <g transform=\"translate(840.284029 178.005625)rotate(-90)scale(0.1 -0.1)\">\r\n       <use xlink:href=\"#DejaVuSans-49\"/>\r\n       <use x=\"63.623047\" xlink:href=\"#DejaVuSans-50\"/>\r\n       <use x=\"127.246094\" xlink:href=\"#DejaVuSans-48\"/>\r\n      </g>\r\n     </g>\r\n    </g>\r\n    <g id=\"xtick_16\">\r\n     <g id=\"line2d_22\">\r\n      <g>\r\n       <use style=\"stroke:#000000;stroke-width:0.8;\" x=\"887.745533\" xlink:href=\"#m5db32f4107\" y=\"151.918125\"/>\r\n      </g>\r\n     </g>\r\n     <g id=\"text_23\">\r\n      <!-- 140 -->\r\n      <g transform=\"translate(890.504908 178.005625)rotate(-90)scale(0.1 -0.1)\">\r\n       <use xlink:href=\"#DejaVuSans-49\"/>\r\n       <use x=\"63.623047\" xlink:href=\"#DejaVuSans-52\"/>\r\n       <use x=\"127.246094\" xlink:href=\"#DejaVuSans-48\"/>\r\n      </g>\r\n     </g>\r\n    </g>\r\n   </g>\r\n   <g id=\"matplotlib.axis_4\">\r\n    <g id=\"ytick_7\">\r\n     <g id=\"line2d_23\">\r\n      <g>\r\n       <use style=\"stroke:#000000;stroke-width:0.8;\" x=\"521.635326\" xlink:href=\"#m1c55539a6d\" y=\"151.918125\"/>\r\n      </g>\r\n     </g>\r\n     <g id=\"text_24\">\r\n      <!-- 0 -->\r\n      <g transform=\"translate(508.272826 155.717344)scale(0.1 -0.1)\">\r\n       <use xlink:href=\"#DejaVuSans-48\"/>\r\n      </g>\r\n     </g>\r\n    </g>\r\n    <g id=\"ytick_8\">\r\n     <g id=\"line2d_24\">\r\n      <g>\r\n       <use style=\"stroke:#000000;stroke-width:0.8;\" x=\"521.635326\" xlink:href=\"#m1c55539a6d\" y=\"113.346696\"/>\r\n      </g>\r\n     </g>\r\n     <g id=\"text_25\">\r\n      <!-- 100 -->\r\n      <g transform=\"translate(495.547826 117.145915)scale(0.1 -0.1)\">\r\n       <use xlink:href=\"#DejaVuSans-49\"/>\r\n       <use x=\"63.623047\" xlink:href=\"#DejaVuSans-48\"/>\r\n       <use x=\"127.246094\" xlink:href=\"#DejaVuSans-48\"/>\r\n      </g>\r\n     </g>\r\n    </g>\r\n    <g id=\"ytick_9\">\r\n     <g id=\"line2d_25\">\r\n      <g>\r\n       <use style=\"stroke:#000000;stroke-width:0.8;\" x=\"521.635326\" xlink:href=\"#m1c55539a6d\" y=\"74.775268\"/>\r\n      </g>\r\n     </g>\r\n     <g id=\"text_26\">\r\n      <!-- 200 -->\r\n      <g transform=\"translate(495.547826 78.574487)scale(0.1 -0.1)\">\r\n       <use xlink:href=\"#DejaVuSans-50\"/>\r\n       <use x=\"63.623047\" xlink:href=\"#DejaVuSans-48\"/>\r\n       <use x=\"127.246094\" xlink:href=\"#DejaVuSans-48\"/>\r\n      </g>\r\n     </g>\r\n    </g>\r\n    <g id=\"ytick_10\">\r\n     <g id=\"line2d_26\">\r\n      <g>\r\n       <use style=\"stroke:#000000;stroke-width:0.8;\" x=\"521.635326\" xlink:href=\"#m1c55539a6d\" y=\"36.203839\"/>\r\n      </g>\r\n     </g>\r\n     <g id=\"text_27\">\r\n      <!-- 300 -->\r\n      <g transform=\"translate(495.547826 40.003058)scale(0.1 -0.1)\">\r\n       <defs>\r\n        <path d=\"M 40.578125 39.3125 \r\nQ 47.65625 37.796875 51.625 33 \r\nQ 55.609375 28.21875 55.609375 21.1875 \r\nQ 55.609375 10.40625 48.1875 4.484375 \r\nQ 40.765625 -1.421875 27.09375 -1.421875 \r\nQ 22.515625 -1.421875 17.65625 -0.515625 \r\nQ 12.796875 0.390625 7.625 2.203125 \r\nL 7.625 11.71875 \r\nQ 11.71875 9.328125 16.59375 8.109375 \r\nQ 21.484375 6.890625 26.8125 6.890625 \r\nQ 36.078125 6.890625 40.9375 10.546875 \r\nQ 45.796875 14.203125 45.796875 21.1875 \r\nQ 45.796875 27.640625 41.28125 31.265625 \r\nQ 36.765625 34.90625 28.71875 34.90625 \r\nL 20.21875 34.90625 \r\nL 20.21875 43.015625 \r\nL 29.109375 43.015625 \r\nQ 36.375 43.015625 40.234375 45.921875 \r\nQ 44.09375 48.828125 44.09375 54.296875 \r\nQ 44.09375 59.90625 40.109375 62.90625 \r\nQ 36.140625 65.921875 28.71875 65.921875 \r\nQ 24.65625 65.921875 20.015625 65.03125 \r\nQ 15.375 64.15625 9.8125 62.3125 \r\nL 9.8125 71.09375 \r\nQ 15.4375 72.65625 20.34375 73.4375 \r\nQ 25.25 74.21875 29.59375 74.21875 \r\nQ 40.828125 74.21875 47.359375 69.109375 \r\nQ 53.90625 64.015625 53.90625 55.328125 \r\nQ 53.90625 49.265625 50.4375 45.09375 \r\nQ 46.96875 40.921875 40.578125 39.3125 \r\nz\r\n\" id=\"DejaVuSans-51\"/>\r\n       </defs>\r\n       <use xlink:href=\"#DejaVuSans-51\"/>\r\n       <use x=\"63.623047\" xlink:href=\"#DejaVuSans-48\"/>\r\n       <use x=\"127.246094\" xlink:href=\"#DejaVuSans-48\"/>\r\n      </g>\r\n     </g>\r\n    </g>\r\n   </g>\r\n   <g id=\"patch_108\">\r\n    <path d=\"M 521.635326 151.918125 \r\nL 521.635326 22.318125 \r\n\" style=\"fill:none;stroke:#000000;stroke-linecap:square;stroke-linejoin:miter;stroke-width:0.8;\"/>\r\n   </g>\r\n   <g id=\"patch_109\">\r\n    <path d=\"M 897.2875 151.918125 \r\nL 897.2875 22.318125 \r\n\" style=\"fill:none;stroke:#000000;stroke-linecap:square;stroke-linejoin:miter;stroke-width:0.8;\"/>\r\n   </g>\r\n   <g id=\"patch_110\">\r\n    <path d=\"M 521.635326 151.918125 \r\nL 897.2875 151.918125 \r\n\" style=\"fill:none;stroke:#000000;stroke-linecap:square;stroke-linejoin:miter;stroke-width:0.8;\"/>\r\n   </g>\r\n   <g id=\"patch_111\">\r\n    <path d=\"M 521.635326 22.318125 \r\nL 897.2875 22.318125 \r\n\" style=\"fill:none;stroke:#000000;stroke-linecap:square;stroke-linejoin:miter;stroke-width:0.8;\"/>\r\n   </g>\r\n   <g id=\"text_28\">\r\n    <!-- none -->\r\n    <g transform=\"translate(694.493288 16.318125)scale(0.12 -0.12)\">\r\n     <defs>\r\n      <path d=\"M 54.890625 33.015625 \r\nL 54.890625 0 \r\nL 45.90625 0 \r\nL 45.90625 32.71875 \r\nQ 45.90625 40.484375 42.875 44.328125 \r\nQ 39.84375 48.1875 33.796875 48.1875 \r\nQ 26.515625 48.1875 22.3125 43.546875 \r\nQ 18.109375 38.921875 18.109375 30.90625 \r\nL 18.109375 0 \r\nL 9.078125 0 \r\nL 9.078125 54.6875 \r\nL 18.109375 54.6875 \r\nL 18.109375 46.1875 \r\nQ 21.34375 51.125 25.703125 53.5625 \r\nQ 30.078125 56 35.796875 56 \r\nQ 45.21875 56 50.046875 50.171875 \r\nQ 54.890625 44.34375 54.890625 33.015625 \r\nz\r\n\" id=\"DejaVuSans-110\"/>\r\n      <path d=\"M 30.609375 48.390625 \r\nQ 23.390625 48.390625 19.1875 42.75 \r\nQ 14.984375 37.109375 14.984375 27.296875 \r\nQ 14.984375 17.484375 19.15625 11.84375 \r\nQ 23.34375 6.203125 30.609375 6.203125 \r\nQ 37.796875 6.203125 41.984375 11.859375 \r\nQ 46.1875 17.53125 46.1875 27.296875 \r\nQ 46.1875 37.015625 41.984375 42.703125 \r\nQ 37.796875 48.390625 30.609375 48.390625 \r\nz\r\nM 30.609375 56 \r\nQ 42.328125 56 49.015625 48.375 \r\nQ 55.71875 40.765625 55.71875 27.296875 \r\nQ 55.71875 13.875 49.015625 6.21875 \r\nQ 42.328125 -1.421875 30.609375 -1.421875 \r\nQ 18.84375 -1.421875 12.171875 6.21875 \r\nQ 5.515625 13.875 5.515625 27.296875 \r\nQ 5.515625 40.765625 12.171875 48.375 \r\nQ 18.84375 56 30.609375 56 \r\nz\r\n\" id=\"DejaVuSans-111\"/>\r\n     </defs>\r\n     <use xlink:href=\"#DejaVuSans-110\"/>\r\n     <use x=\"63.378906\" xlink:href=\"#DejaVuSans-111\"/>\r\n     <use x=\"124.560547\" xlink:href=\"#DejaVuSans-110\"/>\r\n     <use x=\"187.939453\" xlink:href=\"#DejaVuSans-101\"/>\r\n    </g>\r\n   </g>\r\n  </g>\r\n  <g id=\"axes_3\">\r\n   <g id=\"patch_112\">\r\n    <path d=\"M 33.2875 346.318125 \r\nL 408.939674 346.318125 \r\nL 408.939674 216.718125 \r\nL 33.2875 216.718125 \r\nz\r\n\" style=\"fill:#ffffff;\"/>\r\n   </g>\r\n   <g id=\"patch_113\">\r\n    <path clip-path=\"url(#p2a7a0dfc6e)\" d=\"M 50.362599 346.318125 \r\nL 57.192638 346.318125 \r\nL 57.192638 306.975268 \r\nL 50.362599 306.975268 \r\nz\r\n\" style=\"fill:#1f77b4;\"/>\r\n   </g>\r\n   <g id=\"patch_114\">\r\n    <path clip-path=\"url(#p2a7a0dfc6e)\" d=\"M 57.192638 346.318125 \r\nL 64.022678 346.318125 \r\nL 64.022678 262.232411 \r\nL 57.192638 262.232411 \r\nz\r\n\" style=\"fill:#1f77b4;\"/>\r\n   </g>\r\n   <g id=\"patch_115\">\r\n    <path clip-path=\"url(#p2a7a0dfc6e)\" d=\"M 64.022678 346.318125 \r\nL 70.852717 346.318125 \r\nL 70.852717 258.375268 \r\nL 64.022678 258.375268 \r\nz\r\n\" style=\"fill:#1f77b4;\"/>\r\n   </g>\r\n   <g id=\"patch_116\">\r\n    <path clip-path=\"url(#p2a7a0dfc6e)\" d=\"M 70.852717 346.318125 \r\nL 77.682757 346.318125 \r\nL 77.682757 283.832411 \r\nL 70.852717 283.832411 \r\nz\r\n\" style=\"fill:#1f77b4;\"/>\r\n   </g>\r\n   <g id=\"patch_117\">\r\n    <path clip-path=\"url(#p2a7a0dfc6e)\" d=\"M 77.682757 346.318125 \r\nL 84.512796 346.318125 \r\nL 84.512796 233.689554 \r\nL 77.682757 233.689554 \r\nz\r\n\" style=\"fill:#1f77b4;\"/>\r\n   </g>\r\n   <g id=\"patch_118\">\r\n    <path clip-path=\"url(#p2a7a0dfc6e)\" d=\"M 84.512796 346.318125 \r\nL 91.342836 346.318125 \r\nL 91.342836 222.889554 \r\nL 84.512796 222.889554 \r\nz\r\n\" style=\"fill:#1f77b4;\"/>\r\n   </g>\r\n   <g id=\"patch_119\">\r\n    <path clip-path=\"url(#p2a7a0dfc6e)\" d=\"M 91.342836 346.318125 \r\nL 98.172875 346.318125 \r\nL 98.172875 257.603839 \r\nL 91.342836 257.603839 \r\nz\r\n\" style=\"fill:#1f77b4;\"/>\r\n   </g>\r\n   <g id=\"patch_120\">\r\n    <path clip-path=\"url(#p2a7a0dfc6e)\" d=\"M 98.172875 346.318125 \r\nL 105.002915 346.318125 \r\nL 105.002915 236.003839 \r\nL 98.172875 236.003839 \r\nz\r\n\" style=\"fill:#1f77b4;\"/>\r\n   </g>\r\n   <g id=\"patch_121\">\r\n    <path clip-path=\"url(#p2a7a0dfc6e)\" d=\"M 105.002915 346.318125 \r\nL 111.832955 346.318125 \r\nL 111.832955 241.403839 \r\nL 105.002915 241.403839 \r\nz\r\n\" style=\"fill:#1f77b4;\"/>\r\n   </g>\r\n   <g id=\"patch_122\">\r\n    <path clip-path=\"url(#p2a7a0dfc6e)\" d=\"M 111.832955 346.318125 \r\nL 118.662994 346.318125 \r\nL 118.662994 274.575268 \r\nL 111.832955 274.575268 \r\nz\r\n\" style=\"fill:#1f77b4;\"/>\r\n   </g>\r\n   <g id=\"patch_123\">\r\n    <path clip-path=\"url(#p2a7a0dfc6e)\" d=\"M 118.662994 346.318125 \r\nL 125.493034 346.318125 \r\nL 125.493034 237.546696 \r\nL 118.662994 237.546696 \r\nz\r\n\" style=\"fill:#1f77b4;\"/>\r\n   </g>\r\n   <g id=\"patch_124\">\r\n    <path clip-path=\"url(#p2a7a0dfc6e)\" d=\"M 125.493034 346.318125 \r\nL 132.323073 346.318125 \r\nL 132.323073 264.546696 \r\nL 125.493034 264.546696 \r\nz\r\n\" style=\"fill:#1f77b4;\"/>\r\n   </g>\r\n   <g id=\"patch_125\">\r\n    <path clip-path=\"url(#p2a7a0dfc6e)\" d=\"M 132.323073 346.318125 \r\nL 139.153113 346.318125 \r\nL 139.153113 268.403839 \r\nL 132.323073 268.403839 \r\nz\r\n\" style=\"fill:#1f77b4;\"/>\r\n   </g>\r\n   <g id=\"patch_126\">\r\n    <path clip-path=\"url(#p2a7a0dfc6e)\" d=\"M 139.153113 346.318125 \r\nL 145.983152 346.318125 \r\nL 145.983152 291.546696 \r\nL 139.153113 291.546696 \r\nz\r\n\" style=\"fill:#1f77b4;\"/>\r\n   </g>\r\n   <g id=\"patch_127\">\r\n    <path clip-path=\"url(#p2a7a0dfc6e)\" d=\"M 145.983152 346.318125 \r\nL 152.813192 346.318125 \r\nL 152.813192 279.975268 \r\nL 145.983152 279.975268 \r\nz\r\n\" style=\"fill:#1f77b4;\"/>\r\n   </g>\r\n   <g id=\"patch_128\">\r\n    <path clip-path=\"url(#p2a7a0dfc6e)\" d=\"M 152.813192 346.318125 \r\nL 159.643231 346.318125 \r\nL 159.643231 290.003839 \r\nL 152.813192 290.003839 \r\nz\r\n\" style=\"fill:#1f77b4;\"/>\r\n   </g>\r\n   <g id=\"patch_129\">\r\n    <path clip-path=\"url(#p2a7a0dfc6e)\" d=\"M 159.643231 346.318125 \r\nL 166.473271 346.318125 \r\nL 166.473271 307.746696 \r\nL 159.643231 307.746696 \r\nz\r\n\" style=\"fill:#1f77b4;\"/>\r\n   </g>\r\n   <g id=\"patch_130\">\r\n    <path clip-path=\"url(#p2a7a0dfc6e)\" d=\"M 166.473271 346.318125 \r\nL 173.30331 346.318125 \r\nL 173.30331 286.146696 \r\nL 166.473271 286.146696 \r\nz\r\n\" style=\"fill:#1f77b4;\"/>\r\n   </g>\r\n   <g id=\"patch_131\">\r\n    <path clip-path=\"url(#p2a7a0dfc6e)\" d=\"M 173.30331 346.318125 \r\nL 180.13335 346.318125 \r\nL 180.13335 308.518125 \r\nL 173.30331 308.518125 \r\nz\r\n\" style=\"fill:#1f77b4;\"/>\r\n   </g>\r\n   <g id=\"patch_132\">\r\n    <path clip-path=\"url(#p2a7a0dfc6e)\" d=\"M 180.13335 346.318125 \r\nL 186.963389 346.318125 \r\nL 186.963389 311.603839 \r\nL 180.13335 311.603839 \r\nz\r\n\" style=\"fill:#1f77b4;\"/>\r\n   </g>\r\n   <g id=\"patch_133\">\r\n    <path clip-path=\"url(#p2a7a0dfc6e)\" d=\"M 186.963389 346.318125 \r\nL 193.793429 346.318125 \r\nL 193.793429 309.289554 \r\nL 186.963389 309.289554 \r\nz\r\n\" style=\"fill:#1f77b4;\"/>\r\n   </g>\r\n   <g id=\"patch_134\">\r\n    <path clip-path=\"url(#p2a7a0dfc6e)\" d=\"M 193.793429 346.318125 \r\nL 200.623468 346.318125 \r\nL 200.623468 307.746696 \r\nL 193.793429 307.746696 \r\nz\r\n\" style=\"fill:#1f77b4;\"/>\r\n   </g>\r\n   <g id=\"patch_135\">\r\n    <path clip-path=\"url(#p2a7a0dfc6e)\" d=\"M 200.623468 346.318125 \r\nL 207.453508 346.318125 \r\nL 207.453508 320.089554 \r\nL 200.623468 320.089554 \r\nz\r\n\" style=\"fill:#1f77b4;\"/>\r\n   </g>\r\n   <g id=\"patch_136\">\r\n    <path clip-path=\"url(#p2a7a0dfc6e)\" d=\"M 207.453508 346.318125 \r\nL 214.283547 346.318125 \r\nL 214.283547 325.489554 \r\nL 207.453508 325.489554 \r\nz\r\n\" style=\"fill:#1f77b4;\"/>\r\n   </g>\r\n   <g id=\"patch_137\">\r\n    <path clip-path=\"url(#p2a7a0dfc6e)\" d=\"M 214.283547 346.318125 \r\nL 221.113587 346.318125 \r\nL 221.113587 320.860982 \r\nL 214.283547 320.860982 \r\nz\r\n\" style=\"fill:#1f77b4;\"/>\r\n   </g>\r\n   <g id=\"patch_138\">\r\n    <path clip-path=\"url(#p2a7a0dfc6e)\" d=\"M 221.113587 346.318125 \r\nL 227.943626 346.318125 \r\nL 227.943626 323.946696 \r\nL 221.113587 323.946696 \r\nz\r\n\" style=\"fill:#1f77b4;\"/>\r\n   </g>\r\n   <g id=\"patch_139\">\r\n    <path clip-path=\"url(#p2a7a0dfc6e)\" d=\"M 227.943626 346.318125 \r\nL 234.773666 346.318125 \r\nL 234.773666 328.575268 \r\nL 227.943626 328.575268 \r\nz\r\n\" style=\"fill:#1f77b4;\"/>\r\n   </g>\r\n   <g id=\"patch_140\">\r\n    <path clip-path=\"url(#p2a7a0dfc6e)\" d=\"M 234.773666 346.318125 \r\nL 241.603706 346.318125 \r\nL 241.603706 330.118125 \r\nL 234.773666 330.118125 \r\nz\r\n\" style=\"fill:#1f77b4;\"/>\r\n   </g>\r\n   <g id=\"patch_141\">\r\n    <path clip-path=\"url(#p2a7a0dfc6e)\" d=\"M 241.603706 346.318125 \r\nL 248.433745 346.318125 \r\nL 248.433745 334.746696 \r\nL 241.603706 334.746696 \r\nz\r\n\" style=\"fill:#1f77b4;\"/>\r\n   </g>\r\n   <g id=\"patch_142\">\r\n    <path clip-path=\"url(#p2a7a0dfc6e)\" d=\"M 248.433745 346.318125 \r\nL 255.263785 346.318125 \r\nL 255.263785 335.518125 \r\nL 248.433745 335.518125 \r\nz\r\n\" style=\"fill:#1f77b4;\"/>\r\n   </g>\r\n   <g id=\"patch_143\">\r\n    <path clip-path=\"url(#p2a7a0dfc6e)\" d=\"M 255.263785 346.318125 \r\nL 262.093824 346.318125 \r\nL 262.093824 325.489554 \r\nL 255.263785 325.489554 \r\nz\r\n\" style=\"fill:#1f77b4;\"/>\r\n   </g>\r\n   <g id=\"patch_144\">\r\n    <path clip-path=\"url(#p2a7a0dfc6e)\" d=\"M 262.093824 346.318125 \r\nL 268.923864 346.318125 \r\nL 268.923864 325.489554 \r\nL 262.093824 325.489554 \r\nz\r\n\" style=\"fill:#1f77b4;\"/>\r\n   </g>\r\n   <g id=\"patch_145\">\r\n    <path clip-path=\"url(#p2a7a0dfc6e)\" d=\"M 268.923864 346.318125 \r\nL 275.753903 346.318125 \r\nL 275.753903 320.860982 \r\nL 268.923864 320.860982 \r\nz\r\n\" style=\"fill:#1f77b4;\"/>\r\n   </g>\r\n   <g id=\"patch_146\">\r\n    <path clip-path=\"url(#p2a7a0dfc6e)\" d=\"M 275.753903 346.318125 \r\nL 282.583943 346.318125 \r\nL 282.583943 337.832411 \r\nL 275.753903 337.832411 \r\nz\r\n\" style=\"fill:#1f77b4;\"/>\r\n   </g>\r\n   <g id=\"patch_147\">\r\n    <path clip-path=\"url(#p2a7a0dfc6e)\" d=\"M 282.583943 346.318125 \r\nL 289.413982 346.318125 \r\nL 289.413982 338.603839 \r\nL 282.583943 338.603839 \r\nz\r\n\" style=\"fill:#1f77b4;\"/>\r\n   </g>\r\n   <g id=\"patch_148\">\r\n    <path clip-path=\"url(#p2a7a0dfc6e)\" d=\"M 289.413982 346.318125 \r\nL 296.244022 346.318125 \r\nL 296.244022 327.803839 \r\nL 289.413982 327.803839 \r\nz\r\n\" style=\"fill:#1f77b4;\"/>\r\n   </g>\r\n   <g id=\"patch_149\">\r\n    <path clip-path=\"url(#p2a7a0dfc6e)\" d=\"M 296.244022 346.318125 \r\nL 303.074061 346.318125 \r\nL 303.074061 340.146696 \r\nL 296.244022 340.146696 \r\nz\r\n\" style=\"fill:#1f77b4;\"/>\r\n   </g>\r\n   <g id=\"patch_150\">\r\n    <path clip-path=\"url(#p2a7a0dfc6e)\" d=\"M 303.074061 346.318125 \r\nL 309.904101 346.318125 \r\nL 309.904101 333.203839 \r\nL 303.074061 333.203839 \r\nz\r\n\" style=\"fill:#1f77b4;\"/>\r\n   </g>\r\n   <g id=\"patch_151\">\r\n    <path clip-path=\"url(#p2a7a0dfc6e)\" d=\"M 309.904101 346.318125 \r\nL 316.73414 346.318125 \r\nL 316.73414 332.432411 \r\nL 309.904101 332.432411 \r\nz\r\n\" style=\"fill:#1f77b4;\"/>\r\n   </g>\r\n   <g id=\"patch_152\">\r\n    <path clip-path=\"url(#p2a7a0dfc6e)\" d=\"M 316.73414 346.318125 \r\nL 323.56418 346.318125 \r\nL 323.56418 340.146696 \r\nL 316.73414 340.146696 \r\nz\r\n\" style=\"fill:#1f77b4;\"/>\r\n   </g>\r\n   <g id=\"patch_153\">\r\n    <path clip-path=\"url(#p2a7a0dfc6e)\" d=\"M 323.56418 346.318125 \r\nL 330.394219 346.318125 \r\nL 330.394219 337.832411 \r\nL 323.56418 337.832411 \r\nz\r\n\" style=\"fill:#1f77b4;\"/>\r\n   </g>\r\n   <g id=\"patch_154\">\r\n    <path clip-path=\"url(#p2a7a0dfc6e)\" d=\"M 330.394219 346.318125 \r\nL 337.224259 346.318125 \r\nL 337.224259 336.289554 \r\nL 330.394219 336.289554 \r\nz\r\n\" style=\"fill:#1f77b4;\"/>\r\n   </g>\r\n   <g id=\"patch_155\">\r\n    <path clip-path=\"url(#p2a7a0dfc6e)\" d=\"M 337.224259 346.318125 \r\nL 344.054298 346.318125 \r\nL 344.054298 337.832411 \r\nL 337.224259 337.832411 \r\nz\r\n\" style=\"fill:#1f77b4;\"/>\r\n   </g>\r\n   <g id=\"patch_156\">\r\n    <path clip-path=\"url(#p2a7a0dfc6e)\" d=\"M 344.054298 346.318125 \r\nL 350.884338 346.318125 \r\nL 350.884338 343.232411 \r\nL 344.054298 343.232411 \r\nz\r\n\" style=\"fill:#1f77b4;\"/>\r\n   </g>\r\n   <g id=\"patch_157\">\r\n    <path clip-path=\"url(#p2a7a0dfc6e)\" d=\"M 350.884338 346.318125 \r\nL 357.714377 346.318125 \r\nL 357.714377 337.832411 \r\nL 350.884338 337.832411 \r\nz\r\n\" style=\"fill:#1f77b4;\"/>\r\n   </g>\r\n   <g id=\"patch_158\">\r\n    <path clip-path=\"url(#p2a7a0dfc6e)\" d=\"M 357.714377 346.318125 \r\nL 364.544417 346.318125 \r\nL 364.544417 340.146696 \r\nL 357.714377 340.146696 \r\nz\r\n\" style=\"fill:#1f77b4;\"/>\r\n   </g>\r\n   <g id=\"patch_159\">\r\n    <path clip-path=\"url(#p2a7a0dfc6e)\" d=\"M 364.544417 346.318125 \r\nL 371.374457 346.318125 \r\nL 371.374457 343.232411 \r\nL 364.544417 343.232411 \r\nz\r\n\" style=\"fill:#1f77b4;\"/>\r\n   </g>\r\n   <g id=\"patch_160\">\r\n    <path clip-path=\"url(#p2a7a0dfc6e)\" d=\"M 371.374457 346.318125 \r\nL 378.204496 346.318125 \r\nL 378.204496 338.603839 \r\nL 371.374457 338.603839 \r\nz\r\n\" style=\"fill:#1f77b4;\"/>\r\n   </g>\r\n   <g id=\"patch_161\">\r\n    <path clip-path=\"url(#p2a7a0dfc6e)\" d=\"M 378.204496 346.318125 \r\nL 385.034536 346.318125 \r\nL 385.034536 346.318125 \r\nL 378.204496 346.318125 \r\nz\r\n\" style=\"fill:#1f77b4;\"/>\r\n   </g>\r\n   <g id=\"patch_162\">\r\n    <path clip-path=\"url(#p2a7a0dfc6e)\" d=\"M 385.034536 346.318125 \r\nL 391.864575 346.318125 \r\nL 391.864575 344.775268 \r\nL 385.034536 344.775268 \r\nz\r\n\" style=\"fill:#1f77b4;\"/>\r\n   </g>\r\n   <g id=\"matplotlib.axis_5\">\r\n    <g id=\"xtick_17\">\r\n     <g id=\"line2d_27\">\r\n      <g>\r\n       <use style=\"stroke:#000000;stroke-width:0.8;\" x=\"40.244022\" xlink:href=\"#m5db32f4107\" y=\"346.318125\"/>\r\n      </g>\r\n     </g>\r\n     <g id=\"text_29\">\r\n      <!-- 0 -->\r\n      <g transform=\"translate(43.003397 359.680625)rotate(-90)scale(0.1 -0.1)\">\r\n       <use xlink:href=\"#DejaVuSans-48\"/>\r\n      </g>\r\n     </g>\r\n    </g>\r\n    <g id=\"xtick_18\">\r\n     <g id=\"line2d_28\">\r\n      <g>\r\n       <use style=\"stroke:#000000;stroke-width:0.8;\" x=\"90.836907\" xlink:href=\"#m5db32f4107\" y=\"346.318125\"/>\r\n      </g>\r\n     </g>\r\n     <g id=\"text_30\">\r\n      <!-- 20 -->\r\n      <g transform=\"translate(93.596282 366.043125)rotate(-90)scale(0.1 -0.1)\">\r\n       <use xlink:href=\"#DejaVuSans-50\"/>\r\n       <use x=\"63.623047\" xlink:href=\"#DejaVuSans-48\"/>\r\n      </g>\r\n     </g>\r\n    </g>\r\n    <g id=\"xtick_19\">\r\n     <g id=\"line2d_29\">\r\n      <g>\r\n       <use style=\"stroke:#000000;stroke-width:0.8;\" x=\"141.429792\" xlink:href=\"#m5db32f4107\" y=\"346.318125\"/>\r\n      </g>\r\n     </g>\r\n     <g id=\"text_31\">\r\n      <!-- 40 -->\r\n      <g transform=\"translate(144.189167 366.043125)rotate(-90)scale(0.1 -0.1)\">\r\n       <use xlink:href=\"#DejaVuSans-52\"/>\r\n       <use x=\"63.623047\" xlink:href=\"#DejaVuSans-48\"/>\r\n      </g>\r\n     </g>\r\n    </g>\r\n    <g id=\"xtick_20\">\r\n     <g id=\"line2d_30\">\r\n      <g>\r\n       <use style=\"stroke:#000000;stroke-width:0.8;\" x=\"192.022678\" xlink:href=\"#m5db32f4107\" y=\"346.318125\"/>\r\n      </g>\r\n     </g>\r\n     <g id=\"text_32\">\r\n      <!-- 60 -->\r\n      <g transform=\"translate(194.782053 366.043125)rotate(-90)scale(0.1 -0.1)\">\r\n       <use xlink:href=\"#DejaVuSans-54\"/>\r\n       <use x=\"63.623047\" xlink:href=\"#DejaVuSans-48\"/>\r\n      </g>\r\n     </g>\r\n    </g>\r\n    <g id=\"xtick_21\">\r\n     <g id=\"line2d_31\">\r\n      <g>\r\n       <use style=\"stroke:#000000;stroke-width:0.8;\" x=\"242.615563\" xlink:href=\"#m5db32f4107\" y=\"346.318125\"/>\r\n      </g>\r\n     </g>\r\n     <g id=\"text_33\">\r\n      <!-- 80 -->\r\n      <g transform=\"translate(245.374938 366.043125)rotate(-90)scale(0.1 -0.1)\">\r\n       <use xlink:href=\"#DejaVuSans-56\"/>\r\n       <use x=\"63.623047\" xlink:href=\"#DejaVuSans-48\"/>\r\n      </g>\r\n     </g>\r\n    </g>\r\n    <g id=\"xtick_22\">\r\n     <g id=\"line2d_32\">\r\n      <g>\r\n       <use style=\"stroke:#000000;stroke-width:0.8;\" x=\"293.208449\" xlink:href=\"#m5db32f4107\" y=\"346.318125\"/>\r\n      </g>\r\n     </g>\r\n     <g id=\"text_34\">\r\n      <!-- 100 -->\r\n      <g transform=\"translate(295.967824 372.405625)rotate(-90)scale(0.1 -0.1)\">\r\n       <use xlink:href=\"#DejaVuSans-49\"/>\r\n       <use x=\"63.623047\" xlink:href=\"#DejaVuSans-48\"/>\r\n       <use x=\"127.246094\" xlink:href=\"#DejaVuSans-48\"/>\r\n      </g>\r\n     </g>\r\n    </g>\r\n    <g id=\"xtick_23\">\r\n     <g id=\"line2d_33\">\r\n      <g>\r\n       <use style=\"stroke:#000000;stroke-width:0.8;\" x=\"343.801334\" xlink:href=\"#m5db32f4107\" y=\"346.318125\"/>\r\n      </g>\r\n     </g>\r\n     <g id=\"text_35\">\r\n      <!-- 120 -->\r\n      <g transform=\"translate(346.560709 372.405625)rotate(-90)scale(0.1 -0.1)\">\r\n       <use xlink:href=\"#DejaVuSans-49\"/>\r\n       <use x=\"63.623047\" xlink:href=\"#DejaVuSans-50\"/>\r\n       <use x=\"127.246094\" xlink:href=\"#DejaVuSans-48\"/>\r\n      </g>\r\n     </g>\r\n    </g>\r\n    <g id=\"xtick_24\">\r\n     <g id=\"line2d_34\">\r\n      <g>\r\n       <use style=\"stroke:#000000;stroke-width:0.8;\" x=\"394.394219\" xlink:href=\"#m5db32f4107\" y=\"346.318125\"/>\r\n      </g>\r\n     </g>\r\n     <g id=\"text_36\">\r\n      <!-- 140 -->\r\n      <g transform=\"translate(397.153594 372.405625)rotate(-90)scale(0.1 -0.1)\">\r\n       <use xlink:href=\"#DejaVuSans-49\"/>\r\n       <use x=\"63.623047\" xlink:href=\"#DejaVuSans-52\"/>\r\n       <use x=\"127.246094\" xlink:href=\"#DejaVuSans-48\"/>\r\n      </g>\r\n     </g>\r\n    </g>\r\n   </g>\r\n   <g id=\"matplotlib.axis_6\">\r\n    <g id=\"ytick_11\">\r\n     <g id=\"line2d_35\">\r\n      <g>\r\n       <use style=\"stroke:#000000;stroke-width:0.8;\" x=\"33.2875\" xlink:href=\"#m1c55539a6d\" y=\"346.318125\"/>\r\n      </g>\r\n     </g>\r\n     <g id=\"text_37\">\r\n      <!-- 0 -->\r\n      <g transform=\"translate(19.925 350.117344)scale(0.1 -0.1)\">\r\n       <use xlink:href=\"#DejaVuSans-48\"/>\r\n      </g>\r\n     </g>\r\n    </g>\r\n    <g id=\"ytick_12\">\r\n     <g id=\"line2d_36\">\r\n      <g>\r\n       <use style=\"stroke:#000000;stroke-width:0.8;\" x=\"33.2875\" xlink:href=\"#m1c55539a6d\" y=\"307.746696\"/>\r\n      </g>\r\n     </g>\r\n     <g id=\"text_38\">\r\n      <!-- 50 -->\r\n      <g transform=\"translate(13.5625 311.545915)scale(0.1 -0.1)\">\r\n       <defs>\r\n        <path d=\"M 10.796875 72.90625 \r\nL 49.515625 72.90625 \r\nL 49.515625 64.59375 \r\nL 19.828125 64.59375 \r\nL 19.828125 46.734375 \r\nQ 21.96875 47.46875 24.109375 47.828125 \r\nQ 26.265625 48.1875 28.421875 48.1875 \r\nQ 40.625 48.1875 47.75 41.5 \r\nQ 54.890625 34.8125 54.890625 23.390625 \r\nQ 54.890625 11.625 47.5625 5.09375 \r\nQ 40.234375 -1.421875 26.90625 -1.421875 \r\nQ 22.3125 -1.421875 17.546875 -0.640625 \r\nQ 12.796875 0.140625 7.71875 1.703125 \r\nL 7.71875 11.625 \r\nQ 12.109375 9.234375 16.796875 8.0625 \r\nQ 21.484375 6.890625 26.703125 6.890625 \r\nQ 35.15625 6.890625 40.078125 11.328125 \r\nQ 45.015625 15.765625 45.015625 23.390625 \r\nQ 45.015625 31 40.078125 35.4375 \r\nQ 35.15625 39.890625 26.703125 39.890625 \r\nQ 22.75 39.890625 18.8125 39.015625 \r\nQ 14.890625 38.140625 10.796875 36.28125 \r\nz\r\n\" id=\"DejaVuSans-53\"/>\r\n       </defs>\r\n       <use xlink:href=\"#DejaVuSans-53\"/>\r\n       <use x=\"63.623047\" xlink:href=\"#DejaVuSans-48\"/>\r\n      </g>\r\n     </g>\r\n    </g>\r\n    <g id=\"ytick_13\">\r\n     <g id=\"line2d_37\">\r\n      <g>\r\n       <use style=\"stroke:#000000;stroke-width:0.8;\" x=\"33.2875\" xlink:href=\"#m1c55539a6d\" y=\"269.175268\"/>\r\n      </g>\r\n     </g>\r\n     <g id=\"text_39\">\r\n      <!-- 100 -->\r\n      <g transform=\"translate(7.2 272.974487)scale(0.1 -0.1)\">\r\n       <use xlink:href=\"#DejaVuSans-49\"/>\r\n       <use x=\"63.623047\" xlink:href=\"#DejaVuSans-48\"/>\r\n       <use x=\"127.246094\" xlink:href=\"#DejaVuSans-48\"/>\r\n      </g>\r\n     </g>\r\n    </g>\r\n    <g id=\"ytick_14\">\r\n     <g id=\"line2d_38\">\r\n      <g>\r\n       <use style=\"stroke:#000000;stroke-width:0.8;\" x=\"33.2875\" xlink:href=\"#m1c55539a6d\" y=\"230.603839\"/>\r\n      </g>\r\n     </g>\r\n     <g id=\"text_40\">\r\n      <!-- 150 -->\r\n      <g transform=\"translate(7.2 234.403058)scale(0.1 -0.1)\">\r\n       <use xlink:href=\"#DejaVuSans-49\"/>\r\n       <use x=\"63.623047\" xlink:href=\"#DejaVuSans-53\"/>\r\n       <use x=\"127.246094\" xlink:href=\"#DejaVuSans-48\"/>\r\n      </g>\r\n     </g>\r\n    </g>\r\n   </g>\r\n   <g id=\"patch_163\">\r\n    <path d=\"M 33.2875 346.318125 \r\nL 33.2875 216.718125 \r\n\" style=\"fill:none;stroke:#000000;stroke-linecap:square;stroke-linejoin:miter;stroke-width:0.8;\"/>\r\n   </g>\r\n   <g id=\"patch_164\">\r\n    <path d=\"M 408.939674 346.318125 \r\nL 408.939674 216.718125 \r\n\" style=\"fill:none;stroke:#000000;stroke-linecap:square;stroke-linejoin:miter;stroke-width:0.8;\"/>\r\n   </g>\r\n   <g id=\"patch_165\">\r\n    <path d=\"M 33.2875 346.318125 \r\nL 408.939674 346.318125 \r\n\" style=\"fill:none;stroke:#000000;stroke-linecap:square;stroke-linejoin:miter;stroke-width:0.8;\"/>\r\n   </g>\r\n   <g id=\"patch_166\">\r\n    <path d=\"M 33.2875 216.718125 \r\nL 408.939674 216.718125 \r\n\" style=\"fill:none;stroke:#000000;stroke-linecap:square;stroke-linejoin:miter;stroke-width:0.8;\"/>\r\n   </g>\r\n   <g id=\"text_41\">\r\n    <!-- offensive -->\r\n    <g transform=\"translate(193.687962 210.718125)scale(0.12 -0.12)\">\r\n     <defs>\r\n      <path d=\"M 37.109375 75.984375 \r\nL 37.109375 68.5 \r\nL 28.515625 68.5 \r\nQ 23.6875 68.5 21.796875 66.546875 \r\nQ 19.921875 64.59375 19.921875 59.515625 \r\nL 19.921875 54.6875 \r\nL 34.71875 54.6875 \r\nL 34.71875 47.703125 \r\nL 19.921875 47.703125 \r\nL 19.921875 0 \r\nL 10.890625 0 \r\nL 10.890625 47.703125 \r\nL 2.296875 47.703125 \r\nL 2.296875 54.6875 \r\nL 10.890625 54.6875 \r\nL 10.890625 58.5 \r\nQ 10.890625 67.625 15.140625 71.796875 \r\nQ 19.390625 75.984375 28.609375 75.984375 \r\nz\r\n\" id=\"DejaVuSans-102\"/>\r\n      <path d=\"M 44.28125 53.078125 \r\nL 44.28125 44.578125 \r\nQ 40.484375 46.53125 36.375 47.5 \r\nQ 32.28125 48.484375 27.875 48.484375 \r\nQ 21.1875 48.484375 17.84375 46.4375 \r\nQ 14.5 44.390625 14.5 40.28125 \r\nQ 14.5 37.15625 16.890625 35.375 \r\nQ 19.28125 33.59375 26.515625 31.984375 \r\nL 29.59375 31.296875 \r\nQ 39.15625 29.25 43.1875 25.515625 \r\nQ 47.21875 21.78125 47.21875 15.09375 \r\nQ 47.21875 7.46875 41.1875 3.015625 \r\nQ 35.15625 -1.421875 24.609375 -1.421875 \r\nQ 20.21875 -1.421875 15.453125 -0.5625 \r\nQ 10.6875 0.296875 5.421875 2 \r\nL 5.421875 11.28125 \r\nQ 10.40625 8.6875 15.234375 7.390625 \r\nQ 20.0625 6.109375 24.8125 6.109375 \r\nQ 31.15625 6.109375 34.5625 8.28125 \r\nQ 37.984375 10.453125 37.984375 14.40625 \r\nQ 37.984375 18.0625 35.515625 20.015625 \r\nQ 33.0625 21.96875 24.703125 23.78125 \r\nL 21.578125 24.515625 \r\nQ 13.234375 26.265625 9.515625 29.90625 \r\nQ 5.8125 33.546875 5.8125 39.890625 \r\nQ 5.8125 47.609375 11.28125 51.796875 \r\nQ 16.75 56 26.8125 56 \r\nQ 31.78125 56 36.171875 55.265625 \r\nQ 40.578125 54.546875 44.28125 53.078125 \r\nz\r\n\" id=\"DejaVuSans-115\"/>\r\n      <path d=\"M 9.421875 54.6875 \r\nL 18.40625 54.6875 \r\nL 18.40625 0 \r\nL 9.421875 0 \r\nz\r\nM 9.421875 75.984375 \r\nL 18.40625 75.984375 \r\nL 18.40625 64.59375 \r\nL 9.421875 64.59375 \r\nz\r\n\" id=\"DejaVuSans-105\"/>\r\n      <path d=\"M 2.984375 54.6875 \r\nL 12.5 54.6875 \r\nL 29.59375 8.796875 \r\nL 46.6875 54.6875 \r\nL 56.203125 54.6875 \r\nL 35.6875 0 \r\nL 23.484375 0 \r\nz\r\n\" id=\"DejaVuSans-118\"/>\r\n     </defs>\r\n     <use xlink:href=\"#DejaVuSans-111\"/>\r\n     <use x=\"61.181641\" xlink:href=\"#DejaVuSans-102\"/>\r\n     <use x=\"96.386719\" xlink:href=\"#DejaVuSans-102\"/>\r\n     <use x=\"131.591797\" xlink:href=\"#DejaVuSans-101\"/>\r\n     <use x=\"193.115234\" xlink:href=\"#DejaVuSans-110\"/>\r\n     <use x=\"256.494141\" xlink:href=\"#DejaVuSans-115\"/>\r\n     <use x=\"308.59375\" xlink:href=\"#DejaVuSans-105\"/>\r\n     <use x=\"336.376953\" xlink:href=\"#DejaVuSans-118\"/>\r\n     <use x=\"395.556641\" xlink:href=\"#DejaVuSans-101\"/>\r\n    </g>\r\n   </g>\r\n  </g>\r\n </g>\r\n <defs>\r\n  <clipPath id=\"pa06d4706ec\">\r\n   <rect height=\"129.6\" width=\"375.652174\" x=\"33.2875\" y=\"22.318125\"/>\r\n  </clipPath>\r\n  <clipPath id=\"p01e0084827\">\r\n   <rect height=\"129.6\" width=\"375.652174\" x=\"521.635326\" y=\"22.318125\"/>\r\n  </clipPath>\r\n  <clipPath id=\"p2a7a0dfc6e\">\r\n   <rect height=\"129.6\" width=\"375.652174\" x=\"33.2875\" y=\"216.718125\"/>\r\n  </clipPath>\r\n </defs>\r\n</svg>\r\n",
      "image/png": "[encoded data removed]"
     },
     "metadata": {
      "needs_background": "light"
     }
    }
   ],
   "source": [
    "train['length'] = train['comments'].apply(len)\n",
    "train.hist(column='length', by='hate_label', bins=50, figsize=(15,6));"
   ]
  },
  {
   "cell_type": "code",
   "execution_count": 20,
   "metadata": {},
   "outputs": [],
   "source": [
    "import pandas as pd\n",
    "from konlpy.tag import Okt; t = Okt()\n",
    "from sklearn.feature_extraction.text import TfidfVectorizer\n",
    "\n",
    "def t_tokenizer(text):\n",
    "    tokens_ko = t.morphs(text)\n",
    "    return tokens_ko"
   ]
  },
  {
   "cell_type": "code",
   "execution_count": 21,
   "metadata": {},
   "outputs": [],
   "source": [
    "tfidf_vect = TfidfVectorizer(tokenizer=t_tokenizer, sublinear_tf=True, ngram_range=(1,3), min_df=3, max_df=0.9)\n",
    "tfidf_train = tfidf_vect.fit_transform(train['comments'])"
   ]
  },
  {
   "cell_type": "code",
   "execution_count": 22,
   "metadata": {},
   "outputs": [
    {
     "output_type": "stream",
     "name": "stdout",
     "text": [
      "  (0, 2262)\t0.2409672905771141\n  (0, 9616)\t0.2450429747525062\n  (0, 1115)\t0.1784670114013033\n  (0, 1319)\t0.1950594008732794\n  (0, 2261)\t0.2179604474189606\n  (0, 5227)\t0.23124735276320987\n  (0, 3726)\t0.2553128786552685\n  (0, 3734)\t0.23124735276320987\n  (0, 1927)\t0.19680400667869513\n  (0, 6535)\t0.08909229306256912\n  (0, 10148)\t0.22178071343321842\n  (0, 3512)\t0.23124735276320987\n  (0, 1908)\t0.1499146082192099\n  (0, 158)\t0.2373722823538103\n  (0, 5838)\t0.12924497671592003\n  (0, 5723)\t0.24974800683559492\n  (0, 9120)\t0.2553128786552685\n  (0, 10667)\t0.4079930886478098\n  (0, 10631)\t0.23124735276320987\n"
     ]
    }
   ],
   "source": [
    "print(tfidf_train[0])"
   ]
  },
  {
   "cell_type": "code",
   "execution_count": 23,
   "metadata": {},
   "outputs": [
    {
     "output_type": "execute_result",
     "data": {
      "text/plain": [
       "                                              comments hate_label\n",
       "461                         송윤아 이뿌다 옷도 다 이쁘고 고급지고 우아하다       none\n",
       "462                        니기미 나는 흔한공황장애 장애가 없어서 벌금이빠이       hate\n",
       "463                               강용석도 찌질하네 과거들추기는 추하다  offensive\n",
       "464                                   지겹이 이프로 그만하자 작가야  offensive\n",
       "465                                    그래도 좋은 노래 많았는데ㅠ       none\n",
       "466                                  지현우 범죄 저지르지 않았나요?  offensive\n",
       "467                                    여자인생 망칠 일 있나 ㅋㅋ       hate\n",
       "468            근데 전라도에서 사고가 났는데 굳이 서울까지 와서 병원에 가느 이유는?  offensive\n",
       "469  할매젖x, 뱃살x, 몸매 s라인, 유륜은 적당해야됨(너무크거나 너무 작아도 x), ...       hate\n",
       "470  남자가 잘못한거라면... 반성도 없다면...나였다면 ... 여자처럼 아주 못되게 할...       none"
      ],
      "text/html": "<div>\n<style scoped>\n    .dataframe tbody tr th:only-of-type {\n        vertical-align: middle;\n    }\n\n    .dataframe tbody tr th {\n        vertical-align: top;\n    }\n\n    .dataframe thead th {\n        text-align: right;\n    }\n</style>\n<table border=\"1\" class=\"dataframe\">\n  <thead>\n    <tr style=\"text-align: right;\">\n      <th></th>\n      <th>comments</th>\n      <th>hate_label</th>\n    </tr>\n  </thead>\n  <tbody>\n    <tr>\n      <th>461</th>\n      <td>송윤아 이뿌다 옷도 다 이쁘고 고급지고 우아하다</td>\n      <td>none</td>\n    </tr>\n    <tr>\n      <th>462</th>\n      <td>니기미 나는 흔한공황장애 장애가 없어서 벌금이빠이</td>\n      <td>hate</td>\n    </tr>\n    <tr>\n      <th>463</th>\n      <td>강용석도 찌질하네 과거들추기는 추하다</td>\n      <td>offensive</td>\n    </tr>\n    <tr>\n      <th>464</th>\n      <td>지겹이 이프로 그만하자 작가야</td>\n      <td>offensive</td>\n    </tr>\n    <tr>\n      <th>465</th>\n      <td>그래도 좋은 노래 많았는데ㅠ</td>\n      <td>none</td>\n    </tr>\n    <tr>\n      <th>466</th>\n      <td>지현우 범죄 저지르지 않았나요?</td>\n      <td>offensive</td>\n    </tr>\n    <tr>\n      <th>467</th>\n      <td>여자인생 망칠 일 있나 ㅋㅋ</td>\n      <td>hate</td>\n    </tr>\n    <tr>\n      <th>468</th>\n      <td>근데 전라도에서 사고가 났는데 굳이 서울까지 와서 병원에 가느 이유는?</td>\n      <td>offensive</td>\n    </tr>\n    <tr>\n      <th>469</th>\n      <td>할매젖x, 뱃살x, 몸매 s라인, 유륜은 적당해야됨(너무크거나 너무 작아도 x), ...</td>\n      <td>hate</td>\n    </tr>\n    <tr>\n      <th>470</th>\n      <td>남자가 잘못한거라면... 반성도 없다면...나였다면 ... 여자처럼 아주 못되게 할...</td>\n      <td>none</td>\n    </tr>\n  </tbody>\n</table>\n</div>"
     },
     "metadata": {},
     "execution_count": 23
    }
   ],
   "source": [
    "dev = pd.read_csv('./datas/dev.hate.csv')\n",
    "dev.rename(columns={'label': 'hate_label'}, inplace=True)\n",
    "dev.tail(10)"
   ]
  },
  {
   "cell_type": "code",
   "execution_count": 24,
   "metadata": {},
   "outputs": [
    {
     "output_type": "stream",
     "name": "stdout",
     "text": [
      "  (0, 10740)\t0.42355568980977504\n  (0, 9567)\t0.46772098550310237\n  (0, 9566)\t0.39949236874813293\n  (0, 7345)\t0.16015963401424047\n  (0, 5441)\t0.3828605173483004\n  (0, 4650)\t0.37487612404555287\n  (0, 4182)\t0.3598306715256187\n"
     ]
    }
   ],
   "source": [
    "tfidf_dev = tfidf_vect.transform(dev['comments'])\n",
    "print(tfidf_dev[0])"
   ]
  },
  {
   "cell_type": "code",
   "execution_count": 25,
   "metadata": {},
   "outputs": [
    {
     "output_type": "execute_result",
     "data": {
      "text/plain": [
       "(471, 7896)"
      ]
     },
     "metadata": {},
     "execution_count": 25
    }
   ],
   "source": [
    "from sklearn.metrics.pairwise import cosine_similarity\n",
    "\n",
    "cos_sim = cosine_similarity(tfidf_dev, tfidf_train)\n",
    "len(cos_sim), len(cos_sim[0])"
   ]
  },
  {
   "cell_type": "code",
   "execution_count": 26,
   "metadata": {},
   "outputs": [],
   "source": [
    "highest = []\n",
    "item_idx = []\n",
    "for each in cos_sim:\n",
    "    highest.append(max(each))\n",
    "    item_idx.append(np.where(each==max(each)))"
   ]
  },
  {
   "cell_type": "code",
   "execution_count": 27,
   "metadata": {},
   "outputs": [
    {
     "output_type": "execute_result",
     "data": {
      "text/plain": [
       "471"
      ]
     },
     "metadata": {},
     "execution_count": 27
    }
   ],
   "source": [
    "len(item_idx)"
   ]
  },
  {
   "cell_type": "code",
   "execution_count": 28,
   "metadata": {},
   "outputs": [],
   "source": [
    "item = []\n",
    "for each in item_idx:\n",
    "    item.append((each[0][0]))"
   ]
  },
  {
   "cell_type": "code",
   "execution_count": 29,
   "metadata": {},
   "outputs": [],
   "source": [
    "train_label = []\n",
    "for each in item:\n",
    "    train_label.append(train['hate_label'][each])"
   ]
  },
  {
   "cell_type": "code",
   "execution_count": 30,
   "metadata": {},
   "outputs": [
    {
     "output_type": "execute_result",
     "data": {
      "text/plain": [
       "                                              comments hate_label   highest  \\\n",
       "461                         송윤아 이뿌다 옷도 다 이쁘고 고급지고 우아하다       none  0.236438   \n",
       "462                        니기미 나는 흔한공황장애 장애가 없어서 벌금이빠이       hate  0.547884   \n",
       "463                               강용석도 찌질하네 과거들추기는 추하다  offensive  0.436325   \n",
       "464                                   지겹이 이프로 그만하자 작가야  offensive  0.326743   \n",
       "465                                    그래도 좋은 노래 많았는데ㅠ       none  0.511568   \n",
       "466                                  지현우 범죄 저지르지 않았나요?  offensive  0.720521   \n",
       "467                                    여자인생 망칠 일 있나 ㅋㅋ       hate  0.357772   \n",
       "468            근데 전라도에서 사고가 났는데 굳이 서울까지 와서 병원에 가느 이유는?  offensive  0.324095   \n",
       "469  할매젖x, 뱃살x, 몸매 s라인, 유륜은 적당해야됨(너무크거나 너무 작아도 x), ...       hate  0.356525   \n",
       "470  남자가 잘못한거라면... 반성도 없다면...나였다면 ... 여자처럼 아주 못되게 할...       none  0.333702   \n",
       "\n",
       "     highest_id train_label  \n",
       "461        4429        none  \n",
       "462        2071        none  \n",
       "463        1830        hate  \n",
       "464        7790        none  \n",
       "465         840        none  \n",
       "466        2999        none  \n",
       "467        4054        hate  \n",
       "468        1766        none  \n",
       "469        6786        none  \n",
       "470        5236        none  "
      ],
      "text/html": "<div>\n<style scoped>\n    .dataframe tbody tr th:only-of-type {\n        vertical-align: middle;\n    }\n\n    .dataframe tbody tr th {\n        vertical-align: top;\n    }\n\n    .dataframe thead th {\n        text-align: right;\n    }\n</style>\n<table border=\"1\" class=\"dataframe\">\n  <thead>\n    <tr style=\"text-align: right;\">\n      <th></th>\n      <th>comments</th>\n      <th>hate_label</th>\n      <th>highest</th>\n      <th>highest_id</th>\n      <th>train_label</th>\n    </tr>\n  </thead>\n  <tbody>\n    <tr>\n      <th>461</th>\n      <td>송윤아 이뿌다 옷도 다 이쁘고 고급지고 우아하다</td>\n      <td>none</td>\n      <td>0.236438</td>\n      <td>4429</td>\n      <td>none</td>\n    </tr>\n    <tr>\n      <th>462</th>\n      <td>니기미 나는 흔한공황장애 장애가 없어서 벌금이빠이</td>\n      <td>hate</td>\n      <td>0.547884</td>\n      <td>2071</td>\n      <td>none</td>\n    </tr>\n    <tr>\n      <th>463</th>\n      <td>강용석도 찌질하네 과거들추기는 추하다</td>\n      <td>offensive</td>\n      <td>0.436325</td>\n      <td>1830</td>\n      <td>hate</td>\n    </tr>\n    <tr>\n      <th>464</th>\n      <td>지겹이 이프로 그만하자 작가야</td>\n      <td>offensive</td>\n      <td>0.326743</td>\n      <td>7790</td>\n      <td>none</td>\n    </tr>\n    <tr>\n      <th>465</th>\n      <td>그래도 좋은 노래 많았는데ㅠ</td>\n      <td>none</td>\n      <td>0.511568</td>\n      <td>840</td>\n      <td>none</td>\n    </tr>\n    <tr>\n      <th>466</th>\n      <td>지현우 범죄 저지르지 않았나요?</td>\n      <td>offensive</td>\n      <td>0.720521</td>\n      <td>2999</td>\n      <td>none</td>\n    </tr>\n    <tr>\n      <th>467</th>\n      <td>여자인생 망칠 일 있나 ㅋㅋ</td>\n      <td>hate</td>\n      <td>0.357772</td>\n      <td>4054</td>\n      <td>hate</td>\n    </tr>\n    <tr>\n      <th>468</th>\n      <td>근데 전라도에서 사고가 났는데 굳이 서울까지 와서 병원에 가느 이유는?</td>\n      <td>offensive</td>\n      <td>0.324095</td>\n      <td>1766</td>\n      <td>none</td>\n    </tr>\n    <tr>\n      <th>469</th>\n      <td>할매젖x, 뱃살x, 몸매 s라인, 유륜은 적당해야됨(너무크거나 너무 작아도 x), ...</td>\n      <td>hate</td>\n      <td>0.356525</td>\n      <td>6786</td>\n      <td>none</td>\n    </tr>\n    <tr>\n      <th>470</th>\n      <td>남자가 잘못한거라면... 반성도 없다면...나였다면 ... 여자처럼 아주 못되게 할...</td>\n      <td>none</td>\n      <td>0.333702</td>\n      <td>5236</td>\n      <td>none</td>\n    </tr>\n  </tbody>\n</table>\n</div>"
     },
     "metadata": {},
     "execution_count": 30
    }
   ],
   "source": [
    "dev['highest'] = highest\n",
    "dev['highest_id'] = item\n",
    "dev['train_label'] = train_label\n",
    "dev.tail(10)"
   ]
  },
  {
   "cell_type": "code",
   "execution_count": 31,
   "metadata": {},
   "outputs": [
    {
     "output_type": "execute_result",
     "data": {
      "text/plain": [
       "(0.45523200641110845, 0.4692144373673036)"
      ]
     },
     "metadata": {},
     "execution_count": 31
    }
   ],
   "source": [
    "from sklearn.metrics import accuracy_score, f1_score\n",
    "\n",
    "f1_score(dev['hate_label'], dev['train_label'], average='macro'), accuracy_score(dev['hate_label'], dev['train_label'])"
   ]
  },
  {
   "cell_type": "code",
   "execution_count": 15,
   "metadata": {},
   "outputs": [],
   "source": [
    "correct = dev[dev['hate_label'] == dev['train_label']]"
   ]
  },
  {
   "cell_type": "code",
   "execution_count": 16,
   "metadata": {},
   "outputs": [
    {
     "output_type": "execute_result",
     "data": {
      "text/plain": [
       "offensive    189\n",
       "none         160\n",
       "hate         122\n",
       "Name: hate_label, dtype: int64"
      ]
     },
     "metadata": {},
     "execution_count": 16
    }
   ],
   "source": [
    "dev['hate_label'].value_counts()"
   ]
  },
  {
   "cell_type": "code",
   "execution_count": 17,
   "metadata": {},
   "outputs": [
    {
     "output_type": "execute_result",
     "data": {
      "text/plain": [
       "none         111\n",
       "offensive     78\n",
       "hate          41\n",
       "Name: hate_label, dtype: int64"
      ]
     },
     "metadata": {},
     "execution_count": 17
    }
   ],
   "source": [
    "correct['hate_label'].value_counts()"
   ]
  },
  {
   "cell_type": "code",
   "execution_count": null,
   "metadata": {},
   "outputs": [],
   "source": []
  },
  {
   "cell_type": "code",
   "execution_count": null,
   "metadata": {},
   "outputs": [],
   "source": []
  },
  {
   "source": [
    "## append train and dev the train_test_split for bigger data set"
   ],
   "cell_type": "markdown",
   "metadata": {}
  },
  {
   "cell_type": "code",
   "execution_count": 85,
   "metadata": {},
   "outputs": [
    {
     "output_type": "execute_result",
     "data": {
      "text/plain": [
       "                                           comments bias_label  gender_label  \\\n",
       "7891                                     힘내세요 응원합니다       none         False   \n",
       "7892                             힘내세요삼가 고인의 명복을 빕니다       none         False   \n",
       "7893                                 힘내세용 항상 응원합니닷        none         False   \n",
       "7894  힘내소연기로 답해요나도 53살 인데 이런일 저런일 다 있더라구요인격을 믿습니다홨팅       none         False   \n",
       "7895                             힘들면 관뒀어야지 그게 현명한거다       none         False   \n",
       "\n",
       "     hate_label                              news_title  \\\n",
       "7891       none           허지웅 허투루 넘길 말 없었다솔직하게 드러냈던 속사정   \n",
       "7892       none      이혜경 오 캐롤’ 공연 중 남편 오정욱 부고오열 속 발인 종합   \n",
       "7893       none             설경구♥ 송윤아 아들과 즐거운 하루 전 엄마니까요   \n",
       "7894       none  현장연예인 인생 협박 유감미소잃은 최민수 보복운전 혐의 2차 공판종합   \n",
       "7895       none            단독스태프 사망사고 서른이지만 결국 오늘 촬영 취소   \n",
       "\n",
       "                                            comment_pos  \\\n",
       "7891  [('힘내세요', 'Verb'), ('응원', 'Noun'), ('합니다', 'Ve...   \n",
       "7892  [('힘내세요', 'Verb'), ('삼가', 'Verb'), ('고인', 'Nou...   \n",
       "7893  [('힘내세용', 'Verb'), ('항상', 'Noun'), ('응원', 'Nou...   \n",
       "7894  [('힘내소', 'Verb'), ('연기', 'Noun'), ('로', 'Josa'...   \n",
       "7895  [('힘들면', 'Adjective'), ('관', 'Noun'), ('뒀어야지',...   \n",
       "\n",
       "                                              title_pos  \n",
       "7891  [('허지웅', 'Noun'), ('허투루', 'Noun'), ('넘길', 'Ver...  \n",
       "7892  [('이혜경', 'Noun'), ('오', 'Noun'), ('캐롤', 'Noun'...  \n",
       "7893  [('설경구', 'Noun'), ('♥', 'Foreign'), ('송윤아', 'N...  \n",
       "7894  [('현장', 'Noun'), ('연예인', 'Noun'), ('인생', 'Noun...  \n",
       "7895  [('단독', 'Noun'), ('스태프', 'Noun'), ('사망', 'Noun...  "
      ],
      "text/html": "<div>\n<style scoped>\n    .dataframe tbody tr th:only-of-type {\n        vertical-align: middle;\n    }\n\n    .dataframe tbody tr th {\n        vertical-align: top;\n    }\n\n    .dataframe thead th {\n        text-align: right;\n    }\n</style>\n<table border=\"1\" class=\"dataframe\">\n  <thead>\n    <tr style=\"text-align: right;\">\n      <th></th>\n      <th>comments</th>\n      <th>bias_label</th>\n      <th>gender_label</th>\n      <th>hate_label</th>\n      <th>news_title</th>\n      <th>comment_pos</th>\n      <th>title_pos</th>\n    </tr>\n  </thead>\n  <tbody>\n    <tr>\n      <th>7891</th>\n      <td>힘내세요 응원합니다</td>\n      <td>none</td>\n      <td>False</td>\n      <td>none</td>\n      <td>허지웅 허투루 넘길 말 없었다솔직하게 드러냈던 속사정</td>\n      <td>[('힘내세요', 'Verb'), ('응원', 'Noun'), ('합니다', 'Ve...</td>\n      <td>[('허지웅', 'Noun'), ('허투루', 'Noun'), ('넘길', 'Ver...</td>\n    </tr>\n    <tr>\n      <th>7892</th>\n      <td>힘내세요삼가 고인의 명복을 빕니다</td>\n      <td>none</td>\n      <td>False</td>\n      <td>none</td>\n      <td>이혜경 오 캐롤’ 공연 중 남편 오정욱 부고오열 속 발인 종합</td>\n      <td>[('힘내세요', 'Verb'), ('삼가', 'Verb'), ('고인', 'Nou...</td>\n      <td>[('이혜경', 'Noun'), ('오', 'Noun'), ('캐롤', 'Noun'...</td>\n    </tr>\n    <tr>\n      <th>7893</th>\n      <td>힘내세용 항상 응원합니닷</td>\n      <td>none</td>\n      <td>False</td>\n      <td>none</td>\n      <td>설경구♥ 송윤아 아들과 즐거운 하루 전 엄마니까요</td>\n      <td>[('힘내세용', 'Verb'), ('항상', 'Noun'), ('응원', 'Nou...</td>\n      <td>[('설경구', 'Noun'), ('♥', 'Foreign'), ('송윤아', 'N...</td>\n    </tr>\n    <tr>\n      <th>7894</th>\n      <td>힘내소연기로 답해요나도 53살 인데 이런일 저런일 다 있더라구요인격을 믿습니다홨팅</td>\n      <td>none</td>\n      <td>False</td>\n      <td>none</td>\n      <td>현장연예인 인생 협박 유감미소잃은 최민수 보복운전 혐의 2차 공판종합</td>\n      <td>[('힘내소', 'Verb'), ('연기', 'Noun'), ('로', 'Josa'...</td>\n      <td>[('현장', 'Noun'), ('연예인', 'Noun'), ('인생', 'Noun...</td>\n    </tr>\n    <tr>\n      <th>7895</th>\n      <td>힘들면 관뒀어야지 그게 현명한거다</td>\n      <td>none</td>\n      <td>False</td>\n      <td>none</td>\n      <td>단독스태프 사망사고 서른이지만 결국 오늘 촬영 취소</td>\n      <td>[('힘들면', 'Adjective'), ('관', 'Noun'), ('뒀어야지',...</td>\n      <td>[('단독', 'Noun'), ('스태프', 'Noun'), ('사망', 'Noun...</td>\n    </tr>\n  </tbody>\n</table>\n</div>"
     },
     "metadata": {},
     "execution_count": 85
    }
   ],
   "source": [
    "import pandas as pd\r\n",
    "import numpy as np\r\n",
    "import seaborn as sns\r\n",
    "import matplotlib.pyplot as plt\r\n",
    "%matplotlib inline\r\n",
    "import warnings\r\n",
    "warnings.filterwarnings('ignore')\r\n",
    "\r\n",
    "train = pd.read_csv('./datas/train_ver2', index_col=[0])\r\n",
    "train.tail()"
   ]
  },
  {
   "cell_type": "code",
   "execution_count": 86,
   "metadata": {},
   "outputs": [
    {
     "output_type": "execute_result",
     "data": {
      "text/plain": [
       "                                              comments hate_label\n",
       "461                         송윤아 이뿌다 옷도 다 이쁘고 고급지고 우아하다       none\n",
       "462                        니기미 나는 흔한공황장애 장애가 없어서 벌금이빠이       hate\n",
       "463                               강용석도 찌질하네 과거들추기는 추하다  offensive\n",
       "464                                   지겹이 이프로 그만하자 작가야  offensive\n",
       "465                                    그래도 좋은 노래 많았는데ㅠ       none\n",
       "466                                  지현우 범죄 저지르지 않았나요?  offensive\n",
       "467                                    여자인생 망칠 일 있나 ㅋㅋ       hate\n",
       "468            근데 전라도에서 사고가 났는데 굳이 서울까지 와서 병원에 가느 이유는?  offensive\n",
       "469  할매젖x, 뱃살x, 몸매 s라인, 유륜은 적당해야됨(너무크거나 너무 작아도 x), ...       hate\n",
       "470  남자가 잘못한거라면... 반성도 없다면...나였다면 ... 여자처럼 아주 못되게 할...       none"
      ],
      "text/html": "<div>\n<style scoped>\n    .dataframe tbody tr th:only-of-type {\n        vertical-align: middle;\n    }\n\n    .dataframe tbody tr th {\n        vertical-align: top;\n    }\n\n    .dataframe thead th {\n        text-align: right;\n    }\n</style>\n<table border=\"1\" class=\"dataframe\">\n  <thead>\n    <tr style=\"text-align: right;\">\n      <th></th>\n      <th>comments</th>\n      <th>hate_label</th>\n    </tr>\n  </thead>\n  <tbody>\n    <tr>\n      <th>461</th>\n      <td>송윤아 이뿌다 옷도 다 이쁘고 고급지고 우아하다</td>\n      <td>none</td>\n    </tr>\n    <tr>\n      <th>462</th>\n      <td>니기미 나는 흔한공황장애 장애가 없어서 벌금이빠이</td>\n      <td>hate</td>\n    </tr>\n    <tr>\n      <th>463</th>\n      <td>강용석도 찌질하네 과거들추기는 추하다</td>\n      <td>offensive</td>\n    </tr>\n    <tr>\n      <th>464</th>\n      <td>지겹이 이프로 그만하자 작가야</td>\n      <td>offensive</td>\n    </tr>\n    <tr>\n      <th>465</th>\n      <td>그래도 좋은 노래 많았는데ㅠ</td>\n      <td>none</td>\n    </tr>\n    <tr>\n      <th>466</th>\n      <td>지현우 범죄 저지르지 않았나요?</td>\n      <td>offensive</td>\n    </tr>\n    <tr>\n      <th>467</th>\n      <td>여자인생 망칠 일 있나 ㅋㅋ</td>\n      <td>hate</td>\n    </tr>\n    <tr>\n      <th>468</th>\n      <td>근데 전라도에서 사고가 났는데 굳이 서울까지 와서 병원에 가느 이유는?</td>\n      <td>offensive</td>\n    </tr>\n    <tr>\n      <th>469</th>\n      <td>할매젖x, 뱃살x, 몸매 s라인, 유륜은 적당해야됨(너무크거나 너무 작아도 x), ...</td>\n      <td>hate</td>\n    </tr>\n    <tr>\n      <th>470</th>\n      <td>남자가 잘못한거라면... 반성도 없다면...나였다면 ... 여자처럼 아주 못되게 할...</td>\n      <td>none</td>\n    </tr>\n  </tbody>\n</table>\n</div>"
     },
     "metadata": {},
     "execution_count": 86
    }
   ],
   "source": [
    "dev = pd.read_csv('./datas/dev.hate.csv')\n",
    "dev.rename(columns={'label': 'hate_label'}, inplace=True)\n",
    "dev.tail(10)"
   ]
  },
  {
   "cell_type": "code",
   "execution_count": 87,
   "metadata": {},
   "outputs": [
    {
     "output_type": "execute_result",
     "data": {
      "text/plain": [
       "                                               comments hate_label\n",
       "8362                                  지현우 범죄 저지르지 않았나요?  offensive\n",
       "8363                                    여자인생 망칠 일 있나 ㅋㅋ       hate\n",
       "8364            근데 전라도에서 사고가 났는데 굳이 서울까지 와서 병원에 가느 이유는?  offensive\n",
       "8365  할매젖x, 뱃살x, 몸매 s라인, 유륜은 적당해야됨(너무크거나 너무 작아도 x), ...       hate\n",
       "8366  남자가 잘못한거라면... 반성도 없다면...나였다면 ... 여자처럼 아주 못되게 할...       none"
      ],
      "text/html": "<div>\n<style scoped>\n    .dataframe tbody tr th:only-of-type {\n        vertical-align: middle;\n    }\n\n    .dataframe tbody tr th {\n        vertical-align: top;\n    }\n\n    .dataframe thead th {\n        text-align: right;\n    }\n</style>\n<table border=\"1\" class=\"dataframe\">\n  <thead>\n    <tr style=\"text-align: right;\">\n      <th></th>\n      <th>comments</th>\n      <th>hate_label</th>\n    </tr>\n  </thead>\n  <tbody>\n    <tr>\n      <th>8362</th>\n      <td>지현우 범죄 저지르지 않았나요?</td>\n      <td>offensive</td>\n    </tr>\n    <tr>\n      <th>8363</th>\n      <td>여자인생 망칠 일 있나 ㅋㅋ</td>\n      <td>hate</td>\n    </tr>\n    <tr>\n      <th>8364</th>\n      <td>근데 전라도에서 사고가 났는데 굳이 서울까지 와서 병원에 가느 이유는?</td>\n      <td>offensive</td>\n    </tr>\n    <tr>\n      <th>8365</th>\n      <td>할매젖x, 뱃살x, 몸매 s라인, 유륜은 적당해야됨(너무크거나 너무 작아도 x), ...</td>\n      <td>hate</td>\n    </tr>\n    <tr>\n      <th>8366</th>\n      <td>남자가 잘못한거라면... 반성도 없다면...나였다면 ... 여자처럼 아주 못되게 할...</td>\n      <td>none</td>\n    </tr>\n  </tbody>\n</table>\n</div>"
     },
     "metadata": {},
     "execution_count": 87
    }
   ],
   "source": [
    "train.drop(columns=(['bias_label', 'gender_label', 'news_title', 'comment_pos', 'title_pos']), inplace=True)\n",
    "train = train.append(dev, ignore_index=True)\n",
    "train.tail()"
   ]
  },
  {
   "cell_type": "code",
   "execution_count": 88,
   "metadata": {},
   "outputs": [
    {
     "output_type": "execute_result",
     "data": {
      "text/plain": [
       "                                               comments hate_label\n",
       "8362                                  지현우 범죄 저지르지 않았나요?  offensive\n",
       "8363                                    여자인생 망칠 일 있나 ㅋㅋ       hate\n",
       "8364            근데 전라도에서 사고가 났는데 굳이 서울까지 와서 병원에 가느 이유는?  offensive\n",
       "8365  할매젖x, 뱃살x, 몸매 s라인, 유륜은 적당해야됨(너무크거나 너무 작아도 x), ...       hate\n",
       "8366  남자가 잘못한거라면... 반성도 없다면...나였다면 ... 여자처럼 아주 못되게 할...       none"
      ],
      "text/html": "<div>\n<style scoped>\n    .dataframe tbody tr th:only-of-type {\n        vertical-align: middle;\n    }\n\n    .dataframe tbody tr th {\n        vertical-align: top;\n    }\n\n    .dataframe thead th {\n        text-align: right;\n    }\n</style>\n<table border=\"1\" class=\"dataframe\">\n  <thead>\n    <tr style=\"text-align: right;\">\n      <th></th>\n      <th>comments</th>\n      <th>hate_label</th>\n    </tr>\n  </thead>\n  <tbody>\n    <tr>\n      <th>8362</th>\n      <td>지현우 범죄 저지르지 않았나요?</td>\n      <td>offensive</td>\n    </tr>\n    <tr>\n      <th>8363</th>\n      <td>여자인생 망칠 일 있나 ㅋㅋ</td>\n      <td>hate</td>\n    </tr>\n    <tr>\n      <th>8364</th>\n      <td>근데 전라도에서 사고가 났는데 굳이 서울까지 와서 병원에 가느 이유는?</td>\n      <td>offensive</td>\n    </tr>\n    <tr>\n      <th>8365</th>\n      <td>할매젖x, 뱃살x, 몸매 s라인, 유륜은 적당해야됨(너무크거나 너무 작아도 x), ...</td>\n      <td>hate</td>\n    </tr>\n    <tr>\n      <th>8366</th>\n      <td>남자가 잘못한거라면... 반성도 없다면...나였다면 ... 여자처럼 아주 못되게 할...</td>\n      <td>none</td>\n    </tr>\n  </tbody>\n</table>\n</div>"
     },
     "metadata": {},
     "execution_count": 88
    }
   ],
   "source": [
    "train = train.drop_duplicates()\n",
    "train.tail()"
   ]
  },
  {
   "cell_type": "code",
   "execution_count": 89,
   "metadata": {},
   "outputs": [],
   "source": [
    "import pandas as pd\n",
    "from konlpy.tag import Okt; t = Okt()\n",
    "from sklearn.feature_extraction.text import TfidfVectorizer\n",
    "\n",
    "def t_tokenizer(text):\n",
    "    tokens_ko = t.morphs(text)\n",
    "    return tokens_ko"
   ]
  },
  {
   "cell_type": "code",
   "execution_count": 93,
   "metadata": {},
   "outputs": [],
   "source": [
    "from sklearn.model_selection import train_test_split\n",
    "\n",
    "msg_train, msg_test, class_train, class_test = train_test_split(train['comments'], train['hate_label'], test_size=0.2, random_state=113)"
   ]
  },
  {
   "cell_type": "code",
   "execution_count": 94,
   "metadata": {},
   "outputs": [],
   "source": [
    "tfidf_vect = TfidfVectorizer(tokenizer=t_tokenizer, sublinear_tf=True, ngram_range=(1,3), min_df=3, max_df=0.9)\n",
    "tfidf_train = tfidf_vect.fit_transform(msg_train)\n",
    "tfidf_test = tfidf_vect.transform(msg_test)"
   ]
  },
  {
   "cell_type": "code",
   "execution_count": 95,
   "metadata": {},
   "outputs": [],
   "source": [
    "from sklearn.metrics.pairwise import cosine_similarity\n",
    "\n",
    "cos_sim = cosine_similarity(tfidf_test, tfidf_train)\n",
    "\n",
    "highest = []\n",
    "item_idx = []\n",
    "for each in cos_sim:\n",
    "    highest.append(max(each))\n",
    "    item_idx.append(np.where(each==max(each)))\n",
    "\n",
    "item = []\n",
    "for each in item_idx:\n",
    "    item.append((each[0][0]))\n",
    "\n",
    "train_label = []\n",
    "for each in item:\n",
    "    train_label.append(train['hate_label'][each])"
   ]
  },
  {
   "cell_type": "code",
   "execution_count": 97,
   "metadata": {},
   "outputs": [
    {
     "output_type": "execute_result",
     "data": {
      "text/plain": [
       "(1673, 6691)"
      ]
     },
     "metadata": {},
     "execution_count": 97
    }
   ],
   "source": [
    "len(cos_sim), len(cos_sim[0])"
   ]
  },
  {
   "cell_type": "code",
   "execution_count": 98,
   "metadata": {},
   "outputs": [
    {
     "output_type": "execute_result",
     "data": {
      "text/plain": [
       "                                               comments hate_label\n",
       "4795                                  여행가지고 참 오래도 우려먹는다  offensive\n",
       "6781                             종국이가 낫구만 얼굴이 다가아니다 사람은       none\n",
       "8258  아 왜 쿵쾅이들이 결혼뉴스에 유독 ㅂㄷㅂㄷ 거리는지알겠다 ㅋㅋ 지들은 뚱뚱하고 못생...       hate\n",
       "3171                         비닐봉지를 씌운 채 라이터를 갖다 댄 거 아닌데       none\n",
       "3180                                  비위 오지나보다  돈이 좋긴하네       hate\n",
       "...                                                 ...        ...\n",
       "5243                         왜불쌍한다고 생각하지참 대한 민국인식이 이해안감  offensive\n",
       "2237  드럽게들 할 일 없나보네 트집 잡아서 조리돌림 하기 전에 니들 인생이나 좀 제대로 ...  offensive\n",
       "5967                        이장우 늙고 못생김 저딴 아재가 주연이니깐 망하지       hate\n",
       "5602                             이 드라마 정체가 뭐임  알고 싶지 않다  offensive\n",
       "922   그리 기대했는데 사실 짜증남 아직까지 대체 그많은 캐리터들  골고루 분배도 안되고 ...       none\n",
       "\n",
       "[1673 rows x 2 columns]"
      ],
      "text/html": "<div>\n<style scoped>\n    .dataframe tbody tr th:only-of-type {\n        vertical-align: middle;\n    }\n\n    .dataframe tbody tr th {\n        vertical-align: top;\n    }\n\n    .dataframe thead th {\n        text-align: right;\n    }\n</style>\n<table border=\"1\" class=\"dataframe\">\n  <thead>\n    <tr style=\"text-align: right;\">\n      <th></th>\n      <th>comments</th>\n      <th>hate_label</th>\n    </tr>\n  </thead>\n  <tbody>\n    <tr>\n      <th>4795</th>\n      <td>여행가지고 참 오래도 우려먹는다</td>\n      <td>offensive</td>\n    </tr>\n    <tr>\n      <th>6781</th>\n      <td>종국이가 낫구만 얼굴이 다가아니다 사람은</td>\n      <td>none</td>\n    </tr>\n    <tr>\n      <th>8258</th>\n      <td>아 왜 쿵쾅이들이 결혼뉴스에 유독 ㅂㄷㅂㄷ 거리는지알겠다 ㅋㅋ 지들은 뚱뚱하고 못생...</td>\n      <td>hate</td>\n    </tr>\n    <tr>\n      <th>3171</th>\n      <td>비닐봉지를 씌운 채 라이터를 갖다 댄 거 아닌데</td>\n      <td>none</td>\n    </tr>\n    <tr>\n      <th>3180</th>\n      <td>비위 오지나보다  돈이 좋긴하네</td>\n      <td>hate</td>\n    </tr>\n    <tr>\n      <th>...</th>\n      <td>...</td>\n      <td>...</td>\n    </tr>\n    <tr>\n      <th>5243</th>\n      <td>왜불쌍한다고 생각하지참 대한 민국인식이 이해안감</td>\n      <td>offensive</td>\n    </tr>\n    <tr>\n      <th>2237</th>\n      <td>드럽게들 할 일 없나보네 트집 잡아서 조리돌림 하기 전에 니들 인생이나 좀 제대로 ...</td>\n      <td>offensive</td>\n    </tr>\n    <tr>\n      <th>5967</th>\n      <td>이장우 늙고 못생김 저딴 아재가 주연이니깐 망하지</td>\n      <td>hate</td>\n    </tr>\n    <tr>\n      <th>5602</th>\n      <td>이 드라마 정체가 뭐임  알고 싶지 않다</td>\n      <td>offensive</td>\n    </tr>\n    <tr>\n      <th>922</th>\n      <td>그리 기대했는데 사실 짜증남 아직까지 대체 그많은 캐리터들  골고루 분배도 안되고 ...</td>\n      <td>none</td>\n    </tr>\n  </tbody>\n</table>\n<p>1673 rows × 2 columns</p>\n</div>"
     },
     "metadata": {},
     "execution_count": 98
    }
   ],
   "source": [
    "dev_test = {'comments': msg_test, 'hate_label': class_test}\n",
    "test_df = pd.concat(dev_test, axis=1)\n",
    "test_df"
   ]
  },
  {
   "cell_type": "code",
   "execution_count": 99,
   "metadata": {},
   "outputs": [
    {
     "output_type": "execute_result",
     "data": {
      "text/plain": [
       "                                               comments hate_label   highest  \\\n",
       "6184            자기가 결혼때문에 커리어가 단절됫다고 생각하는 능력없는 아줌마들 드라마       hate  0.352721   \n",
       "8128                                            재미도 없던게  offensive  0.581744   \n",
       "7225    친화력보단 급식시절에 찐따취급당해서 어떻게든 인맥쌓고 싶어하는거 같은데 그게 습관돼서       hate  0.308425   \n",
       "3015                                         별 걸 다 트집이네       none  0.638709   \n",
       "3614                           솔직히 이상민아니였음 방송코배기못나올사람인데  offensive  0.349589   \n",
       "5243                         왜불쌍한다고 생각하지참 대한 민국인식이 이해안감  offensive  0.243287   \n",
       "2237  드럽게들 할 일 없나보네 트집 잡아서 조리돌림 하기 전에 니들 인생이나 좀 제대로 ...  offensive  0.250817   \n",
       "5967                        이장우 늙고 못생김 저딴 아재가 주연이니깐 망하지       hate  0.508223   \n",
       "5602                             이 드라마 정체가 뭐임  알고 싶지 않다  offensive  0.388808   \n",
       "922   그리 기대했는데 사실 짜증남 아직까지 대체 그많은 캐리터들  골고루 분배도 안되고 ...       none  0.190800   \n",
       "\n",
       "      highest_id train_label  \n",
       "6184        2407        hate  \n",
       "8128        3043        none  \n",
       "7225        4458        none  \n",
       "3015        1658        hate  \n",
       "3614        4145   offensive  \n",
       "5243        4687        none  \n",
       "2237        1012        hate  \n",
       "5967        1290   offensive  \n",
       "5602        3342        none  \n",
       "922          145        none  "
      ],
      "text/html": "<div>\n<style scoped>\n    .dataframe tbody tr th:only-of-type {\n        vertical-align: middle;\n    }\n\n    .dataframe tbody tr th {\n        vertical-align: top;\n    }\n\n    .dataframe thead th {\n        text-align: right;\n    }\n</style>\n<table border=\"1\" class=\"dataframe\">\n  <thead>\n    <tr style=\"text-align: right;\">\n      <th></th>\n      <th>comments</th>\n      <th>hate_label</th>\n      <th>highest</th>\n      <th>highest_id</th>\n      <th>train_label</th>\n    </tr>\n  </thead>\n  <tbody>\n    <tr>\n      <th>6184</th>\n      <td>자기가 결혼때문에 커리어가 단절됫다고 생각하는 능력없는 아줌마들 드라마</td>\n      <td>hate</td>\n      <td>0.352721</td>\n      <td>2407</td>\n      <td>hate</td>\n    </tr>\n    <tr>\n      <th>8128</th>\n      <td>재미도 없던게</td>\n      <td>offensive</td>\n      <td>0.581744</td>\n      <td>3043</td>\n      <td>none</td>\n    </tr>\n    <tr>\n      <th>7225</th>\n      <td>친화력보단 급식시절에 찐따취급당해서 어떻게든 인맥쌓고 싶어하는거 같은데 그게 습관돼서</td>\n      <td>hate</td>\n      <td>0.308425</td>\n      <td>4458</td>\n      <td>none</td>\n    </tr>\n    <tr>\n      <th>3015</th>\n      <td>별 걸 다 트집이네</td>\n      <td>none</td>\n      <td>0.638709</td>\n      <td>1658</td>\n      <td>hate</td>\n    </tr>\n    <tr>\n      <th>3614</th>\n      <td>솔직히 이상민아니였음 방송코배기못나올사람인데</td>\n      <td>offensive</td>\n      <td>0.349589</td>\n      <td>4145</td>\n      <td>offensive</td>\n    </tr>\n    <tr>\n      <th>5243</th>\n      <td>왜불쌍한다고 생각하지참 대한 민국인식이 이해안감</td>\n      <td>offensive</td>\n      <td>0.243287</td>\n      <td>4687</td>\n      <td>none</td>\n    </tr>\n    <tr>\n      <th>2237</th>\n      <td>드럽게들 할 일 없나보네 트집 잡아서 조리돌림 하기 전에 니들 인생이나 좀 제대로 ...</td>\n      <td>offensive</td>\n      <td>0.250817</td>\n      <td>1012</td>\n      <td>hate</td>\n    </tr>\n    <tr>\n      <th>5967</th>\n      <td>이장우 늙고 못생김 저딴 아재가 주연이니깐 망하지</td>\n      <td>hate</td>\n      <td>0.508223</td>\n      <td>1290</td>\n      <td>offensive</td>\n    </tr>\n    <tr>\n      <th>5602</th>\n      <td>이 드라마 정체가 뭐임  알고 싶지 않다</td>\n      <td>offensive</td>\n      <td>0.388808</td>\n      <td>3342</td>\n      <td>none</td>\n    </tr>\n    <tr>\n      <th>922</th>\n      <td>그리 기대했는데 사실 짜증남 아직까지 대체 그많은 캐리터들  골고루 분배도 안되고 ...</td>\n      <td>none</td>\n      <td>0.190800</td>\n      <td>145</td>\n      <td>none</td>\n    </tr>\n  </tbody>\n</table>\n</div>"
     },
     "metadata": {},
     "execution_count": 99
    }
   ],
   "source": [
    "test_df['highest'] = highest\n",
    "test_df['highest_id'] = item\n",
    "test_df['train_label'] = train_label\n",
    "test_df.tail(10)"
   ]
  },
  {
   "cell_type": "code",
   "execution_count": 100,
   "metadata": {},
   "outputs": [
    {
     "output_type": "execute_result",
     "data": {
      "text/plain": [
       "(0.3230946041469073, 0.34190077704722055)"
      ]
     },
     "metadata": {},
     "execution_count": 100
    }
   ],
   "source": [
    "from sklearn.metrics import accuracy_score, f1_score\n",
    "\n",
    "f1_score(test_df['hate_label'], test_df['train_label'], average='macro'), accuracy_score(test_df['hate_label'], test_df['train_label'])"
   ]
  },
  {
   "cell_type": "code",
   "execution_count": null,
   "metadata": {},
   "outputs": [],
   "source": []
  },
  {
   "cell_type": "code",
   "execution_count": null,
   "metadata": {},
   "outputs": [],
   "source": []
  },
  {
   "cell_type": "code",
   "execution_count": null,
   "metadata": {},
   "outputs": [],
   "source": []
  },
  {
   "source": [
    "## train + dev -> train_test_split"
   ],
   "cell_type": "markdown",
   "metadata": {}
  },
  {
   "cell_type": "code",
   "execution_count": 43,
   "metadata": {},
   "outputs": [
    {
     "output_type": "execute_result",
     "data": {
      "text/plain": [
       "                                               comments bias_label  \\\n",
       "7891                                         힘내세요,응원합니다       none   \n",
       "7892                                힘내세요,삼가 고인의 명복을 빕니다       none   \n",
       "7893                                      힘내세용 항상 응원합니닷       none   \n",
       "7894  힘내 소연기로 답해요,나도 53살 인데 이런 일 저런 일 다 있더라구 요인격을 믿습...       none   \n",
       "7895                                힘들면 관뒀어야지 그게 현명한 거다       none   \n",
       "\n",
       "      gender_label hate_label                                     news_title  \\\n",
       "7891         False       none                허지웅 허투루 넘길 말 없었다,솔직하게 드러냈던 속 사정   \n",
       "7892         False       none            이혜경 오 캐롤 공연 중 남편 오정욱 부 고 오열 속 발인 종합   \n",
       "7893         False       none                     설경구 송윤아 아들과 즐거운 하루 전 엄마니까요   \n",
       "7894         False       none  SC 현장 연예인 인생 협박 유감 미소 잃은 최민수 보복운전 혐의 2차 공판 종합   \n",
       "7895         False       none                단독 스태프 사망 사고 서른 이지만 결국 오늘 촬영 취소   \n",
       "\n",
       "                                            comment_pos  \\\n",
       "7891  [('힘내세요', 'Verb'), (',', 'Punctuation'), ('응원'...   \n",
       "7892  [('힘내세요', 'Verb'), (',', 'Punctuation'), ('삼가'...   \n",
       "7893  [('힘내세용', 'Verb'), ('항상', 'Noun'), ('응원', 'Nou...   \n",
       "7894  [('힘내', 'Verb'), ('소', 'Modifier'), ('연기', 'No...   \n",
       "7895  [('힘들면', 'Adjective'), ('관', 'Noun'), ('뒀어야지',...   \n",
       "\n",
       "                                              title_pos  \n",
       "7891  [('허지웅', 'Noun'), ('허투루', 'Noun'), ('넘길', 'Ver...  \n",
       "7892  [('이혜경', 'Noun'), ('오', 'Noun'), ('캐롤', 'Noun'...  \n",
       "7893  [('설경구', 'Noun'), ('송윤아', 'Noun'), ('아들', 'Nou...  \n",
       "7894  [('SC', 'Alpha'), ('현장', 'Noun'), ('연예인', 'Nou...  \n",
       "7895  [('단독', 'Noun'), ('스태프', 'Noun'), ('사망', 'Noun...  "
      ],
      "text/html": "<div>\n<style scoped>\n    .dataframe tbody tr th:only-of-type {\n        vertical-align: middle;\n    }\n\n    .dataframe tbody tr th {\n        vertical-align: top;\n    }\n\n    .dataframe thead th {\n        text-align: right;\n    }\n</style>\n<table border=\"1\" class=\"dataframe\">\n  <thead>\n    <tr style=\"text-align: right;\">\n      <th></th>\n      <th>comments</th>\n      <th>bias_label</th>\n      <th>gender_label</th>\n      <th>hate_label</th>\n      <th>news_title</th>\n      <th>comment_pos</th>\n      <th>title_pos</th>\n    </tr>\n  </thead>\n  <tbody>\n    <tr>\n      <th>7891</th>\n      <td>힘내세요,응원합니다</td>\n      <td>none</td>\n      <td>False</td>\n      <td>none</td>\n      <td>허지웅 허투루 넘길 말 없었다,솔직하게 드러냈던 속 사정</td>\n      <td>[('힘내세요', 'Verb'), (',', 'Punctuation'), ('응원'...</td>\n      <td>[('허지웅', 'Noun'), ('허투루', 'Noun'), ('넘길', 'Ver...</td>\n    </tr>\n    <tr>\n      <th>7892</th>\n      <td>힘내세요,삼가 고인의 명복을 빕니다</td>\n      <td>none</td>\n      <td>False</td>\n      <td>none</td>\n      <td>이혜경 오 캐롤 공연 중 남편 오정욱 부 고 오열 속 발인 종합</td>\n      <td>[('힘내세요', 'Verb'), (',', 'Punctuation'), ('삼가'...</td>\n      <td>[('이혜경', 'Noun'), ('오', 'Noun'), ('캐롤', 'Noun'...</td>\n    </tr>\n    <tr>\n      <th>7893</th>\n      <td>힘내세용 항상 응원합니닷</td>\n      <td>none</td>\n      <td>False</td>\n      <td>none</td>\n      <td>설경구 송윤아 아들과 즐거운 하루 전 엄마니까요</td>\n      <td>[('힘내세용', 'Verb'), ('항상', 'Noun'), ('응원', 'Nou...</td>\n      <td>[('설경구', 'Noun'), ('송윤아', 'Noun'), ('아들', 'Nou...</td>\n    </tr>\n    <tr>\n      <th>7894</th>\n      <td>힘내 소연기로 답해요,나도 53살 인데 이런 일 저런 일 다 있더라구 요인격을 믿습...</td>\n      <td>none</td>\n      <td>False</td>\n      <td>none</td>\n      <td>SC 현장 연예인 인생 협박 유감 미소 잃은 최민수 보복운전 혐의 2차 공판 종합</td>\n      <td>[('힘내', 'Verb'), ('소', 'Modifier'), ('연기', 'No...</td>\n      <td>[('SC', 'Alpha'), ('현장', 'Noun'), ('연예인', 'Nou...</td>\n    </tr>\n    <tr>\n      <th>7895</th>\n      <td>힘들면 관뒀어야지 그게 현명한 거다</td>\n      <td>none</td>\n      <td>False</td>\n      <td>none</td>\n      <td>단독 스태프 사망 사고 서른 이지만 결국 오늘 촬영 취소</td>\n      <td>[('힘들면', 'Adjective'), ('관', 'Noun'), ('뒀어야지',...</td>\n      <td>[('단독', 'Noun'), ('스태프', 'Noun'), ('사망', 'Noun...</td>\n    </tr>\n  </tbody>\n</table>\n</div>"
     },
     "metadata": {},
     "execution_count": 43
    }
   ],
   "source": [
    "import pandas as pd\n",
    "import numpy as np\n",
    "import seaborn as sns\n",
    "import matplotlib.pyplot as plt\n",
    "%matplotlib inline\n",
    "import warnings\n",
    "warnings.filterwarnings('ignore')\n",
    "\n",
    "train = pd.read_csv('./datas/train_ver1', index_col=[0])\n",
    "train.tail()"
   ]
  },
  {
   "cell_type": "code",
   "execution_count": 44,
   "metadata": {},
   "outputs": [
    {
     "output_type": "execute_result",
     "data": {
      "text/plain": [
       "                                              comments hate_label\n",
       "466                                  지현우 범죄 저지르지 않았나요?  offensive\n",
       "467                                    여자인생 망칠 일 있나 ㅋㅋ       hate\n",
       "468            근데 전라도에서 사고가 났는데 굳이 서울까지 와서 병원에 가느 이유는?  offensive\n",
       "469  할매젖x, 뱃살x, 몸매 s라인, 유륜은 적당해야됨(너무크거나 너무 작아도 x), ...       hate\n",
       "470  남자가 잘못한거라면... 반성도 없다면...나였다면 ... 여자처럼 아주 못되게 할...       none"
      ],
      "text/html": "<div>\n<style scoped>\n    .dataframe tbody tr th:only-of-type {\n        vertical-align: middle;\n    }\n\n    .dataframe tbody tr th {\n        vertical-align: top;\n    }\n\n    .dataframe thead th {\n        text-align: right;\n    }\n</style>\n<table border=\"1\" class=\"dataframe\">\n  <thead>\n    <tr style=\"text-align: right;\">\n      <th></th>\n      <th>comments</th>\n      <th>hate_label</th>\n    </tr>\n  </thead>\n  <tbody>\n    <tr>\n      <th>466</th>\n      <td>지현우 범죄 저지르지 않았나요?</td>\n      <td>offensive</td>\n    </tr>\n    <tr>\n      <th>467</th>\n      <td>여자인생 망칠 일 있나 ㅋㅋ</td>\n      <td>hate</td>\n    </tr>\n    <tr>\n      <th>468</th>\n      <td>근데 전라도에서 사고가 났는데 굳이 서울까지 와서 병원에 가느 이유는?</td>\n      <td>offensive</td>\n    </tr>\n    <tr>\n      <th>469</th>\n      <td>할매젖x, 뱃살x, 몸매 s라인, 유륜은 적당해야됨(너무크거나 너무 작아도 x), ...</td>\n      <td>hate</td>\n    </tr>\n    <tr>\n      <th>470</th>\n      <td>남자가 잘못한거라면... 반성도 없다면...나였다면 ... 여자처럼 아주 못되게 할...</td>\n      <td>none</td>\n    </tr>\n  </tbody>\n</table>\n</div>"
     },
     "metadata": {},
     "execution_count": 44
    }
   ],
   "source": [
    "dev = pd.read_csv('./datas/dev.hate.csv')\n",
    "dev.rename(columns={'label': 'hate_label'}, inplace=True)\n",
    "dev.tail()"
   ]
  },
  {
   "cell_type": "code",
   "execution_count": 45,
   "metadata": {},
   "outputs": [
    {
     "output_type": "execute_result",
     "data": {
      "text/plain": [
       "                                               comments hate_label\n",
       "8362                                  지현우 범죄 저지르지 않았나요?  offensive\n",
       "8363                                    여자인생 망칠 일 있나 ㅋㅋ       hate\n",
       "8364            근데 전라도에서 사고가 났는데 굳이 서울까지 와서 병원에 가느 이유는?  offensive\n",
       "8365  할매젖x, 뱃살x, 몸매 s라인, 유륜은 적당해야됨(너무크거나 너무 작아도 x), ...       hate\n",
       "8366  남자가 잘못한거라면... 반성도 없다면...나였다면 ... 여자처럼 아주 못되게 할...       none"
      ],
      "text/html": "<div>\n<style scoped>\n    .dataframe tbody tr th:only-of-type {\n        vertical-align: middle;\n    }\n\n    .dataframe tbody tr th {\n        vertical-align: top;\n    }\n\n    .dataframe thead th {\n        text-align: right;\n    }\n</style>\n<table border=\"1\" class=\"dataframe\">\n  <thead>\n    <tr style=\"text-align: right;\">\n      <th></th>\n      <th>comments</th>\n      <th>hate_label</th>\n    </tr>\n  </thead>\n  <tbody>\n    <tr>\n      <th>8362</th>\n      <td>지현우 범죄 저지르지 않았나요?</td>\n      <td>offensive</td>\n    </tr>\n    <tr>\n      <th>8363</th>\n      <td>여자인생 망칠 일 있나 ㅋㅋ</td>\n      <td>hate</td>\n    </tr>\n    <tr>\n      <th>8364</th>\n      <td>근데 전라도에서 사고가 났는데 굳이 서울까지 와서 병원에 가느 이유는?</td>\n      <td>offensive</td>\n    </tr>\n    <tr>\n      <th>8365</th>\n      <td>할매젖x, 뱃살x, 몸매 s라인, 유륜은 적당해야됨(너무크거나 너무 작아도 x), ...</td>\n      <td>hate</td>\n    </tr>\n    <tr>\n      <th>8366</th>\n      <td>남자가 잘못한거라면... 반성도 없다면...나였다면 ... 여자처럼 아주 못되게 할...</td>\n      <td>none</td>\n    </tr>\n  </tbody>\n</table>\n</div>"
     },
     "metadata": {},
     "execution_count": 45
    }
   ],
   "source": [
    "train.drop(columns=(['bias_label', 'gender_label', 'news_title', 'comment_pos', 'title_pos']), inplace=True)\n",
    "train = train.append(dev, ignore_index=True)\n",
    "train.tail()"
   ]
  },
  {
   "cell_type": "code",
   "execution_count": 46,
   "metadata": {},
   "outputs": [],
   "source": [
    "from sklearn.model_selection import train_test_split\n",
    "\n",
    "msg_train, msg_test, class_train, class_test = train_test_split(train['comments'], train['hate_label'], test_size=0.1, random_state=13)"
   ]
  },
  {
   "cell_type": "code",
   "execution_count": 47,
   "metadata": {},
   "outputs": [],
   "source": [
    "from konlpy.tag import Okt; t = Okt()\n",
    "\n",
    "def t_tokenizer(text):\n",
    "    tokens_ko = t.morphs(text)\n",
    "    return tokens_ko"
   ]
  },
  {
   "cell_type": "code",
   "execution_count": 48,
   "metadata": {},
   "outputs": [],
   "source": [
    "from sklearn.feature_extraction.text import TfidfVectorizer\n",
    "\n",
    "tfidf_vect = TfidfVectorizer(tokenizer=t_tokenizer, sublinear_tf=True, ngram_range=(1,3), min_df=3, max_df=0.9, max_features=500000)\n",
    "tfidf_matrix_train = tfidf_vect.fit_transform(msg_train)\n",
    "tfidf_matrix_dev = tfidf_vect.transform(msg_test)\n",
    "tfidf_matrix_test = tfidf_vect.transform(test['comments'])"
   ]
  },
  {
   "cell_type": "code",
   "execution_count": 49,
   "metadata": {},
   "outputs": [
    {
     "output_type": "execute_result",
     "data": {
      "text/plain": [
       "(0.5913239923017084, 0.6236559139784946)"
      ]
     },
     "metadata": {},
     "execution_count": 49
    }
   ],
   "source": [
    "from sklearn.linear_model import LogisticRegression\n",
    "from sklearn.metrics import f1_score, accuracy_score\n",
    "\n",
    "lr = LogisticRegression(solver='sag', C=1, penalty='l2', random_state=350)\n",
    "lr.fit(tfidf_matrix_train, class_train)\n",
    "\n",
    "preds = lr.predict(tfidf_matrix_dev)\n",
    "f1_score(class_test, preds, average='macro'), accuracy_score(class_test, preds)"
   ]
  },
  {
   "cell_type": "code",
   "execution_count": null,
   "metadata": {},
   "outputs": [],
   "source": []
  },
  {
   "cell_type": "code",
   "execution_count": null,
   "metadata": {},
   "outputs": [],
   "source": [
    "## test on unlabeled test data"
   ]
  },
  {
   "cell_type": "code",
   "execution_count": 10,
   "metadata": {},
   "outputs": [
    {
     "output_type": "execute_result",
     "data": {
      "text/plain": [
       "                                              comments\n",
       "969                     대박 게스트... 꼭 봐야징~ 컨셉이 바뀌니깐 재미지넹\n",
       "970  성형으로 다 뜯어고쳐놓고 예쁜척. 성형 전 니 얼굴 다 알고있다. 순자처럼 된장냄새...\n",
       "971  분위기는 비슷하다만 전혀다른 전개던데 무슨ㅋㅋㄱ 우리나라사람들은 분위기만 비슷하면 ...\n",
       "972                               입에 손가릭이 10개 있으니 징그럽다\n",
       "973                              난 조보아 이뻐서 보는데 백종원 관심무"
      ],
      "text/html": "<div>\n<style scoped>\n    .dataframe tbody tr th:only-of-type {\n        vertical-align: middle;\n    }\n\n    .dataframe tbody tr th {\n        vertical-align: top;\n    }\n\n    .dataframe thead th {\n        text-align: right;\n    }\n</style>\n<table border=\"1\" class=\"dataframe\">\n  <thead>\n    <tr style=\"text-align: right;\">\n      <th></th>\n      <th>comments</th>\n    </tr>\n  </thead>\n  <tbody>\n    <tr>\n      <th>969</th>\n      <td>대박 게스트... 꼭 봐야징~ 컨셉이 바뀌니깐 재미지넹</td>\n    </tr>\n    <tr>\n      <th>970</th>\n      <td>성형으로 다 뜯어고쳐놓고 예쁜척. 성형 전 니 얼굴 다 알고있다. 순자처럼 된장냄새...</td>\n    </tr>\n    <tr>\n      <th>971</th>\n      <td>분위기는 비슷하다만 전혀다른 전개던데 무슨ㅋㅋㄱ 우리나라사람들은 분위기만 비슷하면 ...</td>\n    </tr>\n    <tr>\n      <th>972</th>\n      <td>입에 손가릭이 10개 있으니 징그럽다</td>\n    </tr>\n    <tr>\n      <th>973</th>\n      <td>난 조보아 이뻐서 보는데 백종원 관심무</td>\n    </tr>\n  </tbody>\n</table>\n</div>"
     },
     "metadata": {},
     "execution_count": 10
    }
   ],
   "source": [
    "test = pd.read_csv('./datas/test.hate.no_label.csv')\n",
    "test.tail()"
   ]
  },
  {
   "cell_type": "code",
   "execution_count": 119,
   "metadata": {},
   "outputs": [
    {
     "output_type": "execute_result",
     "data": {
      "text/plain": [
       "974"
      ]
     },
     "metadata": {},
     "execution_count": 119
    }
   ],
   "source": [
    "from sklearn.linear_model import LogisticRegression\n",
    "from sklearn.metrics import f1_score, accuracy_score\n",
    "\n",
    "lr = LogisticRegression(solver='sag', C=1, penalty='l2', random_state=350)\n",
    "lr.fit(tfidf_matrix_train, class_train)\n",
    "\n",
    "preds = lr.predict(tfidf_matrix_test)\n",
    "len(preds)"
   ]
  },
  {
   "cell_type": "code",
   "execution_count": 120,
   "metadata": {},
   "outputs": [],
   "source": [
    "preds = pd.DataFrame(preds)\n",
    "preds[preds[0] == 'none'] = 0\n",
    "preds[preds[0] == 'offensive'] = 1\n",
    "preds[preds[0] == 'hate'] = 2"
   ]
  },
  {
   "cell_type": "code",
   "execution_count": 121,
   "metadata": {},
   "outputs": [],
   "source": [
    "preds['comments'] = test['comments']"
   ]
  },
  {
   "cell_type": "code",
   "execution_count": 122,
   "metadata": {},
   "outputs": [
    {
     "output_type": "execute_result",
     "data": {
      "text/plain": [
       "                                              comments label\n",
       "969                     대박 게스트... 꼭 봐야징~ 컨셉이 바뀌니깐 재미지넹     0\n",
       "970  성형으로 다 뜯어고쳐놓고 예쁜척. 성형 전 니 얼굴 다 알고있다. 순자처럼 된장냄새...     1\n",
       "971  분위기는 비슷하다만 전혀다른 전개던데 무슨ㅋㅋㄱ 우리나라사람들은 분위기만 비슷하면 ...     0\n",
       "972                               입에 손가릭이 10개 있으니 징그럽다     2\n",
       "973                              난 조보아 이뻐서 보는데 백종원 관심무     0"
      ],
      "text/html": "<div>\n<style scoped>\n    .dataframe tbody tr th:only-of-type {\n        vertical-align: middle;\n    }\n\n    .dataframe tbody tr th {\n        vertical-align: top;\n    }\n\n    .dataframe thead th {\n        text-align: right;\n    }\n</style>\n<table border=\"1\" class=\"dataframe\">\n  <thead>\n    <tr style=\"text-align: right;\">\n      <th></th>\n      <th>comments</th>\n      <th>label</th>\n    </tr>\n  </thead>\n  <tbody>\n    <tr>\n      <th>969</th>\n      <td>대박 게스트... 꼭 봐야징~ 컨셉이 바뀌니깐 재미지넹</td>\n      <td>0</td>\n    </tr>\n    <tr>\n      <th>970</th>\n      <td>성형으로 다 뜯어고쳐놓고 예쁜척. 성형 전 니 얼굴 다 알고있다. 순자처럼 된장냄새...</td>\n      <td>1</td>\n    </tr>\n    <tr>\n      <th>971</th>\n      <td>분위기는 비슷하다만 전혀다른 전개던데 무슨ㅋㅋㄱ 우리나라사람들은 분위기만 비슷하면 ...</td>\n      <td>0</td>\n    </tr>\n    <tr>\n      <th>972</th>\n      <td>입에 손가릭이 10개 있으니 징그럽다</td>\n      <td>2</td>\n    </tr>\n    <tr>\n      <th>973</th>\n      <td>난 조보아 이뻐서 보는데 백종원 관심무</td>\n      <td>0</td>\n    </tr>\n  </tbody>\n</table>\n</div>"
     },
     "metadata": {},
     "execution_count": 122
    }
   ],
   "source": [
    "preds = preds[['comments', 0]]\n",
    "preds.rename(columns={0: 'label'}, inplace=True)\n",
    "preds.tail()"
   ]
  },
  {
   "cell_type": "code",
   "execution_count": 123,
   "metadata": {},
   "outputs": [],
   "source": [
    "preds.to_csv('./datas/NaiveBayeji_prediction2.csv', index=False)"
   ]
  },
  {
   "cell_type": "code",
   "execution_count": null,
   "metadata": {},
   "outputs": [],
   "source": []
  }
 ],
 "metadata": {
  "kernelspec": {
   "display_name": "Python 3",
   "language": "python",
   "name": "python3"
  },
  "language_info": {
   "codemirror_mode": {
    "name": "ipython",
    "version": 3
   },
   "file_extension": ".py",
   "mimetype": "text/x-python",
   "name": "python",
   "nbconvert_exporter": "python",
   "pygments_lexer": "ipython3",
   "version": "3.7.9-final"
  }
 },
 "nbformat": 4,
 "nbformat_minor": 2
}