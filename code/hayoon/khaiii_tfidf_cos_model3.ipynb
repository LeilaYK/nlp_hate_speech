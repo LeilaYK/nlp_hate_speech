{
 "cells": [
  {
   "cell_type": "code",
   "execution_count": 1,
   "metadata": {},
   "outputs": [],
   "source": [
    "import pandas as pd"
   ]
  },
  {
   "cell_type": "code",
   "execution_count": 2,
   "metadata": {},
   "outputs": [],
   "source": [
    "train_df = pd.read_csv('hate_speech_preprocessed.csv')"
   ]
  },
  {
   "cell_type": "code",
   "execution_count": 4,
   "metadata": {},
   "outputs": [],
   "source": [
    "train_df.rename(columns = {'comments_regex_spellcheck_pos' : 'comments_pos'}, inplace=True)"
   ]
  },
  {
   "cell_type": "code",
   "execution_count": 7,
   "metadata": {},
   "outputs": [],
   "source": [
    "train_df = train_df[['news_title', 'comments', 'comments_pos', 'bias', 'contain_gender_bias', 'hate']]"
   ]
  },
  {
   "cell_type": "code",
   "execution_count": 8,
   "metadata": {},
   "outputs": [
    {
     "data": {
      "text/html": [
       "<div>\n",
       "<style scoped>\n",
       "    .dataframe tbody tr th:only-of-type {\n",
       "        vertical-align: middle;\n",
       "    }\n",
       "\n",
       "    .dataframe tbody tr th {\n",
       "        vertical-align: top;\n",
       "    }\n",
       "\n",
       "    .dataframe thead th {\n",
       "        text-align: right;\n",
       "    }\n",
       "</style>\n",
       "<table border=\"1\" class=\"dataframe\">\n",
       "  <thead>\n",
       "    <tr style=\"text-align: right;\">\n",
       "      <th></th>\n",
       "      <th>news_title</th>\n",
       "      <th>comments</th>\n",
       "      <th>comments_pos</th>\n",
       "      <th>bias</th>\n",
       "      <th>contain_gender_bias</th>\n",
       "      <th>hate</th>\n",
       "    </tr>\n",
       "  </thead>\n",
       "  <tbody>\n",
       "    <tr>\n",
       "      <th>0</th>\n",
       "      <td>\"밤새 조문 행렬…故 전미선, 동료들이 그리워하는 따뜻한 배우 [종합]\"</td>\n",
       "      <td>(현재 호텔주인 심정) 아18 난 마른하늘에 날벼락맞고 호텔망하게생겼는데 누군 계속...</td>\n",
       "      <td>현재 호텔 주인 심정 아 18 나 마르 하늘 벼락 맞 고 호텔 망하 게 생기 는데 ...</td>\n",
       "      <td>others</td>\n",
       "      <td>False</td>\n",
       "      <td>hate</td>\n",
       "    </tr>\n",
       "    <tr>\n",
       "      <th>1</th>\n",
       "      <td>\"'연중' 故 전미선, 생전 마지막 미공개 인터뷰…환하게 웃는 모습 '먹먹'[종합]\"</td>\n",
       "      <td>....한국적인 미인의 대표적인 분...너무나 곱고아름다운모습...그모습뒤의 슬픔을...</td>\n",
       "      <td>한국 적 미인 대표 적 분 너무나 곱 고 아름답 모습 그 모습 뒤 슬픔 미 처 알 ...</td>\n",
       "      <td>none</td>\n",
       "      <td>False</td>\n",
       "      <td>none</td>\n",
       "    </tr>\n",
       "    <tr>\n",
       "      <th>2</th>\n",
       "      <td>\"[단독] 잔나비, 라디오 출연 취소→'한밤' 방송 연기..비판 여론 ing(종합)\"</td>\n",
       "      <td>...못된 넘들...남의 고통을 즐겼던 넘들..이젠 마땅한 처벌을 받아야지..,그래...</td>\n",
       "      <td>못 되 넘 들 남 고통 즐기 넘 들 이제 마땅 하 처벌 받 아야지 그 렇 어야 공정...</td>\n",
       "      <td>none</td>\n",
       "      <td>False</td>\n",
       "      <td>hate</td>\n",
       "    </tr>\n",
       "    <tr>\n",
       "      <th>3</th>\n",
       "      <td>\"'아스달 연대기' 장동건-김옥빈, 들끓는 '욕망커플'→눈물범벅 '칼끝 대립'\"</td>\n",
       "      <td>1,2화 어설펐는데 3,4화 지나서부터는 갈수록 너무 재밌던데</td>\n",
       "      <td>1 2 화 어설 푸 는데 3 4 화 지나 아서 갈 수 록 너무 재밌 데</td>\n",
       "      <td>none</td>\n",
       "      <td>False</td>\n",
       "      <td>none</td>\n",
       "    </tr>\n",
       "    <tr>\n",
       "      <th>4</th>\n",
       "      <td>[DA:이슈] ‘구하라 비보’ 최종범 항소심에 영향?…법조계 “‘공소권 없음’ 아냐”</td>\n",
       "      <td>1. 사람 얼굴 손톱으로 긁은것은 인격살해이고2. 동영상이 몰카냐? 메걸리안들 생각...</td>\n",
       "      <td>1 사람 얼굴 손톱 긁 것 인격 살해 고 2 동영 상 몰카 냐 메 걸리안 들 생각 없 노</td>\n",
       "      <td>gender</td>\n",
       "      <td>True</td>\n",
       "      <td>hate</td>\n",
       "    </tr>\n",
       "  </tbody>\n",
       "</table>\n",
       "</div>"
      ],
      "text/plain": [
       "                                        news_title  \\\n",
       "0         \"밤새 조문 행렬…故 전미선, 동료들이 그리워하는 따뜻한 배우 [종합]\"   \n",
       "1  \"'연중' 故 전미선, 생전 마지막 미공개 인터뷰…환하게 웃는 모습 '먹먹'[종합]\"   \n",
       "2  \"[단독] 잔나비, 라디오 출연 취소→'한밤' 방송 연기..비판 여론 ing(종합)\"   \n",
       "3     \"'아스달 연대기' 장동건-김옥빈, 들끓는 '욕망커플'→눈물범벅 '칼끝 대립'\"   \n",
       "4  [DA:이슈] ‘구하라 비보’ 최종범 항소심에 영향?…법조계 “‘공소권 없음’ 아냐”   \n",
       "\n",
       "                                            comments  \\\n",
       "0  (현재 호텔주인 심정) 아18 난 마른하늘에 날벼락맞고 호텔망하게생겼는데 누군 계속...   \n",
       "1  ....한국적인 미인의 대표적인 분...너무나 곱고아름다운모습...그모습뒤의 슬픔을...   \n",
       "2  ...못된 넘들...남의 고통을 즐겼던 넘들..이젠 마땅한 처벌을 받아야지..,그래...   \n",
       "3                 1,2화 어설펐는데 3,4화 지나서부터는 갈수록 너무 재밌던데   \n",
       "4  1. 사람 얼굴 손톱으로 긁은것은 인격살해이고2. 동영상이 몰카냐? 메걸리안들 생각...   \n",
       "\n",
       "                                        comments_pos    bias  \\\n",
       "0  현재 호텔 주인 심정 아 18 나 마르 하늘 벼락 맞 고 호텔 망하 게 생기 는데 ...  others   \n",
       "1  한국 적 미인 대표 적 분 너무나 곱 고 아름답 모습 그 모습 뒤 슬픔 미 처 알 ...    none   \n",
       "2  못 되 넘 들 남 고통 즐기 넘 들 이제 마땅 하 처벌 받 아야지 그 렇 어야 공정...    none   \n",
       "3            1 2 화 어설 푸 는데 3 4 화 지나 아서 갈 수 록 너무 재밌 데    none   \n",
       "4  1 사람 얼굴 손톱 긁 것 인격 살해 고 2 동영 상 몰카 냐 메 걸리안 들 생각 없 노  gender   \n",
       "\n",
       "   contain_gender_bias  hate  \n",
       "0                False  hate  \n",
       "1                False  none  \n",
       "2                False  hate  \n",
       "3                False  none  \n",
       "4                 True  hate  "
      ]
     },
     "execution_count": 8,
     "metadata": {},
     "output_type": "execute_result"
    }
   ],
   "source": [
    "train_df.head()"
   ]
  },
  {
   "cell_type": "code",
   "execution_count": 9,
   "metadata": {},
   "outputs": [
    {
     "name": "stdout",
     "output_type": "stream",
     "text": [
      "(7893, 11978)\n"
     ]
    }
   ],
   "source": [
    "from sklearn.feature_extraction.text import TfidfVectorizer\n",
    "\n",
    "\n",
    "tfidf = TfidfVectorizer()\n",
    "tfidf_matrix = tfidf.fit_transform(train_df.comments_pos) # khaiii로 형태소 분석한 코멘트를 tf-idf 수행\n",
    "print(tfidf_matrix.shape)"
   ]
  },
  {
   "cell_type": "code",
   "execution_count": 10,
   "metadata": {},
   "outputs": [],
   "source": [
    "from sklearn.metrics.pairwise import linear_kernel\n",
    "\n",
    "\n",
    "cosine_sim = linear_kernel(tfidf_matrix, tfidf_matrix) # 코사인 유사도"
   ]
  },
  {
   "cell_type": "code",
   "execution_count": 11,
   "metadata": {},
   "outputs": [],
   "source": [
    "# 코멘트에 관한 인덱스 테이블 구축\n",
    "indices = pd.Series(train_df.index, index=train_df.comments_pos).drop_duplicates()"
   ]
  },
  {
   "cell_type": "code",
   "execution_count": 12,
   "metadata": {},
   "outputs": [],
   "source": [
    "def comments_cos(comments, df, cosine_sim=cosine_sim): # inputs: str : comments, pandas df: dataframe\n",
    "    #입력한 코멘트로 부터 인덱스 가져오기\n",
    "    idx = indices[comments]\n",
    "\n",
    "    # 모든 코멘트에 대해서 해당 코멘트와의 유사도를 구하기\n",
    "    sim_scores = list(enumerate(cosine_sim[idx]))\n",
    "\n",
    "    # 유사도에 따라 코멘트들을 정렬\n",
    "    sim_scores = sorted(sim_scores, key=lambda x:x[1], reverse = True)\n",
    "\n",
    "    # 가장 유사한 3개의 코멘트를 받아옴\n",
    "    sim_scores = sim_scores[1:4]\n",
    "\n",
    "    # 가장 유사한 3개 코멘트의 인덱스 받아옴\n",
    "    comment_indices = [i[0] for i in sim_scores]\n",
    "    \n",
    "    #기존에 읽어들인 데이터에서 해당 인덱스의 값들을 가져온다. 그리고 스코어 열을 추가하여 코사인 유사도도 확인할 수 있게 한다.\n",
    "    result_df = df.iloc[comment_indices].copy()\n",
    "    result_df['score'] = [i[1] for i in sim_scores]\n",
    "    \n",
    "    # 필요없는 컬럼 삭제\n",
    "    del result_df['comments_pos']\n",
    "\n",
    "    # 가장 유사한 3개의 코멘트을 리턴\n",
    "    return result_df"
   ]
  },
  {
   "cell_type": "code",
   "execution_count": 13,
   "metadata": {},
   "outputs": [
    {
     "data": {
      "text/plain": [
       "comments    갈수록 종답이네\n",
       "hate            none\n",
       "Name: 330, dtype: object"
      ]
     },
     "execution_count": 13,
     "metadata": {},
     "output_type": "execute_result"
    }
   ],
   "source": [
    "train_df[['comments', 'hate']].iloc[330]"
   ]
  },
  {
   "cell_type": "code",
   "execution_count": 14,
   "metadata": {},
   "outputs": [
    {
     "data": {
      "text/html": [
       "<div>\n",
       "<style scoped>\n",
       "    .dataframe tbody tr th:only-of-type {\n",
       "        vertical-align: middle;\n",
       "    }\n",
       "\n",
       "    .dataframe tbody tr th {\n",
       "        vertical-align: top;\n",
       "    }\n",
       "\n",
       "    .dataframe thead th {\n",
       "        text-align: right;\n",
       "    }\n",
       "</style>\n",
       "<table border=\"1\" class=\"dataframe\">\n",
       "  <thead>\n",
       "    <tr style=\"text-align: right;\">\n",
       "      <th></th>\n",
       "      <th>news_title</th>\n",
       "      <th>comments</th>\n",
       "      <th>bias</th>\n",
       "      <th>contain_gender_bias</th>\n",
       "      <th>hate</th>\n",
       "      <th>score</th>\n",
       "    </tr>\n",
       "  </thead>\n",
       "  <tbody>\n",
       "    <tr>\n",
       "      <th>325</th>\n",
       "      <td>\"[DA:리뷰] “넌 내 모든 것”…‘김비서’ 박서준♥박민영, 고통 뛰어넘은 사랑(...</td>\n",
       "      <td>갈수록 노잼</td>\n",
       "      <td>none</td>\n",
       "      <td>False</td>\n",
       "      <td>none</td>\n",
       "      <td>0.637108</td>\n",
       "    </tr>\n",
       "    <tr>\n",
       "      <th>326</th>\n",
       "      <td>\"[종합]\"\"아빠라서 죄송\"\" '하나뿐인내편' 윤진이, 최수종X유이 부녀사이 폭로\"</td>\n",
       "      <td>갈수록 더하네</td>\n",
       "      <td>none</td>\n",
       "      <td>False</td>\n",
       "      <td>offensive</td>\n",
       "      <td>0.637108</td>\n",
       "    </tr>\n",
       "    <tr>\n",
       "      <th>329</th>\n",
       "      <td>\"'나혼산' 헨리, 첫사랑 바이올린 천만원에 '안녕'…이시언, 첫 해외팬미팅 '울컥...</td>\n",
       "      <td>갈수록 재미 없어져</td>\n",
       "      <td>none</td>\n",
       "      <td>False</td>\n",
       "      <td>none</td>\n",
       "      <td>0.505136</td>\n",
       "    </tr>\n",
       "  </tbody>\n",
       "</table>\n",
       "</div>"
      ],
      "text/plain": [
       "                                            news_title    comments  bias  \\\n",
       "325  \"[DA:리뷰] “넌 내 모든 것”…‘김비서’ 박서준♥박민영, 고통 뛰어넘은 사랑(...      갈수록 노잼  none   \n",
       "326     \"[종합]\"\"아빠라서 죄송\"\" '하나뿐인내편' 윤진이, 최수종X유이 부녀사이 폭로\"     갈수록 더하네  none   \n",
       "329  \"'나혼산' 헨리, 첫사랑 바이올린 천만원에 '안녕'…이시언, 첫 해외팬미팅 '울컥...  갈수록 재미 없어져  none   \n",
       "\n",
       "     contain_gender_bias       hate     score  \n",
       "325                False       none  0.637108  \n",
       "326                False  offensive  0.637108  \n",
       "329                False       none  0.505136  "
      ]
     },
     "execution_count": 14,
     "metadata": {},
     "output_type": "execute_result"
    }
   ],
   "source": [
    "comments_cos(train_df['comments_pos'][330], train_df) # 샘플 아웃풋"
   ]
  },
  {
   "cell_type": "markdown",
   "metadata": {},
   "source": [
    "### Case 1. All labels are the same"
   ]
  },
  {
   "cell_type": "code",
   "execution_count": 21,
   "metadata": {},
   "outputs": [
    {
     "data": {
      "text/plain": [
       "comments               힘내세요.저두 이틀전 사촌오빠를 보내고 왔는데 맘이 추스려지지 않내요\n",
       "bias                                                     none\n",
       "contain_gender_bias                                     False\n",
       "hate                                                     none\n",
       "Name: 7887, dtype: object"
      ]
     },
     "execution_count": 21,
     "metadata": {},
     "output_type": "execute_result"
    }
   ],
   "source": [
    "train_df[['comments','bias','contain_gender_bias','hate']].iloc[7887] # 원래 코멘트, none으로 분류 되어있음"
   ]
  },
  {
   "cell_type": "code",
   "execution_count": 22,
   "metadata": {},
   "outputs": [
    {
     "data": {
      "text/html": [
       "<div>\n",
       "<style scoped>\n",
       "    .dataframe tbody tr th:only-of-type {\n",
       "        vertical-align: middle;\n",
       "    }\n",
       "\n",
       "    .dataframe tbody tr th {\n",
       "        vertical-align: top;\n",
       "    }\n",
       "\n",
       "    .dataframe thead th {\n",
       "        text-align: right;\n",
       "    }\n",
       "</style>\n",
       "<table border=\"1\" class=\"dataframe\">\n",
       "  <thead>\n",
       "    <tr style=\"text-align: right;\">\n",
       "      <th></th>\n",
       "      <th>news_title</th>\n",
       "      <th>comments</th>\n",
       "      <th>bias</th>\n",
       "      <th>contain_gender_bias</th>\n",
       "      <th>hate</th>\n",
       "      <th>score</th>\n",
       "    </tr>\n",
       "  </thead>\n",
       "  <tbody>\n",
       "    <tr>\n",
       "      <th>2760</th>\n",
       "      <td>\"[종합] 김민경 남동생, 9일 사망 비보→애도·위로 물결…'맛녀석' \"\"정상 방송\"\"\"</td>\n",
       "      <td>민상아 처낟 잘보내고 와</td>\n",
       "      <td>none</td>\n",
       "      <td>False</td>\n",
       "      <td>none</td>\n",
       "      <td>0.345514</td>\n",
       "    </tr>\n",
       "    <tr>\n",
       "      <th>2397</th>\n",
       "      <td>\"'며느리' 민지영, 유산 고백 \"\"내가 아이 못 지킨 것 같다\"\" 눈물 펑펑\"</td>\n",
       "      <td>마흔이 요즘은 늦은 나이 아니예요힘내시고 몸 잘 추스리시길</td>\n",
       "      <td>none</td>\n",
       "      <td>False</td>\n",
       "      <td>none</td>\n",
       "      <td>0.269861</td>\n",
       "    </tr>\n",
       "    <tr>\n",
       "      <th>6675</th>\n",
       "      <td>\"정다은, 원호 채무 불이행 폭로...\"\"법적조치 검토\"\"vs변호사 문자 공개 [종합]\"</td>\n",
       "      <td>제일 예쁜 마음 원호 오빠... 제일 귀여운 토끼 원호 오빠 제일 착한 사람 원호 ...</td>\n",
       "      <td>none</td>\n",
       "      <td>False</td>\n",
       "      <td>none</td>\n",
       "      <td>0.266653</td>\n",
       "    </tr>\n",
       "  </tbody>\n",
       "</table>\n",
       "</div>"
      ],
      "text/plain": [
       "                                             news_title  \\\n",
       "2760  \"[종합] 김민경 남동생, 9일 사망 비보→애도·위로 물결…'맛녀석' \"\"정상 방송\"\"\"   \n",
       "2397       \"'며느리' 민지영, 유산 고백 \"\"내가 아이 못 지킨 것 같다\"\" 눈물 펑펑\"   \n",
       "6675  \"정다은, 원호 채무 불이행 폭로...\"\"법적조치 검토\"\"vs변호사 문자 공개 [종합]\"   \n",
       "\n",
       "                                               comments  bias  \\\n",
       "2760                                      민상아 처낟 잘보내고 와  none   \n",
       "2397                   마흔이 요즘은 늦은 나이 아니예요힘내시고 몸 잘 추스리시길  none   \n",
       "6675  제일 예쁜 마음 원호 오빠... 제일 귀여운 토끼 원호 오빠 제일 착한 사람 원호 ...  none   \n",
       "\n",
       "      contain_gender_bias  hate     score  \n",
       "2760                False  none  0.345514  \n",
       "2397                False  none  0.269861  \n",
       "6675                False  none  0.266653  "
      ]
     },
     "execution_count": 22,
     "metadata": {},
     "output_type": "execute_result"
    }
   ],
   "source": [
    "comments_cos(train_df['comments_pos'][7887], train_df) "
   ]
  },
  {
   "cell_type": "code",
   "execution_count": 23,
   "metadata": {},
   "outputs": [],
   "source": [
    "label_01 = comments_cos(train_df['comments_pos'][7887], train_df) "
   ]
  },
  {
   "cell_type": "code",
   "execution_count": 24,
   "metadata": {},
   "outputs": [
    {
     "data": {
      "text/plain": [
       "['none', 'none', 'none']"
      ]
     },
     "execution_count": 24,
     "metadata": {},
     "output_type": "execute_result"
    }
   ],
   "source": [
    "label_list_01 = label_01['hate'].tolist() # 라벨 리스트 화\n",
    "label_list_01"
   ]
  },
  {
   "cell_type": "code",
   "execution_count": 25,
   "metadata": {},
   "outputs": [
    {
     "data": {
      "text/plain": [
       "True"
      ]
     },
     "execution_count": 25,
     "metadata": {},
     "output_type": "execute_result"
    }
   ],
   "source": [
    "len(set(label_list_01)) == 1 # 모든 라벨이 같을 경우"
   ]
  },
  {
   "cell_type": "code",
   "execution_count": 26,
   "metadata": {},
   "outputs": [
    {
     "data": {
      "text/plain": [
       "'none'"
      ]
     },
     "execution_count": 26,
     "metadata": {},
     "output_type": "execute_result"
    }
   ],
   "source": [
    "label_list_01[0] # 그 라벨을 리턴, 아무거나 리턴 해도 상관없기에 편의상 0번째 인덱스로 설정"
   ]
  },
  {
   "cell_type": "markdown",
   "metadata": {},
   "source": [
    "### Case 2. Duplicate Labels"
   ]
  },
  {
   "cell_type": "code",
   "execution_count": 126,
   "metadata": {},
   "outputs": [
    {
     "data": {
      "text/plain": [
       "news_title              \"[단독] 김민서 오늘(17일) 결혼, 미국서 신혼 생활 시작\"\n",
       "comments               듣보잡 미국가서 결혼하고 산다는거 하루쟁일 생중계네 톱스타도아니고\n",
       "bias                                                 others\n",
       "contain_gender_bias                                   False\n",
       "hate                                              offensive\n",
       "Name: 2245, dtype: object"
      ]
     },
     "execution_count": 126,
     "metadata": {},
     "output_type": "execute_result"
    }
   ],
   "source": [
    "train_df[['news_title', 'comments','bias','contain_gender_bias','hate']].iloc[2245]"
   ]
  },
  {
   "cell_type": "code",
   "execution_count": 125,
   "metadata": {},
   "outputs": [
    {
     "data": {
      "text/html": [
       "<div>\n",
       "<style scoped>\n",
       "    .dataframe tbody tr th:only-of-type {\n",
       "        vertical-align: middle;\n",
       "    }\n",
       "\n",
       "    .dataframe tbody tr th {\n",
       "        vertical-align: top;\n",
       "    }\n",
       "\n",
       "    .dataframe thead th {\n",
       "        text-align: right;\n",
       "    }\n",
       "</style>\n",
       "<table border=\"1\" class=\"dataframe\">\n",
       "  <thead>\n",
       "    <tr style=\"text-align: right;\">\n",
       "      <th></th>\n",
       "      <th>news_title</th>\n",
       "      <th>comments</th>\n",
       "      <th>bias</th>\n",
       "      <th>contain_gender_bias</th>\n",
       "      <th>hate</th>\n",
       "      <th>score</th>\n",
       "    </tr>\n",
       "  </thead>\n",
       "  <tbody>\n",
       "    <tr>\n",
       "      <th>2246</th>\n",
       "      <td>\"[POP이슈]'일본→중국→바티칸' 강한나♥왕대륙, 세 번째 열애설(종합)\"</td>\n",
       "      <td>듣보잡. 노잼</td>\n",
       "      <td>none</td>\n",
       "      <td>False</td>\n",
       "      <td>offensive</td>\n",
       "      <td>0.398685</td>\n",
       "    </tr>\n",
       "    <tr>\n",
       "      <th>745</th>\n",
       "      <td>\"‘부모님 사기설’ 마이크로닷 측 “확인결과 사실무근, 명예훼손 법적대응 준비”\"</td>\n",
       "      <td>그건 모르겠고 갑자기 이 듣보잡이 쳐나대는게꼴보기싫음</td>\n",
       "      <td>others</td>\n",
       "      <td>False</td>\n",
       "      <td>hate</td>\n",
       "      <td>0.238098</td>\n",
       "    </tr>\n",
       "    <tr>\n",
       "      <th>515</th>\n",
       "      <td>\"[공식]'5년째 열애' 이정재♥임세령, 오늘(1일) 나란히 해외 출국…소속사 \"\"...</td>\n",
       "      <td>결혼도안하고 뭐하는짓?</td>\n",
       "      <td>others</td>\n",
       "      <td>False</td>\n",
       "      <td>offensive</td>\n",
       "      <td>0.211598</td>\n",
       "    </tr>\n",
       "  </tbody>\n",
       "</table>\n",
       "</div>"
      ],
      "text/plain": [
       "                                             news_title  \\\n",
       "2246         \"[POP이슈]'일본→중국→바티칸' 강한나♥왕대륙, 세 번째 열애설(종합)\"   \n",
       "745       \"‘부모님 사기설’ 마이크로닷 측 “확인결과 사실무근, 명예훼손 법적대응 준비”\"   \n",
       "515   \"[공식]'5년째 열애' 이정재♥임세령, 오늘(1일) 나란히 해외 출국…소속사 \"\"...   \n",
       "\n",
       "                           comments    bias  contain_gender_bias       hate  \\\n",
       "2246                        듣보잡. 노잼    none                False  offensive   \n",
       "745   그건 모르겠고 갑자기 이 듣보잡이 쳐나대는게꼴보기싫음  others                False       hate   \n",
       "515                    결혼도안하고 뭐하는짓?  others                False  offensive   \n",
       "\n",
       "         score  \n",
       "2246  0.398685  \n",
       "745   0.238098  \n",
       "515   0.211598  "
      ]
     },
     "execution_count": 125,
     "metadata": {},
     "output_type": "execute_result"
    }
   ],
   "source": [
    "comments_cos(train_df['comments_pos'][2245], train_df) "
   ]
  },
  {
   "cell_type": "code",
   "execution_count": 127,
   "metadata": {},
   "outputs": [],
   "source": [
    "label_02 = comments_cos(train_df['comments_pos'][2245], train_df)"
   ]
  },
  {
   "cell_type": "code",
   "execution_count": 128,
   "metadata": {},
   "outputs": [
    {
     "data": {
      "text/plain": [
       "['offensive', 'hate', 'offensive']"
      ]
     },
     "execution_count": 128,
     "metadata": {},
     "output_type": "execute_result"
    }
   ],
   "source": [
    "label_list_02 = label_02['hate'].tolist() # 라벨 리스트 화\n",
    "label_list_02"
   ]
  },
  {
   "cell_type": "code",
   "execution_count": 129,
   "metadata": {},
   "outputs": [
    {
     "data": {
      "text/plain": [
       "True"
      ]
     },
     "execution_count": 129,
     "metadata": {},
     "output_type": "execute_result"
    }
   ],
   "source": [
    "len(set(label_list_02)) == 2 # # 중복 라벨"
   ]
  },
  {
   "cell_type": "code",
   "execution_count": 130,
   "metadata": {},
   "outputs": [
    {
     "data": {
      "text/plain": [
       "'offensive'"
      ]
     },
     "execution_count": 130,
     "metadata": {},
     "output_type": "execute_result"
    }
   ],
   "source": [
    "[x for x in label_list_02 if label_list_02.count(x) > 1][0] # 중복 라벨 출력"
   ]
  },
  {
   "cell_type": "markdown",
   "metadata": {},
   "source": [
    "### Case 3. All labels are distinct"
   ]
  },
  {
   "cell_type": "code",
   "execution_count": 179,
   "metadata": {},
   "outputs": [
    {
     "data": {
      "text/plain": [
       "news_title             \"[Oh!쎈 이슈] 추자현, 우효광과 외식→'의식불명설' 종결..소속사 \"\"조리원서...\n",
       "comments               2천만원짜리 조리원하며고기집 외식하며...참 가지가지 한다ㅋㅋㅋㅋㅋ관심병으로 더아프...\n",
       "bias                                                              others\n",
       "contain_gender_bias                                                False\n",
       "hate                                                           offensive\n",
       "Name: 60, dtype: object"
      ]
     },
     "execution_count": 179,
     "metadata": {},
     "output_type": "execute_result"
    }
   ],
   "source": [
    "train_df[['news_title', 'comments','bias','contain_gender_bias','hate']].iloc[60]"
   ]
  },
  {
   "cell_type": "code",
   "execution_count": 178,
   "metadata": {},
   "outputs": [
    {
     "data": {
      "text/html": [
       "<div>\n",
       "<style scoped>\n",
       "    .dataframe tbody tr th:only-of-type {\n",
       "        vertical-align: middle;\n",
       "    }\n",
       "\n",
       "    .dataframe tbody tr th {\n",
       "        vertical-align: top;\n",
       "    }\n",
       "\n",
       "    .dataframe thead th {\n",
       "        text-align: right;\n",
       "    }\n",
       "</style>\n",
       "<table border=\"1\" class=\"dataframe\">\n",
       "  <thead>\n",
       "    <tr style=\"text-align: right;\">\n",
       "      <th></th>\n",
       "      <th>news_title</th>\n",
       "      <th>comments</th>\n",
       "      <th>bias</th>\n",
       "      <th>contain_gender_bias</th>\n",
       "      <th>hate</th>\n",
       "      <th>score</th>\n",
       "    </tr>\n",
       "  </thead>\n",
       "  <tbody>\n",
       "    <tr>\n",
       "      <th>224</th>\n",
       "      <td>\"허지웅, 악성림프종 혈액암 투병 고백→방송 활동 올스톱 \"\"치료 전념\"\"[종합]\"</td>\n",
       "      <td>ㅋㅋㅋ 개꼬시다</td>\n",
       "      <td>none</td>\n",
       "      <td>False</td>\n",
       "      <td>offensive</td>\n",
       "      <td>0.212234</td>\n",
       "    </tr>\n",
       "    <tr>\n",
       "      <th>7416</th>\n",
       "      <td>\"정웅인 딸 삼윤이 5년만 폭풍성장 \"\"놀이기구 몇개 타지도 못했었는데..\"\"\"</td>\n",
       "      <td>폭풍 짜리몽땅 됬노‼️‼️‼️</td>\n",
       "      <td>others</td>\n",
       "      <td>False</td>\n",
       "      <td>hate</td>\n",
       "      <td>0.202414</td>\n",
       "    </tr>\n",
       "    <tr>\n",
       "      <th>4559</th>\n",
       "      <td>\"'윤종신♥'전미라 \"\"딸 라임이의 매력, 꾸미지 않은 자유분방함\"\"\"</td>\n",
       "      <td>엄마닮아서 천만다행~!!</td>\n",
       "      <td>none</td>\n",
       "      <td>False</td>\n",
       "      <td>none</td>\n",
       "      <td>0.195253</td>\n",
       "    </tr>\n",
       "  </tbody>\n",
       "</table>\n",
       "</div>"
      ],
      "text/plain": [
       "                                          news_title          comments  \\\n",
       "224   \"허지웅, 악성림프종 혈액암 투병 고백→방송 활동 올스톱 \"\"치료 전념\"\"[종합]\"          ㅋㅋㅋ 개꼬시다   \n",
       "7416    \"정웅인 딸 삼윤이 5년만 폭풍성장 \"\"놀이기구 몇개 타지도 못했었는데..\"\"\"  폭풍 짜리몽땅 됬노‼️‼️‼️   \n",
       "4559         \"'윤종신♥'전미라 \"\"딸 라임이의 매력, 꾸미지 않은 자유분방함\"\"\"     엄마닮아서 천만다행~!!   \n",
       "\n",
       "        bias  contain_gender_bias       hate     score  \n",
       "224     none                False  offensive  0.212234  \n",
       "7416  others                False       hate  0.202414  \n",
       "4559    none                False       none  0.195253  "
      ]
     },
     "execution_count": 178,
     "metadata": {},
     "output_type": "execute_result"
    }
   ],
   "source": [
    "comments_cos(train_df['comments_pos'][60], train_df) "
   ]
  },
  {
   "cell_type": "code",
   "execution_count": 181,
   "metadata": {},
   "outputs": [],
   "source": [
    "label_03 = comments_cos(train_df['comments_pos'][60], train_df) "
   ]
  },
  {
   "cell_type": "code",
   "execution_count": 182,
   "metadata": {},
   "outputs": [
    {
     "data": {
      "text/plain": [
       "['offensive', 'hate', 'none']"
      ]
     },
     "execution_count": 182,
     "metadata": {},
     "output_type": "execute_result"
    }
   ],
   "source": [
    "label_list_03 = label_03['hate'].tolist()\n",
    "label_list_03"
   ]
  },
  {
   "cell_type": "code",
   "execution_count": 183,
   "metadata": {},
   "outputs": [
    {
     "data": {
      "text/plain": [
       "True"
      ]
     },
     "execution_count": 183,
     "metadata": {},
     "output_type": "execute_result"
    }
   ],
   "source": [
    "len(set(label_list_03)) == 3 # 중복 되는 값이 없으면, 일단은 부정적인 코멘트라고 가정하고 offensive나 hate으로 분류\n",
    "                           # none에 threshold값을 주면 더 좋을 것 같다는 생각 \n",
    "                           # 예 : none의 score가 0.5이상이라면 중복 되는 label이 없어도 none 으로 분류 "
   ]
  },
  {
   "cell_type": "code",
   "execution_count": 188,
   "metadata": {},
   "outputs": [
    {
     "data": {
      "text/plain": [
       "['offensive', 'hate', 'none']"
      ]
     },
     "execution_count": 188,
     "metadata": {},
     "output_type": "execute_result"
    }
   ],
   "source": [
    "label_list_03['hate']"
   ]
  },
  {
   "cell_type": "code",
   "execution_count": 189,
   "metadata": {},
   "outputs": [],
   "source": [
    "label_index = label_03[label_03['hate'] != 'none'].index[0] # 부정적 코멘트중에 score 가 제일 높은 것의 인덱스 고름"
   ]
  },
  {
   "cell_type": "code",
   "execution_count": 191,
   "metadata": {},
   "outputs": [
    {
     "data": {
      "text/plain": [
       "'offensive'"
      ]
     },
     "execution_count": 191,
     "metadata": {},
     "output_type": "execute_result"
    }
   ],
   "source": [
    "label_03['hate'][label_index] # 예측 결과 "
   ]
  },
  {
   "cell_type": "markdown",
   "metadata": {},
   "source": [
    "### 분류 실패"
   ]
  },
  {
   "cell_type": "code",
   "execution_count": 57,
   "metadata": {},
   "outputs": [
    {
     "data": {
      "text/plain": [
       "news_title             '김생민 영수증' 슬리피 전재산 7만원vs허세 명품중독[종합]\n",
       "comments                          타워펠리스 관리비 월 100마넌 ᆢ 스튜핏\n",
       "bias                                                 none\n",
       "contain_gender_bias                                 False\n",
       "hate                                            offensive\n",
       "Name: 7293, dtype: object"
      ]
     },
     "execution_count": 57,
     "metadata": {},
     "output_type": "execute_result"
    }
   ],
   "source": [
    "train_df[['news_title', 'comments','bias','contain_gender_bias','hate']].iloc[7293]"
   ]
  },
  {
   "cell_type": "code",
   "execution_count": 58,
   "metadata": {},
   "outputs": [
    {
     "data": {
      "text/html": [
       "<div>\n",
       "<style scoped>\n",
       "    .dataframe tbody tr th:only-of-type {\n",
       "        vertical-align: middle;\n",
       "    }\n",
       "\n",
       "    .dataframe tbody tr th {\n",
       "        vertical-align: top;\n",
       "    }\n",
       "\n",
       "    .dataframe thead th {\n",
       "        text-align: right;\n",
       "    }\n",
       "</style>\n",
       "<table border=\"1\" class=\"dataframe\">\n",
       "  <thead>\n",
       "    <tr style=\"text-align: right;\">\n",
       "      <th></th>\n",
       "      <th>news_title</th>\n",
       "      <th>comments</th>\n",
       "      <th>bias</th>\n",
       "      <th>contain_gender_bias</th>\n",
       "      <th>hate</th>\n",
       "      <th>score</th>\n",
       "    </tr>\n",
       "  </thead>\n",
       "  <tbody>\n",
       "    <tr>\n",
       "      <th>4399</th>\n",
       "      <td>\"[단독]구하라 측 \"\"수면장애·소화불량 치료 차 병원 방문\"\"\"</td>\n",
       "      <td>얜 10000% 스폰있다.</td>\n",
       "      <td>others</td>\n",
       "      <td>False</td>\n",
       "      <td>hate</td>\n",
       "      <td>0.245919</td>\n",
       "    </tr>\n",
       "    <tr>\n",
       "      <th>377</th>\n",
       "      <td>\"[SC무비] 이승기X심은경 `궁합` 100만 돌파 \"\"로맨스 잔혹사 끊었다\"\"\"</td>\n",
       "      <td>강철비가 100%라면 신과함께는 85%정도 재밌었다. 이거는 어떠냐</td>\n",
       "      <td>none</td>\n",
       "      <td>False</td>\n",
       "      <td>none</td>\n",
       "      <td>0.145099</td>\n",
       "    </tr>\n",
       "    <tr>\n",
       "      <th>5279</th>\n",
       "      <td>\"\"\"29kg 감량\"\" 홍지민, 눈으로 확인한 3단 변화 [종합]\"</td>\n",
       "      <td>요요 100퍼 역할안들어온다고 핑계대면서 폭식 ㅋㅋ</td>\n",
       "      <td>none</td>\n",
       "      <td>False</td>\n",
       "      <td>offensive</td>\n",
       "      <td>0.134970</td>\n",
       "    </tr>\n",
       "  </tbody>\n",
       "</table>\n",
       "</div>"
      ],
      "text/plain": [
       "                                         news_title  \\\n",
       "4399           \"[단독]구하라 측 \"\"수면장애·소화불량 치료 차 병원 방문\"\"\"   \n",
       "377   \"[SC무비] 이승기X심은경 `궁합` 100만 돌파 \"\"로맨스 잔혹사 끊었다\"\"\"   \n",
       "5279          \"\"\"29kg 감량\"\" 홍지민, 눈으로 확인한 3단 변화 [종합]\"   \n",
       "\n",
       "                                   comments    bias  contain_gender_bias  \\\n",
       "4399                         얜 10000% 스폰있다.  others                False   \n",
       "377   강철비가 100%라면 신과함께는 85%정도 재밌었다. 이거는 어떠냐    none                False   \n",
       "5279           요요 100퍼 역할안들어온다고 핑계대면서 폭식 ㅋㅋ    none                False   \n",
       "\n",
       "           hate     score  \n",
       "4399       hate  0.245919  \n",
       "377        none  0.145099  \n",
       "5279  offensive  0.134970  "
      ]
     },
     "execution_count": 58,
     "metadata": {},
     "output_type": "execute_result"
    }
   ],
   "source": [
    "comments_cos(train_df['comments_pos'][7293], train_df) # hate으로 분류 되서 실패"
   ]
  },
  {
   "cell_type": "code",
   "execution_count": 70,
   "metadata": {},
   "outputs": [
    {
     "data": {
      "text/plain": [
       "news_title             \"\"\"故설리 부재 하에 지속 어려워\"\"…'악플의밤' 측이 폐지를 결정한 이유 [종합]\"\n",
       "comments                             10년만에 재미를 느끼는 프로였는데왜 니들때문에 폐지를해야되냐\n",
       "bias                                                               none\n",
       "contain_gender_bias                                               False\n",
       "hate                                                          offensive\n",
       "Name: 8, dtype: object"
      ]
     },
     "execution_count": 70,
     "metadata": {},
     "output_type": "execute_result"
    }
   ],
   "source": [
    "train_df[['news_title', 'comments','bias','contain_gender_bias','hate']].iloc[8]"
   ]
  },
  {
   "cell_type": "code",
   "execution_count": 69,
   "metadata": {},
   "outputs": [
    {
     "data": {
      "text/html": [
       "<div>\n",
       "<style scoped>\n",
       "    .dataframe tbody tr th:only-of-type {\n",
       "        vertical-align: middle;\n",
       "    }\n",
       "\n",
       "    .dataframe tbody tr th {\n",
       "        vertical-align: top;\n",
       "    }\n",
       "\n",
       "    .dataframe thead th {\n",
       "        text-align: right;\n",
       "    }\n",
       "</style>\n",
       "<table border=\"1\" class=\"dataframe\">\n",
       "  <thead>\n",
       "    <tr style=\"text-align: right;\">\n",
       "      <th></th>\n",
       "      <th>news_title</th>\n",
       "      <th>comments</th>\n",
       "      <th>bias</th>\n",
       "      <th>contain_gender_bias</th>\n",
       "      <th>hate</th>\n",
       "      <th>score</th>\n",
       "    </tr>\n",
       "  </thead>\n",
       "  <tbody>\n",
       "    <tr>\n",
       "      <th>1826</th>\n",
       "      <td>\"'사풀인풀' 반성 없는 조우리…오민석♥조윤희, 한집살이 시작 [종합]\"</td>\n",
       "      <td>느무 재미 없다.</td>\n",
       "      <td>none</td>\n",
       "      <td>False</td>\n",
       "      <td>none</td>\n",
       "      <td>0.368503</td>\n",
       "    </tr>\n",
       "    <tr>\n",
       "      <th>6334</th>\n",
       "      <td>'강식당2'는 경주에서 떡볶이?..핫한 관심→벌써 시작된 스포와의 전쟁 [종합]</td>\n",
       "      <td>재미 1도 없다</td>\n",
       "      <td>none</td>\n",
       "      <td>False</td>\n",
       "      <td>none</td>\n",
       "      <td>0.368503</td>\n",
       "    </tr>\n",
       "    <tr>\n",
       "      <th>6760</th>\n",
       "      <td>\"\"\"180cm 괴어 영접\"\"'전설의 빅피쉬' 아마존 그랜드슬램 '대성공' (ft....</td>\n",
       "      <td>졸 재미없겠다~~</td>\n",
       "      <td>none</td>\n",
       "      <td>False</td>\n",
       "      <td>none</td>\n",
       "      <td>0.368503</td>\n",
       "    </tr>\n",
       "  </tbody>\n",
       "</table>\n",
       "</div>"
      ],
      "text/plain": [
       "                                             news_title   comments  bias  \\\n",
       "1826           \"'사풀인풀' 반성 없는 조우리…오민석♥조윤희, 한집살이 시작 [종합]\"  느무 재미 없다.  none   \n",
       "6334       '강식당2'는 경주에서 떡볶이?..핫한 관심→벌써 시작된 스포와의 전쟁 [종합]   재미 1도 없다  none   \n",
       "6760  \"\"\"180cm 괴어 영접\"\"'전설의 빅피쉬' 아마존 그랜드슬램 '대성공' (ft....  졸 재미없겠다~~  none   \n",
       "\n",
       "      contain_gender_bias  hate     score  \n",
       "1826                False  none  0.368503  \n",
       "6334                False  none  0.368503  \n",
       "6760                False  none  0.368503  "
      ]
     },
     "execution_count": 69,
     "metadata": {},
     "output_type": "execute_result"
    }
   ],
   "source": [
    "comments_cos(train_df['comments_pos'][8], train_df) # None으로 분류 되서 실패"
   ]
  },
  {
   "cell_type": "code",
   "execution_count": 76,
   "metadata": {},
   "outputs": [
    {
     "data": {
      "text/plain": [
       "news_title             \"트와이스 미나, 韓 입국에 활동 복귀설+눈물..JYP 측 \"\"일정 참여 NO\"\"[...\n",
       "comments                                             No no japan!!! 필요없다\n",
       "bias                                                              others\n",
       "contain_gender_bias                                                False\n",
       "hate                                                                hate\n",
       "Name: 125, dtype: object"
      ]
     },
     "execution_count": 76,
     "metadata": {},
     "output_type": "execute_result"
    }
   ],
   "source": [
    "train_df[['news_title', 'comments','bias','contain_gender_bias','hate']].iloc[125]"
   ]
  },
  {
   "cell_type": "code",
   "execution_count": 77,
   "metadata": {},
   "outputs": [
    {
     "data": {
      "text/html": [
       "<div>\n",
       "<style scoped>\n",
       "    .dataframe tbody tr th:only-of-type {\n",
       "        vertical-align: middle;\n",
       "    }\n",
       "\n",
       "    .dataframe tbody tr th {\n",
       "        vertical-align: top;\n",
       "    }\n",
       "\n",
       "    .dataframe thead th {\n",
       "        text-align: right;\n",
       "    }\n",
       "</style>\n",
       "<table border=\"1\" class=\"dataframe\">\n",
       "  <thead>\n",
       "    <tr style=\"text-align: right;\">\n",
       "      <th></th>\n",
       "      <th>news_title</th>\n",
       "      <th>comments</th>\n",
       "      <th>bias</th>\n",
       "      <th>contain_gender_bias</th>\n",
       "      <th>hate</th>\n",
       "      <th>score</th>\n",
       "    </tr>\n",
       "  </thead>\n",
       "  <tbody>\n",
       "    <tr>\n",
       "      <th>6118</th>\n",
       "      <td>\"트와이스 미나, 韓 입국에 활동 복귀설+눈물..JYP 측 \"\"일정 참여 NO\"\"[...</td>\n",
       "      <td>일본 NO</td>\n",
       "      <td>others</td>\n",
       "      <td>False</td>\n",
       "      <td>offensive</td>\n",
       "      <td>0.670513</td>\n",
       "    </tr>\n",
       "    <tr>\n",
       "      <th>7452</th>\n",
       "      <td>\"조민기, 사망 전 음성공개 \"\"딸 대학원 입학, 신경쓰이지 않게…\"\"\"</td>\n",
       "      <td>필요의 악 여자</td>\n",
       "      <td>gender</td>\n",
       "      <td>True</td>\n",
       "      <td>hate</td>\n",
       "      <td>0.272290</td>\n",
       "    </tr>\n",
       "    <tr>\n",
       "      <th>2347</th>\n",
       "      <td>\"[SC초점] \"\"여론이 나쁜사람 만들어\"\"…'성추문' 김건모, 잘못된 만남의 핑계...</td>\n",
       "      <td>룸 간게 잘못은 아닐지 몰라도 그러면 결혼을 하지 말아야지... 노총각이 아니라 N...</td>\n",
       "      <td>gender</td>\n",
       "      <td>True</td>\n",
       "      <td>offensive</td>\n",
       "      <td>0.239675</td>\n",
       "    </tr>\n",
       "  </tbody>\n",
       "</table>\n",
       "</div>"
      ],
      "text/plain": [
       "                                             news_title  \\\n",
       "6118  \"트와이스 미나, 韓 입국에 활동 복귀설+눈물..JYP 측 \"\"일정 참여 NO\"\"[...   \n",
       "7452           \"조민기, 사망 전 음성공개 \"\"딸 대학원 입학, 신경쓰이지 않게…\"\"\"   \n",
       "2347  \"[SC초점] \"\"여론이 나쁜사람 만들어\"\"…'성추문' 김건모, 잘못된 만남의 핑계...   \n",
       "\n",
       "                                               comments    bias  \\\n",
       "6118                                              일본 NO  others   \n",
       "7452                                           필요의 악 여자  gender   \n",
       "2347  룸 간게 잘못은 아닐지 몰라도 그러면 결혼을 하지 말아야지... 노총각이 아니라 N...  gender   \n",
       "\n",
       "      contain_gender_bias       hate     score  \n",
       "6118                False  offensive  0.670513  \n",
       "7452                 True       hate  0.272290  \n",
       "2347                 True  offensive  0.239675  "
      ]
     },
     "execution_count": 77,
     "metadata": {},
     "output_type": "execute_result"
    }
   ],
   "source": [
    "comments_cos(train_df['comments_pos'][125], train_df)  # 가장 유사도 높은것은 거의 비슷한 덧글인데 offensive라고 되어있음"
   ]
  },
  {
   "cell_type": "code",
   "execution_count": 192,
   "metadata": {},
   "outputs": [],
   "source": [
    "def predict_label(comments, df, cosine_sim=cosine_sim): # inputs: comments : str, df :pd.dataframe\n",
    "    #입력한 코멘트로 부터 인덱스 가져오기\n",
    "    idx = indices[comments]\n",
    "\n",
    "    # 모든 코멘트에 대해서 해당 코멘트와의 유사도를 구하기\n",
    "    sim_scores = list(enumerate(cosine_sim[idx]))\n",
    "\n",
    "    # 유사도에 따라 코멘트들을 정렬\n",
    "    sim_scores = sorted(sim_scores, key=lambda x:x[1], reverse = True)\n",
    "\n",
    "    # 가장 유사한 10개의 코멘트를 받아옴\n",
    "    sim_scores = sim_scores[1:4]\n",
    "\n",
    "    # 가장 유사한 10개 코멘트의 인덱스 받아옴\n",
    "    comment_indices = [i[0] for i in sim_scores]\n",
    "    \n",
    "    #기존에 읽어들인 데이터에서 해당 인덱스의 값들을 가져온다. 그리고 스코어 열을 추가하여 코사인 유사도도 확인할 수 있게 한다.\n",
    "    result_df = df.iloc[comment_indices].copy()\n",
    "    result_df['score'] = [i[1] for i in sim_scores]\n",
    "\n",
    "    # hate 컬럼의 라벨 값들을 리스트로 변환후 label_list 변수에 저장\n",
    "    label_list = result_df['hate'].tolist()\n",
    "    if len(set(label_list)) == 1:\n",
    "        pred = label_list[0]\n",
    "    \n",
    "    elif len(set(label_list)) == 2:\n",
    "        pred = [x for x in label_list if label_list.count(x) > 1][0]\n",
    "    \n",
    "    else:\n",
    "        label_index = result_df[result_df['hate'] != 'none'].index[0]\n",
    "        pred = result_df['hate'][label_index]\n",
    "          \n",
    "    return pred"
   ]
  },
  {
   "cell_type": "code",
   "execution_count": 200,
   "metadata": {},
   "outputs": [
    {
     "data": {
      "text/plain": [
       "comments    김지원빼고 다른 배우들 다 발연기같음....\n",
       "hate                            none\n",
       "Name: 1245, dtype: object"
      ]
     },
     "execution_count": 200,
     "metadata": {},
     "output_type": "execute_result"
    }
   ],
   "source": [
    "train_df[['comments', 'hate']].iloc[1245]"
   ]
  },
  {
   "cell_type": "code",
   "execution_count": 201,
   "metadata": {},
   "outputs": [
    {
     "data": {
      "text/html": [
       "<div>\n",
       "<style scoped>\n",
       "    .dataframe tbody tr th:only-of-type {\n",
       "        vertical-align: middle;\n",
       "    }\n",
       "\n",
       "    .dataframe tbody tr th {\n",
       "        vertical-align: top;\n",
       "    }\n",
       "\n",
       "    .dataframe thead th {\n",
       "        text-align: right;\n",
       "    }\n",
       "</style>\n",
       "<table border=\"1\" class=\"dataframe\">\n",
       "  <thead>\n",
       "    <tr style=\"text-align: right;\">\n",
       "      <th></th>\n",
       "      <th>news_title</th>\n",
       "      <th>comments</th>\n",
       "      <th>bias</th>\n",
       "      <th>contain_gender_bias</th>\n",
       "      <th>hate</th>\n",
       "      <th>score</th>\n",
       "    </tr>\n",
       "  </thead>\n",
       "  <tbody>\n",
       "    <tr>\n",
       "      <th>7091</th>\n",
       "      <td>\"[종합]\"\"23년 만에 주연\"\"…'천화' 이일화, 덕선 엄마의 과감한 변신\"</td>\n",
       "      <td>참 예쁜 배우. 연기 잘하는 배우.</td>\n",
       "      <td>none</td>\n",
       "      <td>False</td>\n",
       "      <td>none</td>\n",
       "      <td>0.490285</td>\n",
       "    </tr>\n",
       "    <tr>\n",
       "      <th>1932</th>\n",
       "      <td>'조선명탐정' 주말 박스오피스 1위 기록…적수없는 흥행세</td>\n",
       "      <td>다필요없고 김지원이 진짜 이쁘더라</td>\n",
       "      <td>none</td>\n",
       "      <td>False</td>\n",
       "      <td>none</td>\n",
       "      <td>0.470539</td>\n",
       "    </tr>\n",
       "    <tr>\n",
       "      <th>6865</th>\n",
       "      <td>\"[단독]'쥬라기 월드2' 감독, 韓 역대 최고 오프닝에 깜짝 내한\"</td>\n",
       "      <td>지가 배우가 먼 내한 ㅋ</td>\n",
       "      <td>none</td>\n",
       "      <td>False</td>\n",
       "      <td>offensive</td>\n",
       "      <td>0.417219</td>\n",
       "    </tr>\n",
       "  </tbody>\n",
       "</table>\n",
       "</div>"
      ],
      "text/plain": [
       "                                       news_title             comments  bias  \\\n",
       "7091  \"[종합]\"\"23년 만에 주연\"\"…'천화' 이일화, 덕선 엄마의 과감한 변신\"  참 예쁜 배우. 연기 잘하는 배우.  none   \n",
       "1932              '조선명탐정' 주말 박스오피스 1위 기록…적수없는 흥행세   다필요없고 김지원이 진짜 이쁘더라  none   \n",
       "6865       \"[단독]'쥬라기 월드2' 감독, 韓 역대 최고 오프닝에 깜짝 내한\"        지가 배우가 먼 내한 ㅋ  none   \n",
       "\n",
       "      contain_gender_bias       hate     score  \n",
       "7091                False       none  0.490285  \n",
       "1932                False       none  0.470539  \n",
       "6865                False  offensive  0.417219  "
      ]
     },
     "execution_count": 201,
     "metadata": {},
     "output_type": "execute_result"
    }
   ],
   "source": [
    "comments_cos(train_df['comments_pos'][1245], train_df)"
   ]
  },
  {
   "cell_type": "code",
   "execution_count": 202,
   "metadata": {},
   "outputs": [
    {
     "data": {
      "text/plain": [
       "'none'"
      ]
     },
     "execution_count": 202,
     "metadata": {},
     "output_type": "execute_result"
    }
   ],
   "source": [
    "predict_label(train_df['comments_pos'][1245], train_df)"
   ]
  },
  {
   "cell_type": "code",
   "execution_count": 206,
   "metadata": {},
   "outputs": [
    {
     "data": {
      "text/plain": [
       "comments        누구냐 넌\n",
       "hate        offensive\n",
       "Name: 1770, dtype: object"
      ]
     },
     "execution_count": 206,
     "metadata": {},
     "output_type": "execute_result"
    }
   ],
   "source": [
    "train_df[['comments', 'hate']].iloc[1770]"
   ]
  },
  {
   "cell_type": "code",
   "execution_count": null,
   "metadata": {},
   "outputs": [],
   "source": [
    "preds = []\n",
    "\n",
    "for i in range(len(dev_df)):\n",
    "    pred = predict_label(train_df['comments_pos'][i], train_df)\n",
    "    preds.append(pred)\n",
    "    print('success')\n",
    "    print(len(preds))"
   ]
  }
 ],
 "metadata": {
  "kernelspec": {
   "display_name": "Python 3",
   "language": "python",
   "name": "python3"
  },
  "language_info": {
   "codemirror_mode": {
    "name": "ipython",
    "version": 3
   },
   "file_extension": ".py",
   "mimetype": "text/x-python",
   "name": "python",
   "nbconvert_exporter": "python",
   "pygments_lexer": "ipython3",
   "version": "3.7.6"
  }
 },
 "nbformat": 4,
 "nbformat_minor": 4
}
