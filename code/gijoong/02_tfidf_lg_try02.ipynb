{
 "cells": [
  {
   "cell_type": "markdown",
   "metadata": {},
   "source": [
    "# 실험일지 01-2\n",
    "- 모델적용\n",
    "    - Logistic Regression\n",
    "- max_features = 140000 / grid : 0.568353(rank:1) / kaggle : 0.52893\n",
    "- max_features = 120000 / grid : 0.567046(rank:5) / kaggle : 0.52674\n",
    "- max_features = 100000 / grid : 0.567885(rank:3) / kaggle : 0.52899\n",
    "- skfold = 5, mf 120000이 1등 \n",
    "- 이를 토대로 skfold = 10으로 유지"
   ]
  },
  {
   "cell_type": "code",
   "execution_count": 3,
   "metadata": {},
   "outputs": [],
   "source": [
    "import warnings\n",
    "warnings.filterwarnings(action='ignore')"
   ]
  },
  {
   "cell_type": "code",
   "execution_count": 52,
   "metadata": {},
   "outputs": [],
   "source": [
    "def kaggle_format(df):\n",
    "    df['label'][df['label'] == 'none'] = 0\n",
    "    df['label'][df['label'] == 'offensive'] = 1\n",
    "    df['label'][df['label'] == 'hate'] = 2\n",
    "    return df"
   ]
  },
  {
   "cell_type": "markdown",
   "metadata": {},
   "source": [
    "### 1. 데이터 읽기"
   ]
  },
  {
   "cell_type": "code",
   "execution_count": 4,
   "metadata": {},
   "outputs": [
    {
     "data": {
      "text/html": [
       "<div>\n",
       "<style scoped>\n",
       "    .dataframe tbody tr th:only-of-type {\n",
       "        vertical-align: middle;\n",
       "    }\n",
       "\n",
       "    .dataframe tbody tr th {\n",
       "        vertical-align: top;\n",
       "    }\n",
       "\n",
       "    .dataframe thead th {\n",
       "        text-align: right;\n",
       "    }\n",
       "</style>\n",
       "<table border=\"1\" class=\"dataframe\">\n",
       "  <thead>\n",
       "    <tr style=\"text-align: right;\">\n",
       "      <th></th>\n",
       "      <th>title</th>\n",
       "      <th>comments</th>\n",
       "      <th>label</th>\n",
       "    </tr>\n",
       "  </thead>\n",
       "  <tbody>\n",
       "    <tr>\n",
       "      <th>0</th>\n",
       "      <td>휘성, 오늘 부친상 비보..28일 발인</td>\n",
       "      <td>한남이지만 명복은 빌어드릴께요....</td>\n",
       "      <td>offensive</td>\n",
       "    </tr>\n",
       "    <tr>\n",
       "      <th>1</th>\n",
       "      <td>휘성, 오늘 부친상 비보..28일 발인</td>\n",
       "      <td>울지마 바보야...나 정말 갠차나</td>\n",
       "      <td>none</td>\n",
       "    </tr>\n",
       "    <tr>\n",
       "      <th>2</th>\n",
       "      <td>휘성, 오늘 부친상 비보..28일 발인</td>\n",
       "      <td>결혼까지 생각했어 같은집 같은방에서 슬퍼도 bye bye bye~~~~#</td>\n",
       "      <td>offensive</td>\n",
       "    </tr>\n",
       "    <tr>\n",
       "      <th>3</th>\n",
       "      <td>휘성, 에이미 '프로포폴 공범' 지목…케이윌까지 '대략난감'[종합]</td>\n",
       "      <td>에이미 물귀신 작전이 휘(발)성 이벤트면 좋겠는데...</td>\n",
       "      <td>offensive</td>\n",
       "    </tr>\n",
       "    <tr>\n",
       "      <th>4</th>\n",
       "      <td>휘성, 에이미 '프로포폴 공범' 지목…케이윌까지 '대략난감'[종합]</td>\n",
       "      <td>아무튼 여자조심하자한순간에 인생쫑난다</td>\n",
       "      <td>hate</td>\n",
       "    </tr>\n",
       "  </tbody>\n",
       "</table>\n",
       "</div>"
      ],
      "text/plain": [
       "                                   title  \\\n",
       "0                  휘성, 오늘 부친상 비보..28일 발인   \n",
       "1                  휘성, 오늘 부친상 비보..28일 발인   \n",
       "2                  휘성, 오늘 부친상 비보..28일 발인   \n",
       "3  휘성, 에이미 '프로포폴 공범' 지목…케이윌까지 '대략난감'[종합]   \n",
       "4  휘성, 에이미 '프로포폴 공범' 지목…케이윌까지 '대략난감'[종합]   \n",
       "\n",
       "                                   comments      label  \n",
       "0                      한남이지만 명복은 빌어드릴께요....  offensive  \n",
       "1                        울지마 바보야...나 정말 갠차나       none  \n",
       "2  결혼까지 생각했어 같은집 같은방에서 슬퍼도 bye bye bye~~~~#  offensive  \n",
       "3            에이미 물귀신 작전이 휘(발)성 이벤트면 좋겠는데...  offensive  \n",
       "4                      아무튼 여자조심하자한순간에 인생쫑난다       hate  "
      ]
     },
     "execution_count": 4,
     "metadata": {},
     "output_type": "execute_result"
    }
   ],
   "source": [
    "df = pd.read_csv('total_20210121.csv')\n",
    "df = df[['title', 'comments', 'hate']]\n",
    "df.columns = ['title', 'comments', 'label']\n",
    "# df['label'][df['label'] == 'none'] = 0 \n",
    "# df['label'][df['label'] == 'offensive'] = 1\n",
    "# df['label'][df['label'] == 'hate'] = 2\n",
    "df.head()"
   ]
  },
  {
   "cell_type": "markdown",
   "metadata": {},
   "source": [
    "## 2. Logistic Regression 모델 적용\n",
    "- tfidf, lgs - GridSearchCV\n",
    "- 데이터가 독립적이고 동일한 분포를 가진 경우\n",
    "    - KFold, RepeatedKFold, LeaveOneOut(LOO), LeavePOutLeaveOneOut(LPO)\n",
    "- 동일한 분포가 아닌 경우\n",
    "    - StratifiedKFold, RepeatedStratifiedKFold, StratifiedShuffleSplit"
   ]
  },
  {
   "cell_type": "code",
   "execution_count": 63,
   "metadata": {},
   "outputs": [],
   "source": [
    "from sklearn.model_selection import KFold, StratifiedKFold, GridSearchCV, cross_val_score\n",
    "from sklearn.linear_model import LogisticRegression\n",
    "from sklearn.pipeline import Pipeline"
   ]
  },
  {
   "cell_type": "code",
   "execution_count": 67,
   "metadata": {},
   "outputs": [],
   "source": [
    "kf = KFold(n_splits=10)\n",
    "skfold = StratifiedKFold(n_splits=10)"
   ]
  },
  {
   "cell_type": "code",
   "execution_count": 68,
   "metadata": {},
   "outputs": [
    {
     "data": {
      "text/plain": [
       "GridSearchCV(cv=StratifiedKFold(n_splits=10, random_state=None, shuffle=False),\n",
       "             estimator=Pipeline(steps=[('tfidf',\n",
       "                                        TfidfVectorizer(analyzer='char',\n",
       "                                                        min_df=0.0,\n",
       "                                                        ngram_range=(1, 3),\n",
       "                                                        sublinear_tf=True)),\n",
       "                                       ('lgs',\n",
       "                                        LogisticRegression(class_weight='balanced',\n",
       "                                                           multi_class='multinomial',\n",
       "                                                           random_state=10))]),\n",
       "             n_jobs=5,\n",
       "             param_grid={'tfidf__max_features': [15000, 100000, 110000, 120000,\n",
       "                                                 130000, 140000, 150000]},\n",
       "             scoring='f1_macro')"
      ]
     },
     "execution_count": 68,
     "metadata": {},
     "output_type": "execute_result"
    }
   ],
   "source": [
    "mf_grid = {\n",
    "    'tfidf__max_features': [15000, 100000, 110000, 120000, 130000, 140000, 150000],\n",
    "}\n",
    "pipeline = Pipeline([('tfidf', TfidfVectorizer(min_df=0.0, analyzer = 'char', \n",
    "                                               ngram_range = (1,3), sublinear_tf=True)),\n",
    "                     ('lgs', LogisticRegression(multi_class='multinomial', class_weight = 'balanced', \n",
    "                                                random_state=10))])\n",
    "\n",
    "grid_f1 = GridSearchCV(pipeline, param_grid=mf_grid, n_jobs=5, cv=skfold, scoring='f1_macro')\n",
    "grid_f1.fit(X, y)"
   ]
  },
  {
   "cell_type": "code",
   "execution_count": 70,
   "metadata": {
    "scrolled": true
   },
   "outputs": [
    {
     "data": {
      "text/html": [
       "<div>\n",
       "<style scoped>\n",
       "    .dataframe tbody tr th:only-of-type {\n",
       "        vertical-align: middle;\n",
       "    }\n",
       "\n",
       "    .dataframe tbody tr th {\n",
       "        vertical-align: top;\n",
       "    }\n",
       "\n",
       "    .dataframe thead th {\n",
       "        text-align: right;\n",
       "    }\n",
       "</style>\n",
       "<table border=\"1\" class=\"dataframe\">\n",
       "  <thead>\n",
       "    <tr style=\"text-align: right;\">\n",
       "      <th></th>\n",
       "      <th>params</th>\n",
       "      <th>rank_test_score</th>\n",
       "      <th>mean_test_score</th>\n",
       "      <th>std_test_score</th>\n",
       "    </tr>\n",
       "  </thead>\n",
       "  <tbody>\n",
       "    <tr>\n",
       "      <th>0</th>\n",
       "      <td>{'tfidf__max_features': 15000}</td>\n",
       "      <td>7</td>\n",
       "      <td>0.562470</td>\n",
       "      <td>0.019643</td>\n",
       "    </tr>\n",
       "    <tr>\n",
       "      <th>1</th>\n",
       "      <td>{'tfidf__max_features': 100000}</td>\n",
       "      <td>3</td>\n",
       "      <td>0.567885</td>\n",
       "      <td>0.015031</td>\n",
       "    </tr>\n",
       "    <tr>\n",
       "      <th>2</th>\n",
       "      <td>{'tfidf__max_features': 110000}</td>\n",
       "      <td>4</td>\n",
       "      <td>0.567667</td>\n",
       "      <td>0.015615</td>\n",
       "    </tr>\n",
       "    <tr>\n",
       "      <th>3</th>\n",
       "      <td>{'tfidf__max_features': 120000}</td>\n",
       "      <td>5</td>\n",
       "      <td>0.567046</td>\n",
       "      <td>0.014611</td>\n",
       "    </tr>\n",
       "    <tr>\n",
       "      <th>4</th>\n",
       "      <td>{'tfidf__max_features': 130000}</td>\n",
       "      <td>6</td>\n",
       "      <td>0.566957</td>\n",
       "      <td>0.015243</td>\n",
       "    </tr>\n",
       "    <tr>\n",
       "      <th>5</th>\n",
       "      <td>{'tfidf__max_features': 140000}</td>\n",
       "      <td>1</td>\n",
       "      <td>0.568353</td>\n",
       "      <td>0.016462</td>\n",
       "    </tr>\n",
       "    <tr>\n",
       "      <th>6</th>\n",
       "      <td>{'tfidf__max_features': 150000}</td>\n",
       "      <td>1</td>\n",
       "      <td>0.568353</td>\n",
       "      <td>0.016462</td>\n",
       "    </tr>\n",
       "  </tbody>\n",
       "</table>\n",
       "</div>"
      ],
      "text/plain": [
       "                            params  rank_test_score  mean_test_score  \\\n",
       "0   {'tfidf__max_features': 15000}                7         0.562470   \n",
       "1  {'tfidf__max_features': 100000}                3         0.567885   \n",
       "2  {'tfidf__max_features': 110000}                4         0.567667   \n",
       "3  {'tfidf__max_features': 120000}                5         0.567046   \n",
       "4  {'tfidf__max_features': 130000}                6         0.566957   \n",
       "5  {'tfidf__max_features': 140000}                1         0.568353   \n",
       "6  {'tfidf__max_features': 150000}                1         0.568353   \n",
       "\n",
       "   std_test_score  \n",
       "0        0.019643  \n",
       "1        0.015031  \n",
       "2        0.015615  \n",
       "3        0.014611  \n",
       "4        0.015243  \n",
       "5        0.016462  \n",
       "6        0.016462  "
      ]
     },
     "execution_count": 70,
     "metadata": {},
     "output_type": "execute_result"
    }
   ],
   "source": [
    "# skfold n_split = 10 일때, 'tfidf__max_features': 140000 best\n",
    "f1_score_df = pd.DataFrame(grid_f1.cv_results_)\n",
    "f1_score_df[['params', 'rank_test_score', 'mean_test_score', 'std_test_score']]"
   ]
  },
  {
   "cell_type": "code",
   "execution_count": 51,
   "metadata": {},
   "outputs": [
    {
     "data": {
      "text/html": [
       "<div>\n",
       "<style scoped>\n",
       "    .dataframe tbody tr th:only-of-type {\n",
       "        vertical-align: middle;\n",
       "    }\n",
       "\n",
       "    .dataframe tbody tr th {\n",
       "        vertical-align: top;\n",
       "    }\n",
       "\n",
       "    .dataframe thead th {\n",
       "        text-align: right;\n",
       "    }\n",
       "</style>\n",
       "<table border=\"1\" class=\"dataframe\">\n",
       "  <thead>\n",
       "    <tr style=\"text-align: right;\">\n",
       "      <th></th>\n",
       "      <th>mean_fit_time</th>\n",
       "      <th>std_fit_time</th>\n",
       "      <th>mean_score_time</th>\n",
       "      <th>std_score_time</th>\n",
       "      <th>param_tfidf__max_features</th>\n",
       "      <th>params</th>\n",
       "      <th>split0_test_score</th>\n",
       "      <th>split1_test_score</th>\n",
       "      <th>split2_test_score</th>\n",
       "      <th>split3_test_score</th>\n",
       "      <th>split4_test_score</th>\n",
       "      <th>mean_test_score</th>\n",
       "      <th>std_test_score</th>\n",
       "      <th>rank_test_score</th>\n",
       "    </tr>\n",
       "  </thead>\n",
       "  <tbody>\n",
       "    <tr>\n",
       "      <th>0</th>\n",
       "      <td>1.890541</td>\n",
       "      <td>0.008333</td>\n",
       "      <td>0.104720</td>\n",
       "      <td>0.004678</td>\n",
       "      <td>15000</td>\n",
       "      <td>{'tfidf__max_features': 15000}</td>\n",
       "      <td>0.544547</td>\n",
       "      <td>0.560984</td>\n",
       "      <td>0.547734</td>\n",
       "      <td>0.583472</td>\n",
       "      <td>0.569803</td>\n",
       "      <td>0.561308</td>\n",
       "      <td>0.014343</td>\n",
       "      <td>7</td>\n",
       "    </tr>\n",
       "    <tr>\n",
       "      <th>1</th>\n",
       "      <td>9.760679</td>\n",
       "      <td>0.413627</td>\n",
       "      <td>0.170145</td>\n",
       "      <td>0.017948</td>\n",
       "      <td>100000</td>\n",
       "      <td>{'tfidf__max_features': 100000}</td>\n",
       "      <td>0.551001</td>\n",
       "      <td>0.577542</td>\n",
       "      <td>0.557118</td>\n",
       "      <td>0.581477</td>\n",
       "      <td>0.569393</td>\n",
       "      <td>0.567306</td>\n",
       "      <td>0.011659</td>\n",
       "      <td>5</td>\n",
       "    </tr>\n",
       "    <tr>\n",
       "      <th>2</th>\n",
       "      <td>10.184744</td>\n",
       "      <td>0.344920</td>\n",
       "      <td>0.152391</td>\n",
       "      <td>0.012156</td>\n",
       "      <td>110000</td>\n",
       "      <td>{'tfidf__max_features': 110000}</td>\n",
       "      <td>0.552651</td>\n",
       "      <td>0.576906</td>\n",
       "      <td>0.555061</td>\n",
       "      <td>0.581384</td>\n",
       "      <td>0.568937</td>\n",
       "      <td>0.566988</td>\n",
       "      <td>0.011465</td>\n",
       "      <td>6</td>\n",
       "    </tr>\n",
       "    <tr>\n",
       "      <th>3</th>\n",
       "      <td>10.325765</td>\n",
       "      <td>0.763595</td>\n",
       "      <td>0.186301</td>\n",
       "      <td>0.028873</td>\n",
       "      <td>120000</td>\n",
       "      <td>{'tfidf__max_features': 120000}</td>\n",
       "      <td>0.555232</td>\n",
       "      <td>0.575109</td>\n",
       "      <td>0.557750</td>\n",
       "      <td>0.580376</td>\n",
       "      <td>0.569113</td>\n",
       "      <td>0.567516</td>\n",
       "      <td>0.009714</td>\n",
       "      <td>1</td>\n",
       "    </tr>\n",
       "    <tr>\n",
       "      <th>4</th>\n",
       "      <td>12.660319</td>\n",
       "      <td>0.533350</td>\n",
       "      <td>0.157976</td>\n",
       "      <td>0.008570</td>\n",
       "      <td>130000</td>\n",
       "      <td>{'tfidf__max_features': 130000}</td>\n",
       "      <td>0.553542</td>\n",
       "      <td>0.576121</td>\n",
       "      <td>0.558690</td>\n",
       "      <td>0.580913</td>\n",
       "      <td>0.567948</td>\n",
       "      <td>0.567443</td>\n",
       "      <td>0.010265</td>\n",
       "      <td>2</td>\n",
       "    </tr>\n",
       "    <tr>\n",
       "      <th>5</th>\n",
       "      <td>12.674771</td>\n",
       "      <td>0.357641</td>\n",
       "      <td>0.185303</td>\n",
       "      <td>0.032060</td>\n",
       "      <td>140000</td>\n",
       "      <td>{'tfidf__max_features': 140000}</td>\n",
       "      <td>0.553542</td>\n",
       "      <td>0.576121</td>\n",
       "      <td>0.558690</td>\n",
       "      <td>0.580913</td>\n",
       "      <td>0.567948</td>\n",
       "      <td>0.567443</td>\n",
       "      <td>0.010265</td>\n",
       "      <td>2</td>\n",
       "    </tr>\n",
       "    <tr>\n",
       "      <th>6</th>\n",
       "      <td>12.945357</td>\n",
       "      <td>0.455758</td>\n",
       "      <td>0.145210</td>\n",
       "      <td>0.029294</td>\n",
       "      <td>150000</td>\n",
       "      <td>{'tfidf__max_features': 150000}</td>\n",
       "      <td>0.553542</td>\n",
       "      <td>0.576121</td>\n",
       "      <td>0.558690</td>\n",
       "      <td>0.580913</td>\n",
       "      <td>0.567948</td>\n",
       "      <td>0.567443</td>\n",
       "      <td>0.010265</td>\n",
       "      <td>2</td>\n",
       "    </tr>\n",
       "  </tbody>\n",
       "</table>\n",
       "</div>"
      ],
      "text/plain": [
       "   mean_fit_time  std_fit_time  mean_score_time  std_score_time  \\\n",
       "0       1.890541      0.008333         0.104720        0.004678   \n",
       "1       9.760679      0.413627         0.170145        0.017948   \n",
       "2      10.184744      0.344920         0.152391        0.012156   \n",
       "3      10.325765      0.763595         0.186301        0.028873   \n",
       "4      12.660319      0.533350         0.157976        0.008570   \n",
       "5      12.674771      0.357641         0.185303        0.032060   \n",
       "6      12.945357      0.455758         0.145210        0.029294   \n",
       "\n",
       "  param_tfidf__max_features                           params  \\\n",
       "0                     15000   {'tfidf__max_features': 15000}   \n",
       "1                    100000  {'tfidf__max_features': 100000}   \n",
       "2                    110000  {'tfidf__max_features': 110000}   \n",
       "3                    120000  {'tfidf__max_features': 120000}   \n",
       "4                    130000  {'tfidf__max_features': 130000}   \n",
       "5                    140000  {'tfidf__max_features': 140000}   \n",
       "6                    150000  {'tfidf__max_features': 150000}   \n",
       "\n",
       "   split0_test_score  split1_test_score  split2_test_score  split3_test_score  \\\n",
       "0           0.544547           0.560984           0.547734           0.583472   \n",
       "1           0.551001           0.577542           0.557118           0.581477   \n",
       "2           0.552651           0.576906           0.555061           0.581384   \n",
       "3           0.555232           0.575109           0.557750           0.580376   \n",
       "4           0.553542           0.576121           0.558690           0.580913   \n",
       "5           0.553542           0.576121           0.558690           0.580913   \n",
       "6           0.553542           0.576121           0.558690           0.580913   \n",
       "\n",
       "   split4_test_score  mean_test_score  std_test_score  rank_test_score  \n",
       "0           0.569803         0.561308        0.014343                7  \n",
       "1           0.569393         0.567306        0.011659                5  \n",
       "2           0.568937         0.566988        0.011465                6  \n",
       "3           0.569113         0.567516        0.009714                1  \n",
       "4           0.567948         0.567443        0.010265                2  \n",
       "5           0.567948         0.567443        0.010265                2  \n",
       "6           0.567948         0.567443        0.010265                2  "
      ]
     },
     "execution_count": 51,
     "metadata": {},
     "output_type": "execute_result"
    }
   ],
   "source": [
    "# skfold n_split = 5 일때, 'tfidf__max_features': 120000 best"
   ]
  },
  {
   "cell_type": "markdown",
   "metadata": {},
   "source": [
    "### 3. dev로 평가\n",
    "- skfold = 5 일때, max_features = 120000 가장좋음\n",
    "- skfold = 10 일때, max_features = 140000 가장좋음\n",
    "- f1 score로 따로 확인해 봤을때는 140000 이 더 좋음\n",
    "- 결과에 의해서는 10개로 쪼갰을때가 조금더 정확함"
   ]
  },
  {
   "cell_type": "code",
   "execution_count": 41,
   "metadata": {},
   "outputs": [
    {
     "data": {
      "text/html": [
       "<div>\n",
       "<style scoped>\n",
       "    .dataframe tbody tr th:only-of-type {\n",
       "        vertical-align: middle;\n",
       "    }\n",
       "\n",
       "    .dataframe tbody tr th {\n",
       "        vertical-align: top;\n",
       "    }\n",
       "\n",
       "    .dataframe thead th {\n",
       "        text-align: right;\n",
       "    }\n",
       "</style>\n",
       "<table border=\"1\" class=\"dataframe\">\n",
       "  <thead>\n",
       "    <tr style=\"text-align: right;\">\n",
       "      <th></th>\n",
       "      <th>comments</th>\n",
       "      <th>label</th>\n",
       "    </tr>\n",
       "  </thead>\n",
       "  <tbody>\n",
       "    <tr>\n",
       "      <th>466</th>\n",
       "      <td>지현우 범죄 저지르지 않았나요?</td>\n",
       "      <td>offensive</td>\n",
       "    </tr>\n",
       "    <tr>\n",
       "      <th>467</th>\n",
       "      <td>여자인생 망칠 일 있나 ㅋㅋ</td>\n",
       "      <td>hate</td>\n",
       "    </tr>\n",
       "    <tr>\n",
       "      <th>468</th>\n",
       "      <td>근데 전라도에서 사고가 났는데 굳이 서울까지 와서 병원에 가느 이유는?</td>\n",
       "      <td>offensive</td>\n",
       "    </tr>\n",
       "    <tr>\n",
       "      <th>469</th>\n",
       "      <td>할매젖x, 뱃살x, 몸매 s라인, 유륜은 적당해야됨(너무크거나 너무 작아도 x), ...</td>\n",
       "      <td>hate</td>\n",
       "    </tr>\n",
       "    <tr>\n",
       "      <th>470</th>\n",
       "      <td>남자가 잘못한거라면... 반성도 없다면...나였다면 ... 여자처럼 아주 못되게 할...</td>\n",
       "      <td>none</td>\n",
       "    </tr>\n",
       "  </tbody>\n",
       "</table>\n",
       "</div>"
      ],
      "text/plain": [
       "                                              comments      label\n",
       "466                                  지현우 범죄 저지르지 않았나요?  offensive\n",
       "467                                    여자인생 망칠 일 있나 ㅋㅋ       hate\n",
       "468            근데 전라도에서 사고가 났는데 굳이 서울까지 와서 병원에 가느 이유는?  offensive\n",
       "469  할매젖x, 뱃살x, 몸매 s라인, 유륜은 적당해야됨(너무크거나 너무 작아도 x), ...       hate\n",
       "470  남자가 잘못한거라면... 반성도 없다면...나였다면 ... 여자처럼 아주 못되게 할...       none"
      ]
     },
     "execution_count": 41,
     "metadata": {},
     "output_type": "execute_result"
    }
   ],
   "source": [
    "dev_df = pd.read_csv('./korean-hate-speech-master/labeled/dev.tsv', sep='\\t')\n",
    "\n",
    "dev_df.head()\n",
    "dev_df = dev_df[['comments', 'hate']]\n",
    "dev_df.columns = ['comments', 'label']\n",
    "dev_df.tail()"
   ]
  },
  {
   "cell_type": "code",
   "execution_count": 69,
   "metadata": {},
   "outputs": [],
   "source": [
    "vec_tf = TfidfVectorizer(min_df = 0.0, analyzer = 'char', sublinear_tf=True, \n",
    "    ngram_range = (1,3), max_features=140000)\n",
    "\n",
    "vec_tf.fit(X)\n",
    "X_vec = vec_tf.transform(X)\n",
    "X_tf = vec_tf.transform(dev_df['comments'])\n",
    "y_tf = dev_df['label']"
   ]
  },
  {
   "cell_type": "code",
   "execution_count": 59,
   "metadata": {},
   "outputs": [
    {
     "name": "stdout",
     "output_type": "stream",
     "text": [
      "(471, 100000)\n"
     ]
    },
    {
     "data": {
      "text/plain": [
       "array([[0.05583205, 0.        , 0.        , ..., 0.        , 0.        ,\n",
       "        0.        ],\n",
       "       [0.0401012 , 0.        , 0.        , ..., 0.        , 0.        ,\n",
       "        0.        ],\n",
       "       [0.03900551, 0.        , 0.        , ..., 0.        , 0.        ,\n",
       "        0.        ],\n",
       "       ...,\n",
       "       [0.0590684 , 0.        , 0.        , ..., 0.        , 0.        ,\n",
       "        0.        ],\n",
       "       [0.050873  , 0.        , 0.        , ..., 0.        , 0.        ,\n",
       "        0.        ],\n",
       "       [0.04562361, 0.        , 0.        , ..., 0.        , 0.        ,\n",
       "        0.        ]])"
      ]
     },
     "execution_count": 59,
     "metadata": {},
     "output_type": "execute_result"
    }
   ],
   "source": [
    "print(X_tf.shape)\n",
    "X_tf.toarray()"
   ]
  },
  {
   "cell_type": "code",
   "execution_count": 71,
   "metadata": {},
   "outputs": [],
   "source": [
    "lgs = LogisticRegression(multi_class='multinomial', class_weight = 'balanced', \n",
    "                                                random_state=10)\n",
    "lgs.fit(X_vec, y)\n",
    "pred = lgs.predict(X_tf)"
   ]
  },
  {
   "cell_type": "code",
   "execution_count": 72,
   "metadata": {},
   "outputs": [
    {
     "data": {
      "text/plain": [
       "0.6216400857499588"
      ]
     },
     "execution_count": 72,
     "metadata": {},
     "output_type": "execute_result"
    }
   ],
   "source": [
    "from sklearn.metrics import f1_score\n",
    "\n",
    "f1_score(y_tf, pred, average='macro')"
   ]
  },
  {
   "cell_type": "code",
   "execution_count": 61,
   "metadata": {},
   "outputs": [
    {
     "data": {
      "text/plain": [
       "0.6171504866913602"
      ]
     },
     "execution_count": 61,
     "metadata": {},
     "output_type": "execute_result"
    }
   ],
   "source": [
    "from sklearn.metrics import f1_score\n",
    "\n",
    "f1_score(y_tf, pred, average='macro')"
   ]
  },
  {
   "cell_type": "markdown",
   "metadata": {},
   "source": [
    "### 4. test 검증"
   ]
  },
  {
   "cell_type": "code",
   "execution_count": 73,
   "metadata": {},
   "outputs": [],
   "source": [
    "test_df = pd.read_csv('./korean-hate-speech-master/test.no_label.tsv', sep='\\t')\n",
    "\n",
    "X_test = vec_tf.transform(test_df['comments'])\n",
    "pred = lgs.predict(X_test)\n",
    "test_df['label'] = pred"
   ]
  },
  {
   "cell_type": "code",
   "execution_count": 74,
   "metadata": {},
   "outputs": [],
   "source": [
    "df = kaggle_format(test_df)\n",
    "df.to_csv('140000.csv', index=False)"
   ]
  },
  {
   "cell_type": "markdown",
   "metadata": {},
   "source": [
    "## 실험 01-03\n",
    "- skfold n_split = 10 인 상태로\n",
    "- max_features = 140000 ~ 150000사이에 최적의 값 확인\n",
    "- max_features = 140000 / grid : 0.568353 / kaggle : 0.52893"
   ]
  },
  {
   "cell_type": "markdown",
   "metadata": {},
   "source": [
    "### 1. 데이터 다시 읽기"
   ]
  },
  {
   "cell_type": "code",
   "execution_count": 75,
   "metadata": {},
   "outputs": [],
   "source": [
    "df = pd.read_csv('total_20210121.csv')\n",
    "df = df[['title', 'comments', 'hate']]\n",
    "df.columns = ['title', 'comments', 'label']\n",
    "\n",
    "X, y = df['comments'], df['label']"
   ]
  },
  {
   "cell_type": "markdown",
   "metadata": {},
   "source": [
    "### 2. GridSearchCV 최적값 확인\n",
    "- 1000단위로 확인\n",
    "- 그다음 100단위로 확인"
   ]
  },
  {
   "cell_type": "code",
   "execution_count": 79,
   "metadata": {},
   "outputs": [],
   "source": [
    "from sklearn.model_selection import KFold, StratifiedKFold, GridSearchCV, cross_val_score\n",
    "from sklearn.linear_model import LogisticRegression\n",
    "from sklearn.pipeline import Pipeline"
   ]
  },
  {
   "cell_type": "code",
   "execution_count": 80,
   "metadata": {},
   "outputs": [
    {
     "data": {
      "text/plain": [
       "GridSearchCV(cv=StratifiedKFold(n_splits=10, random_state=None, shuffle=False),\n",
       "             estimator=Pipeline(steps=[('tfidf',\n",
       "                                        TfidfVectorizer(analyzer='char',\n",
       "                                                        min_df=0.0,\n",
       "                                                        ngram_range=(1, 3),\n",
       "                                                        sublinear_tf=True)),\n",
       "                                       ('lgs',\n",
       "                                        LogisticRegression(class_weight='balanced',\n",
       "                                                           multi_class='multinomial',\n",
       "                                                           random_state=10))]),\n",
       "             n_jobs=5,\n",
       "             param_grid={'tfidf__max_features': [140000, 141000, 142000, 143000,\n",
       "                                                 144000, 145000, 146000, 147000,\n",
       "                                                 148000, 149000, 150000]},\n",
       "             scoring='f1_macro')"
      ]
     },
     "execution_count": 80,
     "metadata": {},
     "output_type": "execute_result"
    }
   ],
   "source": [
    "# 적용\n",
    "skfold = StratifiedKFold(n_splits=10)\n",
    "\n",
    "mf_grid = {\n",
    "    'tfidf__max_features': list(range(140000, 150001, 1000)),\n",
    "}\n",
    "pipeline = Pipeline([('tfidf', TfidfVectorizer(min_df=0.0, analyzer = 'char', \n",
    "                                               ngram_range = (1,3), sublinear_tf=True)),\n",
    "                     ('lgs', LogisticRegression(multi_class='multinomial', class_weight = 'balanced', \n",
    "                                                random_state=10))])\n",
    "\n",
    "grid_f1 = GridSearchCV(pipeline, param_grid=mf_grid, n_jobs=5, cv=skfold, scoring='f1_macro')\n",
    "grid_f1.fit(X, y)"
   ]
  },
  {
   "cell_type": "code",
   "execution_count": 81,
   "metadata": {},
   "outputs": [
    {
     "data": {
      "text/html": [
       "<div>\n",
       "<style scoped>\n",
       "    .dataframe tbody tr th:only-of-type {\n",
       "        vertical-align: middle;\n",
       "    }\n",
       "\n",
       "    .dataframe tbody tr th {\n",
       "        vertical-align: top;\n",
       "    }\n",
       "\n",
       "    .dataframe thead th {\n",
       "        text-align: right;\n",
       "    }\n",
       "</style>\n",
       "<table border=\"1\" class=\"dataframe\">\n",
       "  <thead>\n",
       "    <tr style=\"text-align: right;\">\n",
       "      <th></th>\n",
       "      <th>params</th>\n",
       "      <th>rank_test_score</th>\n",
       "      <th>mean_test_score</th>\n",
       "      <th>std_test_score</th>\n",
       "    </tr>\n",
       "  </thead>\n",
       "  <tbody>\n",
       "    <tr>\n",
       "      <th>0</th>\n",
       "      <td>{'tfidf__max_features': 140000}</td>\n",
       "      <td>1</td>\n",
       "      <td>0.568353</td>\n",
       "      <td>0.016462</td>\n",
       "    </tr>\n",
       "    <tr>\n",
       "      <th>1</th>\n",
       "      <td>{'tfidf__max_features': 141000}</td>\n",
       "      <td>1</td>\n",
       "      <td>0.568353</td>\n",
       "      <td>0.016462</td>\n",
       "    </tr>\n",
       "    <tr>\n",
       "      <th>2</th>\n",
       "      <td>{'tfidf__max_features': 142000}</td>\n",
       "      <td>1</td>\n",
       "      <td>0.568353</td>\n",
       "      <td>0.016462</td>\n",
       "    </tr>\n",
       "    <tr>\n",
       "      <th>3</th>\n",
       "      <td>{'tfidf__max_features': 143000}</td>\n",
       "      <td>1</td>\n",
       "      <td>0.568353</td>\n",
       "      <td>0.016462</td>\n",
       "    </tr>\n",
       "    <tr>\n",
       "      <th>4</th>\n",
       "      <td>{'tfidf__max_features': 144000}</td>\n",
       "      <td>1</td>\n",
       "      <td>0.568353</td>\n",
       "      <td>0.016462</td>\n",
       "    </tr>\n",
       "    <tr>\n",
       "      <th>5</th>\n",
       "      <td>{'tfidf__max_features': 145000}</td>\n",
       "      <td>1</td>\n",
       "      <td>0.568353</td>\n",
       "      <td>0.016462</td>\n",
       "    </tr>\n",
       "    <tr>\n",
       "      <th>6</th>\n",
       "      <td>{'tfidf__max_features': 146000}</td>\n",
       "      <td>1</td>\n",
       "      <td>0.568353</td>\n",
       "      <td>0.016462</td>\n",
       "    </tr>\n",
       "    <tr>\n",
       "      <th>7</th>\n",
       "      <td>{'tfidf__max_features': 147000}</td>\n",
       "      <td>1</td>\n",
       "      <td>0.568353</td>\n",
       "      <td>0.016462</td>\n",
       "    </tr>\n",
       "    <tr>\n",
       "      <th>8</th>\n",
       "      <td>{'tfidf__max_features': 148000}</td>\n",
       "      <td>1</td>\n",
       "      <td>0.568353</td>\n",
       "      <td>0.016462</td>\n",
       "    </tr>\n",
       "    <tr>\n",
       "      <th>9</th>\n",
       "      <td>{'tfidf__max_features': 149000}</td>\n",
       "      <td>1</td>\n",
       "      <td>0.568353</td>\n",
       "      <td>0.016462</td>\n",
       "    </tr>\n",
       "    <tr>\n",
       "      <th>10</th>\n",
       "      <td>{'tfidf__max_features': 150000}</td>\n",
       "      <td>1</td>\n",
       "      <td>0.568353</td>\n",
       "      <td>0.016462</td>\n",
       "    </tr>\n",
       "  </tbody>\n",
       "</table>\n",
       "</div>"
      ],
      "text/plain": [
       "                             params  rank_test_score  mean_test_score  \\\n",
       "0   {'tfidf__max_features': 140000}                1         0.568353   \n",
       "1   {'tfidf__max_features': 141000}                1         0.568353   \n",
       "2   {'tfidf__max_features': 142000}                1         0.568353   \n",
       "3   {'tfidf__max_features': 143000}                1         0.568353   \n",
       "4   {'tfidf__max_features': 144000}                1         0.568353   \n",
       "5   {'tfidf__max_features': 145000}                1         0.568353   \n",
       "6   {'tfidf__max_features': 146000}                1         0.568353   \n",
       "7   {'tfidf__max_features': 147000}                1         0.568353   \n",
       "8   {'tfidf__max_features': 148000}                1         0.568353   \n",
       "9   {'tfidf__max_features': 149000}                1         0.568353   \n",
       "10  {'tfidf__max_features': 150000}                1         0.568353   \n",
       "\n",
       "    std_test_score  \n",
       "0         0.016462  \n",
       "1         0.016462  \n",
       "2         0.016462  \n",
       "3         0.016462  \n",
       "4         0.016462  \n",
       "5         0.016462  \n",
       "6         0.016462  \n",
       "7         0.016462  \n",
       "8         0.016462  \n",
       "9         0.016462  \n",
       "10        0.016462  "
      ]
     },
     "execution_count": 81,
     "metadata": {},
     "output_type": "execute_result"
    }
   ],
   "source": [
    "# 확인\n",
    "f1_score_df = pd.DataFrame(grid_f1.cv_results_)\n",
    "f1_score_df[['params', 'rank_test_score', 'mean_test_score', 'std_test_score']]"
   ]
  },
  {
   "cell_type": "code",
   "execution_count": 82,
   "metadata": {},
   "outputs": [],
   "source": [
    "# 이 결과는 포기하고,, ngram 변화로 확인해야 할듯"
   ]
  },
  {
   "cell_type": "code",
   "execution_count": null,
   "metadata": {},
   "outputs": [],
   "source": []
  },
  {
   "cell_type": "code",
   "execution_count": null,
   "metadata": {},
   "outputs": [],
   "source": []
  },
  {
   "cell_type": "code",
   "execution_count": null,
   "metadata": {},
   "outputs": [],
   "source": []
  },
  {
   "cell_type": "code",
   "execution_count": null,
   "metadata": {},
   "outputs": [],
   "source": []
  },
  {
   "cell_type": "code",
   "execution_count": null,
   "metadata": {},
   "outputs": [],
   "source": []
  }
 ],
 "metadata": {
  "kernelspec": {
   "display_name": "Python 3",
   "language": "python",
   "name": "python3"
  },
  "language_info": {
   "codemirror_mode": {
    "name": "ipython",
    "version": 3
   },
   "file_extension": ".py",
   "mimetype": "text/x-python",
   "name": "python",
   "nbconvert_exporter": "python",
   "pygments_lexer": "ipython3",
   "version": "3.7.9"
  }
 },
 "nbformat": 4,
 "nbformat_minor": 4
}
