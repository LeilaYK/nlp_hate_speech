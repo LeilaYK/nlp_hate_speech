{
 "cells": [
  {
   "cell_type": "code",
   "execution_count": 1,
   "metadata": {},
   "outputs": [],
   "source": [
    "import pandas as pd"
   ]
  },
  {
   "cell_type": "markdown",
   "metadata": {},
   "source": [
    "명사/동사/형용사 등에서 불용어를 제거할 수 있는 좋은 방법이 없어서 웹을 검색했으나 원하는 리스트를 찾지 못했습니다. 그래서 그냥 가지고 태깅 한국어 코퍼스에서 고빈도어 상위 100개를 뽑아 불용어 리스트를 만들어 보았습니다.\n",
    "\n",
    "utf-8 형태에 탭으로 구분된 파일입니다. 형태 / 품사태그 / 평균빈도 순으로 들어가 있고, 품사 태그는 세종 말뭉치 태그를 기준으로 합니다.\n",
    "\n",
    "아마 주로 문어 코퍼스 비중이 높고, 구어나 인터넷의 가벼운 글들이 반영되지 않아서 블로그/댓글/SNS 불용어로 쓰기에는 약간 부적합할 수도 있다는 생각이 드는군요.\n",
    "\n",
    "자료 출처: https://bab2min.tistory.com/544"
   ]
  },
  {
   "cell_type": "code",
   "execution_count": 20,
   "metadata": {},
   "outputs": [],
   "source": [
    "stopwords = pd.read_csv('https://bab2min.tistory.com/attachment/cfile2.uf@241D6F475873C2B1010DEA.txt', \n",
    "                        sep='\\t', header=None, names=['형태','품사','비율'])"
   ]
  },
  {
   "cell_type": "code",
   "execution_count": 21,
   "metadata": {},
   "outputs": [],
   "source": [
    "#  concat two columns sep via /\n",
    "stopwords['형태/품사'] = stopwords['형태']+'/'+ stopwords['품사']"
   ]
  },
  {
   "cell_type": "code",
   "execution_count": 22,
   "metadata": {},
   "outputs": [
    {
     "data": {
      "text/html": [
       "<div>\n",
       "<style scoped>\n",
       "    .dataframe tbody tr th:only-of-type {\n",
       "        vertical-align: middle;\n",
       "    }\n",
       "\n",
       "    .dataframe tbody tr th {\n",
       "        vertical-align: top;\n",
       "    }\n",
       "\n",
       "    .dataframe thead th {\n",
       "        text-align: right;\n",
       "    }\n",
       "</style>\n",
       "<table border=\"1\" class=\"dataframe\">\n",
       "  <thead>\n",
       "    <tr style=\"text-align: right;\">\n",
       "      <th></th>\n",
       "      <th>형태</th>\n",
       "      <th>품사</th>\n",
       "      <th>비율</th>\n",
       "      <th>형태/품사</th>\n",
       "    </tr>\n",
       "  </thead>\n",
       "  <tbody>\n",
       "    <tr>\n",
       "      <th>0</th>\n",
       "      <td>이</td>\n",
       "      <td>VCP</td>\n",
       "      <td>0.018280</td>\n",
       "      <td>이/VCP</td>\n",
       "    </tr>\n",
       "    <tr>\n",
       "      <th>1</th>\n",
       "      <td>있</td>\n",
       "      <td>VA</td>\n",
       "      <td>0.011699</td>\n",
       "      <td>있/VA</td>\n",
       "    </tr>\n",
       "    <tr>\n",
       "      <th>2</th>\n",
       "      <td>하</td>\n",
       "      <td>VV</td>\n",
       "      <td>0.009774</td>\n",
       "      <td>하/VV</td>\n",
       "    </tr>\n",
       "    <tr>\n",
       "      <th>3</th>\n",
       "      <td>것</td>\n",
       "      <td>NNB</td>\n",
       "      <td>0.009733</td>\n",
       "      <td>것/NNB</td>\n",
       "    </tr>\n",
       "    <tr>\n",
       "      <th>4</th>\n",
       "      <td>들</td>\n",
       "      <td>XSN</td>\n",
       "      <td>0.006898</td>\n",
       "      <td>들/XSN</td>\n",
       "    </tr>\n",
       "  </tbody>\n",
       "</table>\n",
       "</div>"
      ],
      "text/plain": [
       "  형태   품사        비율  형태/품사\n",
       "0  이  VCP  0.018280  이/VCP\n",
       "1  있   VA  0.011699   있/VA\n",
       "2  하   VV  0.009774   하/VV\n",
       "3  것  NNB  0.009733  것/NNB\n",
       "4  들  XSN  0.006898  들/XSN"
      ]
     },
     "execution_count": 22,
     "metadata": {},
     "output_type": "execute_result"
    }
   ],
   "source": [
    "stopwords.head()"
   ]
  },
  {
   "cell_type": "code",
   "execution_count": 23,
   "metadata": {},
   "outputs": [],
   "source": [
    "# convert column into a list\n",
    "stopwords_list = stopwords['형태/품사'].tolist()"
   ]
  },
  {
   "cell_type": "code",
   "execution_count": 24,
   "metadata": {},
   "outputs": [
    {
     "data": {
      "text/plain": [
       "['이/VCP',\n",
       " '있/VA',\n",
       " '하/VV',\n",
       " '것/NNB',\n",
       " '들/XSN',\n",
       " '그/MM',\n",
       " '되/VV',\n",
       " '수/NNB',\n",
       " '이/NP',\n",
       " '보/VX',\n",
       " '않/VX',\n",
       " '없/VA',\n",
       " '나/NP',\n",
       " '사람/NNG',\n",
       " '주/VV',\n",
       " '아니/VCN',\n",
       " '등/NNB',\n",
       " '같/VA',\n",
       " '우리/NP',\n",
       " '때/NNG',\n",
       " '년/NNB',\n",
       " '가/VV',\n",
       " '한/MM',\n",
       " '지/VX',\n",
       " '대하/VV',\n",
       " '오/VV',\n",
       " '말/NNG',\n",
       " '일/NNG',\n",
       " '그렇/VA',\n",
       " '위하/VV',\n",
       " '때문/NNB',\n",
       " '그것/NP',\n",
       " '두/VV',\n",
       " '말하/VV',\n",
       " '알/VV',\n",
       " '그러나/MAJ',\n",
       " '받/VV',\n",
       " '못하/VX',\n",
       " '일/NNB',\n",
       " '그런/MM',\n",
       " '또/MAG',\n",
       " '문제/NNG',\n",
       " '더/MAG',\n",
       " '사회/NNG',\n",
       " '많/VA',\n",
       " '그리고/MAJ',\n",
       " '좋/VA',\n",
       " '크/VA',\n",
       " '따르/VV',\n",
       " '중/NNB',\n",
       " '나오/VV',\n",
       " '가지/VV',\n",
       " '씨/NNB',\n",
       " '시키/XSV',\n",
       " '만들/VV',\n",
       " '지금/NNG',\n",
       " '생각하/VV',\n",
       " '그러/VV',\n",
       " '속/NNG',\n",
       " '하나/NR',\n",
       " '집/NNG',\n",
       " '살/VV',\n",
       " '모르/VV',\n",
       " '적/XSN',\n",
       " '월/NNB',\n",
       " '데/NNB',\n",
       " '자신/NNG',\n",
       " '안/MAG',\n",
       " '어떤/MM',\n",
       " '내/NP',\n",
       " '내/VV',\n",
       " '경우/NNG',\n",
       " '명/NNB',\n",
       " '생각/NNG',\n",
       " '시간/NNG',\n",
       " '그녀/NP',\n",
       " '다시/MAG',\n",
       " '이런/MM',\n",
       " '앞/NNG',\n",
       " '보이/VV',\n",
       " '번/NNB',\n",
       " '나/VX',\n",
       " '다른/MM',\n",
       " '어떻/VA',\n",
       " '여자/NNG',\n",
       " '개/NNB',\n",
       " '전/NNG',\n",
       " '들/VV',\n",
       " '사실/NNG',\n",
       " '이렇/VA',\n",
       " '점/NNG',\n",
       " '싶/VX',\n",
       " '말/VX',\n",
       " '정도/NNG',\n",
       " '좀/MAG',\n",
       " '원/NNB',\n",
       " '잘/MAG',\n",
       " '통하/VV',\n",
       " '소리/NNG',\n",
       " '놓/VX']"
      ]
     },
     "execution_count": 24,
     "metadata": {},
     "output_type": "execute_result"
    }
   ],
   "source": [
    "stopwords_list"
   ]
  },
  {
   "cell_type": "code",
   "execution_count": null,
   "metadata": {},
   "outputs": [],
   "source": []
  }
 ],
 "metadata": {
  "kernelspec": {
   "display_name": "Python 3",
   "language": "python",
   "name": "python3"
  },
  "language_info": {
   "codemirror_mode": {
    "name": "ipython",
    "version": 3
   },
   "file_extension": ".py",
   "mimetype": "text/x-python",
   "name": "python",
   "nbconvert_exporter": "python",
   "pygments_lexer": "ipython3",
   "version": "3.7.6"
  }
 },
 "nbformat": 4,
 "nbformat_minor": 4
}
