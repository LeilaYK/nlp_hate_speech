{
 "cells": [
  {
   "cell_type": "code",
   "execution_count": 1,
   "metadata": {},
   "outputs": [],
   "source": [
    "import pandas as pd"
   ]
  },
  {
   "cell_type": "code",
   "execution_count": 2,
   "metadata": {},
   "outputs": [],
   "source": [
    "train_df = pd.read_csv('./hate_speech_01.csv', index_col=[0])"
   ]
  },
  {
   "cell_type": "code",
   "execution_count": 4,
   "metadata": {},
   "outputs": [],
   "source": [
    "train = train_df[['spell_checked_emoji_free_no_punct','bias', 'contain_gender_bias', 'hate' ]]"
   ]
  },
  {
   "cell_type": "code",
   "execution_count": 5,
   "metadata": {},
   "outputs": [
    {
     "name": "stderr",
     "output_type": "stream",
     "text": [
      "/opt/anaconda3/envs/nltk/lib/python3.7/site-packages/pandas/core/frame.py:4308: SettingWithCopyWarning: \n",
      "A value is trying to be set on a copy of a slice from a DataFrame\n",
      "\n",
      "See the caveats in the documentation: https://pandas.pydata.org/pandas-docs/stable/user_guide/indexing.html#returning-a-view-versus-a-copy\n",
      "  errors=errors,\n"
     ]
    }
   ],
   "source": [
    "train.rename(columns = {'spell_checked_emoji_free_no_punct' : 'comments'}, inplace=True)"
   ]
  },
  {
   "cell_type": "code",
   "execution_count": 6,
   "metadata": {},
   "outputs": [
    {
     "data": {
      "text/html": [
       "<div>\n",
       "<style scoped>\n",
       "    .dataframe tbody tr th:only-of-type {\n",
       "        vertical-align: middle;\n",
       "    }\n",
       "\n",
       "    .dataframe tbody tr th {\n",
       "        vertical-align: top;\n",
       "    }\n",
       "\n",
       "    .dataframe thead th {\n",
       "        text-align: right;\n",
       "    }\n",
       "</style>\n",
       "<table border=\"1\" class=\"dataframe\">\n",
       "  <thead>\n",
       "    <tr style=\"text-align: right;\">\n",
       "      <th></th>\n",
       "      <th>comments</th>\n",
       "      <th>bias</th>\n",
       "      <th>contain_gender_bias</th>\n",
       "      <th>hate</th>\n",
       "    </tr>\n",
       "  </thead>\n",
       "  <tbody>\n",
       "    <tr>\n",
       "      <th>0</th>\n",
       "      <td>현재 호텔 주인 심정  아18 난 마른 하늘에 날 벼락 맞고 호텔 망하게 생겼는데...</td>\n",
       "      <td>others</td>\n",
       "      <td>False</td>\n",
       "      <td>hate</td>\n",
       "    </tr>\n",
       "    <tr>\n",
       "      <th>1</th>\n",
       "      <td>한국적인 미인의 대표적인 분    너무나 곱고 아름다운 모습   그 모습 뒤...</td>\n",
       "      <td>none</td>\n",
       "      <td>False</td>\n",
       "      <td>none</td>\n",
       "    </tr>\n",
       "    <tr>\n",
       "      <th>2</th>\n",
       "      <td>못된 넘들   남의 고통을 즐겼던 넘들  이젠 마땅한 처벌을 받아야지    ...</td>\n",
       "      <td>none</td>\n",
       "      <td>False</td>\n",
       "      <td>hate</td>\n",
       "    </tr>\n",
       "    <tr>\n",
       "      <th>3</th>\n",
       "      <td>1  2화 어설 펐는데 3  4화 지나서부터는 갈수록 너무 재밌던 데</td>\n",
       "      <td>none</td>\n",
       "      <td>False</td>\n",
       "      <td>none</td>\n",
       "    </tr>\n",
       "    <tr>\n",
       "      <th>4</th>\n",
       "      <td>1  사람 얼굴 손톱으로 긁은 것은 인격 살해이고 2  동영상이 몰카냐  메걸리안 ...</td>\n",
       "      <td>gender</td>\n",
       "      <td>True</td>\n",
       "      <td>hate</td>\n",
       "    </tr>\n",
       "  </tbody>\n",
       "</table>\n",
       "</div>"
      ],
      "text/plain": [
       "                                            comments    bias  \\\n",
       "0   현재 호텔 주인 심정  아18 난 마른 하늘에 날 벼락 맞고 호텔 망하게 생겼는데...  others   \n",
       "1      한국적인 미인의 대표적인 분    너무나 곱고 아름다운 모습   그 모습 뒤...    none   \n",
       "2      못된 넘들   남의 고통을 즐겼던 넘들  이젠 마땅한 처벌을 받아야지    ...    none   \n",
       "3             1  2화 어설 펐는데 3  4화 지나서부터는 갈수록 너무 재밌던 데    none   \n",
       "4  1  사람 얼굴 손톱으로 긁은 것은 인격 살해이고 2  동영상이 몰카냐  메걸리안 ...  gender   \n",
       "\n",
       "   contain_gender_bias  hate  \n",
       "0                False  hate  \n",
       "1                False  none  \n",
       "2                False  hate  \n",
       "3                False  none  \n",
       "4                 True  hate  "
      ]
     },
     "execution_count": 6,
     "metadata": {},
     "output_type": "execute_result"
    }
   ],
   "source": [
    "train.head()"
   ]
  },
  {
   "cell_type": "code",
   "execution_count": 4,
   "metadata": {},
   "outputs": [],
   "source": [
    "from khaiii import KhaiiiApi\n",
    "api = KhaiiiApi()"
   ]
  },
  {
   "cell_type": "code",
   "execution_count": 5,
   "metadata": {},
   "outputs": [],
   "source": [
    "test_sents = '으'"
   ]
  },
  {
   "cell_type": "code",
   "execution_count": 6,
   "metadata": {},
   "outputs": [],
   "source": [
    "comments_pos = []\n",
    "for sent in test_sents:\n",
    "    pos_tagged = ''\n",
    "    for word in api.analyze(sent):\n",
    "        for morph in word.morphs:\n",
    "            pos_tagged += morph.lex + '/' + morph.tag\n",
    "    comments_pos.append(pos_tagged)"
   ]
  },
  {
   "cell_type": "code",
   "execution_count": 62,
   "metadata": {},
   "outputs": [
    {
     "name": "stderr",
     "output_type": "stream",
     "text": [
      "/opt/anaconda3/lib/python3.7/site-packages/ipykernel_launcher.py:1: SettingWithCopyWarning: \n",
      "A value is trying to be set on a copy of a slice from a DataFrame.\n",
      "Try using .loc[row_indexer,col_indexer] = value instead\n",
      "\n",
      "See the caveats in the documentation: https://pandas.pydata.org/pandas-docs/stable/user_guide/indexing.html#returning-a-view-versus-a-copy\n",
      "  \"\"\"Entry point for launching an IPython kernel.\n"
     ]
    }
   ],
   "source": [
    "train['comments_pos'] = comments_pos"
   ]
  },
  {
   "cell_type": "code",
   "execution_count": 160,
   "metadata": {},
   "outputs": [
    {
     "data": {
      "text/plain": [
       "Index(['comments', 'bias', 'contain_gender_bias', 'hate', 'comments_pos'], dtype='object')"
      ]
     },
     "execution_count": 160,
     "metadata": {},
     "output_type": "execute_result"
    }
   ],
   "source": [
    "train.columns"
   ]
  },
  {
   "cell_type": "code",
   "execution_count": 161,
   "metadata": {},
   "outputs": [],
   "source": [
    "train_df2 = train[['comments','comments_pos', 'bias', 'contain_gender_bias', 'hate']]"
   ]
  },
  {
   "cell_type": "code",
   "execution_count": 162,
   "metadata": {},
   "outputs": [
    {
     "data": {
      "text/html": [
       "<div>\n",
       "<style scoped>\n",
       "    .dataframe tbody tr th:only-of-type {\n",
       "        vertical-align: middle;\n",
       "    }\n",
       "\n",
       "    .dataframe tbody tr th {\n",
       "        vertical-align: top;\n",
       "    }\n",
       "\n",
       "    .dataframe thead th {\n",
       "        text-align: right;\n",
       "    }\n",
       "</style>\n",
       "<table border=\"1\" class=\"dataframe\">\n",
       "  <thead>\n",
       "    <tr style=\"text-align: right;\">\n",
       "      <th></th>\n",
       "      <th>comments</th>\n",
       "      <th>comments_pos</th>\n",
       "      <th>bias</th>\n",
       "      <th>contain_gender_bias</th>\n",
       "      <th>hate</th>\n",
       "    </tr>\n",
       "  </thead>\n",
       "  <tbody>\n",
       "    <tr>\n",
       "      <th>0</th>\n",
       "      <td>현재 호텔 주인 심정  아18 난 마른 하늘에 날 벼락 맞고 호텔 망하게 생겼는데...</td>\n",
       "      <td>현재/MAG 호텔/NNG 주인/NNG 심정/NNG 아/NNG 18/SN 나/VA ㄴ...</td>\n",
       "      <td>others</td>\n",
       "      <td>False</td>\n",
       "      <td>hate</td>\n",
       "    </tr>\n",
       "    <tr>\n",
       "      <th>1</th>\n",
       "      <td>한국적인 미인의 대표적인 분    너무나 곱고 아름다운 모습   그 모습 뒤...</td>\n",
       "      <td>한국/NNP 적/XSN 이/VCP ㄴ/ETM 미인/NNG 의/JKG 대표/NNG 적...</td>\n",
       "      <td>none</td>\n",
       "      <td>False</td>\n",
       "      <td>none</td>\n",
       "    </tr>\n",
       "    <tr>\n",
       "      <th>2</th>\n",
       "      <td>못된 넘들   남의 고통을 즐겼던 넘들  이젠 마땅한 처벌을 받아야지    ...</td>\n",
       "      <td>못/MAG 되/VA ㄴ/ETM 넘/NNG 들/XSN 남/NNG 의/JKG 고통/NN...</td>\n",
       "      <td>none</td>\n",
       "      <td>False</td>\n",
       "      <td>hate</td>\n",
       "    </tr>\n",
       "    <tr>\n",
       "      <th>3</th>\n",
       "      <td>1  2화 어설 펐는데 3  4화 지나서부터는 갈수록 너무 재밌던 데</td>\n",
       "      <td>1/SN 2/SN 화/NNB 어설/NNG 푸/VV 었/EP 는데/EC 3/SN 4/...</td>\n",
       "      <td>none</td>\n",
       "      <td>False</td>\n",
       "      <td>none</td>\n",
       "    </tr>\n",
       "    <tr>\n",
       "      <th>4</th>\n",
       "      <td>1  사람 얼굴 손톱으로 긁은 것은 인격 살해이고 2  동영상이 몰카냐  메걸리안 ...</td>\n",
       "      <td>1/SN 사람/NNG 얼굴/NNG 손톱/NNG 으로/JKB 긁/VV 은/ETM 것/...</td>\n",
       "      <td>gender</td>\n",
       "      <td>True</td>\n",
       "      <td>hate</td>\n",
       "    </tr>\n",
       "    <tr>\n",
       "      <th>...</th>\n",
       "      <td>...</td>\n",
       "      <td>...</td>\n",
       "      <td>...</td>\n",
       "      <td>...</td>\n",
       "      <td>...</td>\n",
       "    </tr>\n",
       "    <tr>\n",
       "      <th>7891</th>\n",
       "      <td>힘내세요  응원합니다</td>\n",
       "      <td>힘/NNG 내/VV 세요/EC 응원/NNG 하/XSV ㅂ니다/EC</td>\n",
       "      <td>none</td>\n",
       "      <td>False</td>\n",
       "      <td>none</td>\n",
       "    </tr>\n",
       "    <tr>\n",
       "      <th>7892</th>\n",
       "      <td>힘내세요  삼가 고인의 명복을 빕니다</td>\n",
       "      <td>힘/NNG 내/VV 시/EP 어요/EC 삼/NR 가/NNG 고인/NNG 의/JKG ...</td>\n",
       "      <td>none</td>\n",
       "      <td>False</td>\n",
       "      <td>none</td>\n",
       "    </tr>\n",
       "    <tr>\n",
       "      <th>7893</th>\n",
       "      <td>힘내세용 항상 응원합니닷</td>\n",
       "      <td>힘내세용/NNG 항상/MAG 응원/NNG 하/XSV ㅂ/EC 니닷/NNG</td>\n",
       "      <td>none</td>\n",
       "      <td>False</td>\n",
       "      <td>none</td>\n",
       "    </tr>\n",
       "    <tr>\n",
       "      <th>7894</th>\n",
       "      <td>힘내소   연기로 답해요  나도 53살 인데 이런 일 저런 일 다 있더라구요 인 격...</td>\n",
       "      <td>힘/NNG 내/VV 소/NNG 연기/NNG 로/JKB 답/NNG 하/XSV 여요/E...</td>\n",
       "      <td>none</td>\n",
       "      <td>False</td>\n",
       "      <td>none</td>\n",
       "    </tr>\n",
       "    <tr>\n",
       "      <th>7895</th>\n",
       "      <td>힘들면 관뒀어야지 그게 현명한 거다</td>\n",
       "      <td>힘들/VA 면/EC 관두/VV 었/EP 어야지/EC 그것/NP 이/JKS 현명/NN...</td>\n",
       "      <td>none</td>\n",
       "      <td>False</td>\n",
       "      <td>none</td>\n",
       "    </tr>\n",
       "  </tbody>\n",
       "</table>\n",
       "<p>7893 rows × 5 columns</p>\n",
       "</div>"
      ],
      "text/plain": [
       "                                               comments  \\\n",
       "0      현재 호텔 주인 심정  아18 난 마른 하늘에 날 벼락 맞고 호텔 망하게 생겼는데...   \n",
       "1         한국적인 미인의 대표적인 분    너무나 곱고 아름다운 모습   그 모습 뒤...   \n",
       "2         못된 넘들   남의 고통을 즐겼던 넘들  이젠 마땅한 처벌을 받아야지    ...   \n",
       "3                1  2화 어설 펐는데 3  4화 지나서부터는 갈수록 너무 재밌던 데   \n",
       "4     1  사람 얼굴 손톱으로 긁은 것은 인격 살해이고 2  동영상이 몰카냐  메걸리안 ...   \n",
       "...                                                 ...   \n",
       "7891                                      힘내세요  응원합니다     \n",
       "7892                             힘내세요  삼가 고인의 명복을 빕니다     \n",
       "7893                                    힘내세용 항상 응원합니닷     \n",
       "7894  힘내소   연기로 답해요  나도 53살 인데 이런 일 저런 일 다 있더라구요 인 격...   \n",
       "7895                                힘들면 관뒀어야지 그게 현명한 거다   \n",
       "\n",
       "                                           comments_pos    bias  \\\n",
       "0     현재/MAG 호텔/NNG 주인/NNG 심정/NNG 아/NNG 18/SN 나/VA ㄴ...  others   \n",
       "1     한국/NNP 적/XSN 이/VCP ㄴ/ETM 미인/NNG 의/JKG 대표/NNG 적...    none   \n",
       "2     못/MAG 되/VA ㄴ/ETM 넘/NNG 들/XSN 남/NNG 의/JKG 고통/NN...    none   \n",
       "3     1/SN 2/SN 화/NNB 어설/NNG 푸/VV 었/EP 는데/EC 3/SN 4/...    none   \n",
       "4     1/SN 사람/NNG 얼굴/NNG 손톱/NNG 으로/JKB 긁/VV 은/ETM 것/...  gender   \n",
       "...                                                 ...     ...   \n",
       "7891              힘/NNG 내/VV 세요/EC 응원/NNG 하/XSV ㅂ니다/EC     none   \n",
       "7892  힘/NNG 내/VV 시/EP 어요/EC 삼/NR 가/NNG 고인/NNG 의/JKG ...    none   \n",
       "7893          힘내세용/NNG 항상/MAG 응원/NNG 하/XSV ㅂ/EC 니닷/NNG     none   \n",
       "7894  힘/NNG 내/VV 소/NNG 연기/NNG 로/JKB 답/NNG 하/XSV 여요/E...    none   \n",
       "7895  힘들/VA 면/EC 관두/VV 었/EP 어야지/EC 그것/NP 이/JKS 현명/NN...    none   \n",
       "\n",
       "      contain_gender_bias  hate  \n",
       "0                   False  hate  \n",
       "1                   False  none  \n",
       "2                   False  hate  \n",
       "3                   False  none  \n",
       "4                    True  hate  \n",
       "...                   ...   ...  \n",
       "7891                False  none  \n",
       "7892                False  none  \n",
       "7893                False  none  \n",
       "7894                False  none  \n",
       "7895                False  none  \n",
       "\n",
       "[7893 rows x 5 columns]"
      ]
     },
     "execution_count": 162,
     "metadata": {},
     "output_type": "execute_result"
    }
   ],
   "source": [
    "train_df2"
   ]
  },
  {
   "cell_type": "code",
   "execution_count": 164,
   "metadata": {},
   "outputs": [],
   "source": [
    "train_df2.to_csv('hate_speech_train_khaiii.csv')"
   ]
  },
  {
   "cell_type": "code",
   "execution_count": 64,
   "metadata": {},
   "outputs": [],
   "source": [
    "a = train['comments_pos'].to_list()\n",
    "b = train['hate'].to_list()"
   ]
  },
  {
   "cell_type": "code",
   "execution_count": 65,
   "metadata": {},
   "outputs": [],
   "source": [
    "train_list = list(zip(a, b))"
   ]
  },
  {
   "cell_type": "code",
   "execution_count": 88,
   "metadata": {},
   "outputs": [],
   "source": [
    "train_docs = [(sentence[0].split(' ')[:-1],sentence[1]) for sentence in train_list]"
   ]
  },
  {
   "cell_type": "code",
   "execution_count": 166,
   "metadata": {},
   "outputs": [
    {
     "data": {
      "text/plain": [
       "7893"
      ]
     },
     "execution_count": 166,
     "metadata": {},
     "output_type": "execute_result"
    }
   ],
   "source": [
    "len(train_docs)"
   ]
  },
  {
   "cell_type": "code",
   "execution_count": 92,
   "metadata": {},
   "outputs": [],
   "source": [
    "all_words = set([i for d in train_docs for i in d[0]])"
   ]
  },
  {
   "cell_type": "code",
   "execution_count": 156,
   "metadata": {},
   "outputs": [
    {
     "data": {
      "text/plain": [
       "16022"
      ]
     },
     "execution_count": 156,
     "metadata": {},
     "output_type": "execute_result"
    }
   ],
   "source": [
    "len(all_words)"
   ]
  },
  {
   "cell_type": "code",
   "execution_count": 94,
   "metadata": {},
   "outputs": [],
   "source": [
    "def term_exists(doc):\n",
    "    return {word: (word in set(doc)) for word in all_words}"
   ]
  },
  {
   "cell_type": "code",
   "execution_count": 95,
   "metadata": {},
   "outputs": [],
   "source": [
    "train_xy = [(term_exists(d), c) for d,c in train_docs]"
   ]
  },
  {
   "cell_type": "code",
   "execution_count": 98,
   "metadata": {},
   "outputs": [
    {
     "name": "stdout",
     "output_type": "stream",
     "text": [
      "Most Informative Features\n",
      "                  돼지/NNG = True             hate : none   =     37.1 : 1.0\n",
      "                  OOO/SL = True             hate : none   =     25.0 : 1.0\n",
      "                    빨/VV = True             hate : none   =     22.3 : 1.0\n",
      "                  열폭/NNG = True             hate : none   =     17.6 : 1.0\n",
      "                   문/NNP = True             hate : none   =     17.6 : 1.0\n",
      "                   척/NNB = True           offens : none   =     15.3 : 1.0\n",
      "                  페미/NNG = True             hate : offens =     15.3 : 1.0\n",
      "                   처/NNG = True             hate : none   =     14.2 : 1.0\n",
      "                  좌파/NNG = True             hate : none   =     14.0 : 1.0\n",
      "                   페/NNG = True             hate : none   =     14.0 : 1.0\n",
      "                   저것/NP = True             hate : none   =     14.0 : 1.0\n",
      "                  보소/NNG = True             hate : none   =     14.0 : 1.0\n",
      "                   개/NNG = True             hate : none   =     13.8 : 1.0\n",
      "                   30/SN = True             hate : none   =     12.8 : 1.0\n",
      "                 성폭행/NNG = True             hate : none   =     12.8 : 1.0\n",
      "                 쓰레기/NNG = True             hate : none   =     12.8 : 1.0\n",
      "                   차리/VV = True             hate : none   =     12.8 : 1.0\n",
      "                    찌/VV = True             hate : offens =     12.6 : 1.0\n",
      "                   멋지/VA = True             none : offens =     12.2 : 1.0\n",
      "                    늙/VV = True             hate : none   =     11.6 : 1.0\n",
      "                  수사/NNG = True             hate : none   =     11.6 : 1.0\n",
      "                 전라도/NNP = True             hate : none   =     11.3 : 1.0\n",
      "                  새끼/NNG = True             hate : offens =     11.3 : 1.0\n",
      "                   ㅈ/NNG = True             hate : none   =     11.2 : 1.0\n",
      "                   더럽/VA = True             hate : none   =     11.2 : 1.0\n",
      "                   역겹/VA = True             hate : offens =     10.9 : 1.0\n",
      "                  커플/NNG = True             none : hate   =     10.8 : 1.0\n",
      "                  정권/NNG = True             hate : none   =     10.6 : 1.0\n",
      "                   꾼/XSN = True             hate : none   =     10.3 : 1.0\n",
      "                 범죄자/NNG = True             hate : none   =     10.3 : 1.0\n",
      "                    따/VV = True             hate : none   =     10.3 : 1.0\n",
      "                 개소리/NNG = True             hate : none   =     10.3 : 1.0\n",
      "                  막장/NNG = True             hate : none   =     10.3 : 1.0\n",
      "                   토/NNG = True             hate : none   =     10.3 : 1.0\n",
      "                    버/VV = True             hate : none   =     10.3 : 1.0\n",
      "                   너희/NP = True             hate : none   =     10.3 : 1.0\n",
      "                   꺼지/VV = True             hate : none   =     10.3 : 1.0\n",
      "                  ㅈㄴ/NNG = True             hate : none   =     10.3 : 1.0\n",
      "                   냐/NNP = True             hate : none   =     10.3 : 1.0\n",
      "                  지랄/NNG = True             hate : none   =     10.3 : 1.0\n",
      "                   잼/NNG = True             none : hate   =     10.0 : 1.0\n",
      "                  문재/NNG = True             hate : none   =      9.9 : 1.0\n",
      "                 아줌마/NNG = True             hate : none   =      9.5 : 1.0\n",
      "                    있/VA = True             none : offens =      9.3 : 1.0\n",
      "                   귀엽/VA = True             none : hate   =      9.3 : 1.0\n",
      "                   여요/EC = True             none : hate   =      9.3 : 1.0\n",
      "                  꽃뱀/NNG = True             hate : offens =      9.2 : 1.0\n",
      "                  재수/NNG = True             hate : none   =      9.1 : 1.0\n",
      "                  냄새/NNG = True             hate : none   =      9.1 : 1.0\n",
      "                   따/NNG = True             hate : none   =      9.1 : 1.0\n",
      "                  북한/NNP = True             hate : none   =      9.1 : 1.0\n",
      "                   조르/VV = True             hate : none   =      9.1 : 1.0\n",
      "                   질/NNG = True             hate : none   =      9.1 : 1.0\n",
      "                    맣/VA = True             hate : none   =      9.1 : 1.0\n",
      "                  100/SN = True             hate : none   =      9.1 : 1.0\n",
      "                 김제동/NNP = True             hate : none   =      9.1 : 1.0\n",
      "                   축/NNG = True             none : offens =      8.8 : 1.0\n",
      "                  피디/NNG = True           offens : none   =      8.8 : 1.0\n",
      "                  집안/NNG = True           offens : none   =      8.8 : 1.0\n",
      "                    빌/VV = True             none : offens =      8.7 : 1.0\n",
      "                   얘/NNG = True           offens : none   =      8.6 : 1.0\n",
      "                   놈/NNB = True             hate : none   =      8.4 : 1.0\n",
      "                   ㅅ/NNG = True             hate : none   =      8.4 : 1.0\n",
      "                   뇌/NNG = True             hate : offens =      8.3 : 1.0\n",
      "                    대/VX = True             hate : offens =      8.3 : 1.0\n",
      "                   ㅋ/MAG = True             hate : none   =      8.1 : 1.0\n",
      "                   한/NNP = True             hate : none   =      8.1 : 1.0\n",
      "                  전부/NNG = True             hate : none   =      7.9 : 1.0\n",
      "                   못/NNG = True             hate : none   =      7.9 : 1.0\n",
      "                  ㅇㅇ/NNG = True             hate : none   =      7.9 : 1.0\n",
      "                  술집/NNG = True             hate : none   =      7.9 : 1.0\n",
      "                  전형/NNG = True             hate : none   =      7.9 : 1.0\n",
      "                  선동/NNG = True             hate : none   =      7.9 : 1.0\n",
      "                   온갖/MM = True             hate : none   =      7.9 : 1.0\n",
      "                   리치/VV = True             hate : none   =      7.9 : 1.0\n",
      "                   18/SN = True             hate : none   =      7.9 : 1.0\n",
      "                  거리/NNG = True             hate : none   =      7.9 : 1.0\n",
      "                    얻/VV = True           offens : none   =      7.9 : 1.0\n",
      "                  작품/NNG = True           offens : hate   =      7.9 : 1.0\n",
      "                 화이팅/NNG = True             none : offens =      7.9 : 1.0\n",
      "                  기다리/VV = True             none : hate   =      7.9 : 1.0\n",
      "                    딴/MM = True             hate : none   =      7.7 : 1.0\n",
      "                   밤/NNG = True             hate : offens =      7.4 : 1.0\n",
      "                   기/MAG = True             hate : offens =      7.4 : 1.0\n",
      "                   드리/VV = True             none : offens =      7.4 : 1.0\n",
      "                  하차/NNG = True           offens : hate   =      7.2 : 1.0\n",
      "                   재밌/VA = True             none : hate   =      7.1 : 1.0\n",
      "                  마약/NNG = True             hate : none   =      7.1 : 1.0\n",
      "                   ㅉ/NNG = True             hate : none   =      7.0 : 1.0\n",
      "                   거르/VV = True             hate : none   =      7.0 : 1.0\n",
      "                    ㅉ/SH = True             hate : none   =      7.0 : 1.0\n",
      "                    앉/VV = True           offens : none   =      7.0 : 1.0\n",
      "                    여/IC = True             hate : none   =      6.9 : 1.0\n",
      "                  가식/NNG = True             hate : none   =      6.9 : 1.0\n",
      "                   ㅉㅉ/SH = True             hate : none   =      6.9 : 1.0\n",
      "                  여자/NNG = True             hate : none   =      6.9 : 1.0\n",
      "                   ㄴ/NNG = True             hate : none   =      6.8 : 1.0\n",
      "                  수준/NNG = True             hate : none   =      6.8 : 1.0\n",
      "                  재미없/VA = True             none : hate   =      6.8 : 1.0\n",
      "                   자고/EC = True             hate : none   =      6.7 : 1.0\n"
     ]
    }
   ],
   "source": [
    "import nltk\n",
    "\n",
    "classifier = nltk.NaiveBayesClassifier.train(train_xy)\n",
    "classifier.show_most_informative_features(n=100)"
   ]
  },
  {
   "cell_type": "code",
   "execution_count": 99,
   "metadata": {},
   "outputs": [],
   "source": [
    "import koco"
   ]
  },
  {
   "cell_type": "code",
   "execution_count": 100,
   "metadata": {},
   "outputs": [],
   "source": [
    "# import train and dev data from koco dataset\n",
    "train_dev = koco.load_dataset('korean-hate-speech', mode='train_dev')"
   ]
  },
  {
   "cell_type": "code",
   "execution_count": 101,
   "metadata": {},
   "outputs": [],
   "source": [
    "# select train data\n",
    "dev_df = pd.DataFrame.from_dict(train_dev['dev'], orient='columns')\n",
    "\n",
    "# rearrange columns in order\n",
    "dev_df = dev_df[['news_title','comments','bias','contain_gender_bias', 'hate']]"
   ]
  },
  {
   "cell_type": "code",
   "execution_count": 103,
   "metadata": {},
   "outputs": [
    {
     "data": {
      "text/html": [
       "<div>\n",
       "<style scoped>\n",
       "    .dataframe tbody tr th:only-of-type {\n",
       "        vertical-align: middle;\n",
       "    }\n",
       "\n",
       "    .dataframe tbody tr th {\n",
       "        vertical-align: top;\n",
       "    }\n",
       "\n",
       "    .dataframe thead th {\n",
       "        text-align: right;\n",
       "    }\n",
       "</style>\n",
       "<table border=\"1\" class=\"dataframe\">\n",
       "  <thead>\n",
       "    <tr style=\"text-align: right;\">\n",
       "      <th></th>\n",
       "      <th>news_title</th>\n",
       "      <th>comments</th>\n",
       "      <th>bias</th>\n",
       "      <th>contain_gender_bias</th>\n",
       "      <th>hate</th>\n",
       "    </tr>\n",
       "  </thead>\n",
       "  <tbody>\n",
       "    <tr>\n",
       "      <th>0</th>\n",
       "      <td>\"'아스달 연대기' 뇌안탈 후계자 송중기, 이아르크에 숨어들었다 [종합]\"</td>\n",
       "      <td>송중기 시대극은 믿고본다. 첫회 신선하고 좋았다.</td>\n",
       "      <td>none</td>\n",
       "      <td>False</td>\n",
       "      <td>none</td>\n",
       "    </tr>\n",
       "    <tr>\n",
       "      <th>1</th>\n",
       "      <td>‘섹션TV’ 유인나 “결혼은 3년 후쯤 했으면…노력해보겠다”</td>\n",
       "      <td>지현우 나쁜놈</td>\n",
       "      <td>none</td>\n",
       "      <td>False</td>\n",
       "      <td>offensive</td>\n",
       "    </tr>\n",
       "    <tr>\n",
       "      <th>2</th>\n",
       "      <td>\"'골목식당' 포방터시장, 계속되는 논란의 중심[SS초점]\"</td>\n",
       "      <td>알바쓰고많이만들면되지 돈욕심없으면골목식당왜나온겨 기댕기게나하고 산에가서팔어라</td>\n",
       "      <td>none</td>\n",
       "      <td>False</td>\n",
       "      <td>hate</td>\n",
       "    </tr>\n",
       "    <tr>\n",
       "      <th>3</th>\n",
       "      <td>\"\"\"마음 고생\"\"…나영석·정유미, 황당 불륜 지라시→방송작가 검거→벌금형 선고 [...</td>\n",
       "      <td>설마 ㅈ 현정 작가 아니지??</td>\n",
       "      <td>gender</td>\n",
       "      <td>True</td>\n",
       "      <td>hate</td>\n",
       "    </tr>\n",
       "    <tr>\n",
       "      <th>4</th>\n",
       "      <td>\"이미자 탈세, 10년간 44억 넘는 소득 신고 누락…약 20억 세금 추가 납부\"</td>\n",
       "      <td>이미자씨 송혜교씨 돈이 그리 많으면 탈세말고 그돈으로 평소에 불우이웃에게 기부도 좀...</td>\n",
       "      <td>none</td>\n",
       "      <td>False</td>\n",
       "      <td>offensive</td>\n",
       "    </tr>\n",
       "  </tbody>\n",
       "</table>\n",
       "</div>"
      ],
      "text/plain": [
       "                                          news_title  \\\n",
       "0          \"'아스달 연대기' 뇌안탈 후계자 송중기, 이아르크에 숨어들었다 [종합]\"   \n",
       "1                  ‘섹션TV’ 유인나 “결혼은 3년 후쯤 했으면…노력해보겠다”   \n",
       "2                  \"'골목식당' 포방터시장, 계속되는 논란의 중심[SS초점]\"   \n",
       "3  \"\"\"마음 고생\"\"…나영석·정유미, 황당 불륜 지라시→방송작가 검거→벌금형 선고 [...   \n",
       "4      \"이미자 탈세, 10년간 44억 넘는 소득 신고 누락…약 20억 세금 추가 납부\"   \n",
       "\n",
       "                                            comments    bias  \\\n",
       "0                        송중기 시대극은 믿고본다. 첫회 신선하고 좋았다.    none   \n",
       "1                                            지현우 나쁜놈    none   \n",
       "2         알바쓰고많이만들면되지 돈욕심없으면골목식당왜나온겨 기댕기게나하고 산에가서팔어라    none   \n",
       "3                                   설마 ㅈ 현정 작가 아니지??  gender   \n",
       "4  이미자씨 송혜교씨 돈이 그리 많으면 탈세말고 그돈으로 평소에 불우이웃에게 기부도 좀...    none   \n",
       "\n",
       "   contain_gender_bias       hate  \n",
       "0                False       none  \n",
       "1                False  offensive  \n",
       "2                False       hate  \n",
       "3                 True       hate  \n",
       "4                False  offensive  "
      ]
     },
     "execution_count": 103,
     "metadata": {},
     "output_type": "execute_result"
    }
   ],
   "source": [
    "dev_df.head()"
   ]
  },
  {
   "cell_type": "code",
   "execution_count": 104,
   "metadata": {},
   "outputs": [
    {
     "name": "stdout",
     "output_type": "stream",
     "text": [
      "<class 'pandas.core.frame.DataFrame'>\n",
      "RangeIndex: 471 entries, 0 to 470\n",
      "Data columns (total 5 columns):\n",
      " #   Column               Non-Null Count  Dtype \n",
      "---  ------               --------------  ----- \n",
      " 0   news_title           471 non-null    object\n",
      " 1   comments             471 non-null    object\n",
      " 2   bias                 471 non-null    object\n",
      " 3   contain_gender_bias  471 non-null    bool  \n",
      " 4   hate                 471 non-null    object\n",
      "dtypes: bool(1), object(4)\n",
      "memory usage: 15.3+ KB\n"
     ]
    }
   ],
   "source": [
    "dev_df.info()"
   ]
  },
  {
   "cell_type": "code",
   "execution_count": 105,
   "metadata": {},
   "outputs": [],
   "source": [
    "import emoji"
   ]
  },
  {
   "cell_type": "code",
   "execution_count": 106,
   "metadata": {},
   "outputs": [],
   "source": [
    "def give_emoji_free_text(text):\n",
    "    allchars = [str for str in text]\n",
    "    emoji_list = [c for c in allchars if c in emoji.UNICODE_EMOJI]\n",
    "    clean_text = ' '.join([str for str in text.split() if not any(i in str for i in emoji_list)])\n",
    "\n",
    "    return clean_text"
   ]
  },
  {
   "cell_type": "code",
   "execution_count": 107,
   "metadata": {},
   "outputs": [],
   "source": [
    "dev_df['emoji_free_comments'] = dev_df['comments'].apply(give_emoji_free_text)"
   ]
  },
  {
   "cell_type": "code",
   "execution_count": 108,
   "metadata": {},
   "outputs": [],
   "source": [
    "loanword_map = {}\n",
    "loanword_data = open('./content/confused_loanwords.txt', 'r', encoding='utf-8')\n",
    "\n",
    "lines = loanword_data.readlines()\n",
    "\n",
    "for line in lines:\n",
    "    line = line.strip()\n",
    "    miss_spell = line.split('\\t')[0]\n",
    "    ori_word = line.split('\\t')[1]\n",
    "    loanword_map[miss_spell] = ori_word"
   ]
  },
  {
   "cell_type": "code",
   "execution_count": 109,
   "metadata": {},
   "outputs": [],
   "source": [
    "from pykospacing import spacing\n",
    "from soynlp.normalizer import *"
   ]
  },
  {
   "cell_type": "code",
   "execution_count": 110,
   "metadata": {},
   "outputs": [],
   "source": [
    "def spell_check_comment(texts):\n",
    "    spaced_comment = spacing(texts)\n",
    "    normalized_comment = repeat_normalize(spaced_comment, num_repeats=2)\n",
    "    for loanword in loanword_map:\n",
    "        normalized_comment = normalized_comment.replace(loanword, loanword_map[loanword])\n",
    "    return normalized_comment"
   ]
  },
  {
   "cell_type": "code",
   "execution_count": 111,
   "metadata": {},
   "outputs": [],
   "source": [
    "dev_df['spell_checked_emoji_free'] = dev_df['emoji_free_comments'].apply(spell_check_comment)"
   ]
  },
  {
   "cell_type": "code",
   "execution_count": 112,
   "metadata": {},
   "outputs": [],
   "source": [
    "import re\n",
    "\n",
    "# remove all punctuations except korean, english, and number\n",
    "def cleanse(text):\n",
    "    pattern = re.compile(r'\\s+')\n",
    "    text = re.sub(pattern, ' ', text)\n",
    "    text = re.sub('[^가-힣ㄱ-ㅎㅏ-ㅣa-zA-Z0-9]', ' ', text)\n",
    "    return text"
   ]
  },
  {
   "cell_type": "code",
   "execution_count": 113,
   "metadata": {},
   "outputs": [],
   "source": [
    "dev_df['spell_checked_emoji_free_no_punct'] = dev_df['spell_checked_emoji_free'].apply(cleanse)"
   ]
  },
  {
   "cell_type": "code",
   "execution_count": 114,
   "metadata": {},
   "outputs": [
    {
     "data": {
      "text/html": [
       "<div>\n",
       "<style scoped>\n",
       "    .dataframe tbody tr th:only-of-type {\n",
       "        vertical-align: middle;\n",
       "    }\n",
       "\n",
       "    .dataframe tbody tr th {\n",
       "        vertical-align: top;\n",
       "    }\n",
       "\n",
       "    .dataframe thead th {\n",
       "        text-align: right;\n",
       "    }\n",
       "</style>\n",
       "<table border=\"1\" class=\"dataframe\">\n",
       "  <thead>\n",
       "    <tr style=\"text-align: right;\">\n",
       "      <th></th>\n",
       "      <th>news_title</th>\n",
       "      <th>comments</th>\n",
       "      <th>bias</th>\n",
       "      <th>contain_gender_bias</th>\n",
       "      <th>hate</th>\n",
       "      <th>emoji_free_comments</th>\n",
       "      <th>spell_checked_emoji_free</th>\n",
       "      <th>spell_checked_emoji_free_no_punct</th>\n",
       "    </tr>\n",
       "  </thead>\n",
       "  <tbody>\n",
       "    <tr>\n",
       "      <th>0</th>\n",
       "      <td>\"'아스달 연대기' 뇌안탈 후계자 송중기, 이아르크에 숨어들었다 [종합]\"</td>\n",
       "      <td>송중기 시대극은 믿고본다. 첫회 신선하고 좋았다.</td>\n",
       "      <td>none</td>\n",
       "      <td>False</td>\n",
       "      <td>none</td>\n",
       "      <td>송중기 시대극은 믿고본다. 첫회 신선하고 좋았다.</td>\n",
       "      <td>송중기 시대극은 믿고 본다. 첫 회 신선하고 좋았다.</td>\n",
       "      <td>송중기 시대극은 믿고 본다  첫 회 신선하고 좋았다</td>\n",
       "    </tr>\n",
       "    <tr>\n",
       "      <th>1</th>\n",
       "      <td>‘섹션TV’ 유인나 “결혼은 3년 후쯤 했으면…노력해보겠다”</td>\n",
       "      <td>지현우 나쁜놈</td>\n",
       "      <td>none</td>\n",
       "      <td>False</td>\n",
       "      <td>offensive</td>\n",
       "      <td>지현우 나쁜놈</td>\n",
       "      <td>지현우 나쁜 놈</td>\n",
       "      <td>지현우 나쁜 놈</td>\n",
       "    </tr>\n",
       "    <tr>\n",
       "      <th>2</th>\n",
       "      <td>\"'골목식당' 포방터시장, 계속되는 논란의 중심[SS초점]\"</td>\n",
       "      <td>알바쓰고많이만들면되지 돈욕심없으면골목식당왜나온겨 기댕기게나하고 산에가서팔어라</td>\n",
       "      <td>none</td>\n",
       "      <td>False</td>\n",
       "      <td>hate</td>\n",
       "      <td>알바쓰고많이만들면되지 돈욕심없으면골목식당왜나온겨 기댕기게나하고 산에가서팔어라</td>\n",
       "      <td>알바 쓰고 많이 만들면 되지 돈 욕심 없으면 골목식당 왜 나온 겨 기댕기게나 하고 ...</td>\n",
       "      <td>알바 쓰고 많이 만들면 되지 돈 욕심 없으면 골목식당 왜 나온 겨 기댕기게나 하고 ...</td>\n",
       "    </tr>\n",
       "    <tr>\n",
       "      <th>3</th>\n",
       "      <td>\"\"\"마음 고생\"\"…나영석·정유미, 황당 불륜 지라시→방송작가 검거→벌금형 선고 [...</td>\n",
       "      <td>설마 ㅈ 현정 작가 아니지??</td>\n",
       "      <td>gender</td>\n",
       "      <td>True</td>\n",
       "      <td>hate</td>\n",
       "      <td>설마 ㅈ 현정 작가 아니지??</td>\n",
       "      <td>설마 ㅈ 현정 작가 아니지??</td>\n",
       "      <td>설마 ㅈ 현정 작가 아니지</td>\n",
       "    </tr>\n",
       "    <tr>\n",
       "      <th>4</th>\n",
       "      <td>\"이미자 탈세, 10년간 44억 넘는 소득 신고 누락…약 20억 세금 추가 납부\"</td>\n",
       "      <td>이미자씨 송혜교씨 돈이 그리 많으면 탈세말고 그돈으로 평소에 불우이웃에게 기부도 좀...</td>\n",
       "      <td>none</td>\n",
       "      <td>False</td>\n",
       "      <td>offensive</td>\n",
       "      <td>이미자씨 송혜교씨 돈이 그리 많으면 탈세말고 그돈으로 평소에 불우이웃에게 기부도 좀...</td>\n",
       "      <td>이미 자씨 송혜교씨 돈이 그리 많으면 탈세 말고 그 돈으로 평소에 불우이웃에게 기부...</td>\n",
       "      <td>이미 자씨 송혜교씨 돈이 그리 많으면 탈세 말고 그 돈으로 평소에 불우이웃에게 기부...</td>\n",
       "    </tr>\n",
       "  </tbody>\n",
       "</table>\n",
       "</div>"
      ],
      "text/plain": [
       "                                          news_title  \\\n",
       "0          \"'아스달 연대기' 뇌안탈 후계자 송중기, 이아르크에 숨어들었다 [종합]\"   \n",
       "1                  ‘섹션TV’ 유인나 “결혼은 3년 후쯤 했으면…노력해보겠다”   \n",
       "2                  \"'골목식당' 포방터시장, 계속되는 논란의 중심[SS초점]\"   \n",
       "3  \"\"\"마음 고생\"\"…나영석·정유미, 황당 불륜 지라시→방송작가 검거→벌금형 선고 [...   \n",
       "4      \"이미자 탈세, 10년간 44억 넘는 소득 신고 누락…약 20억 세금 추가 납부\"   \n",
       "\n",
       "                                            comments    bias  \\\n",
       "0                        송중기 시대극은 믿고본다. 첫회 신선하고 좋았다.    none   \n",
       "1                                            지현우 나쁜놈    none   \n",
       "2         알바쓰고많이만들면되지 돈욕심없으면골목식당왜나온겨 기댕기게나하고 산에가서팔어라    none   \n",
       "3                                   설마 ㅈ 현정 작가 아니지??  gender   \n",
       "4  이미자씨 송혜교씨 돈이 그리 많으면 탈세말고 그돈으로 평소에 불우이웃에게 기부도 좀...    none   \n",
       "\n",
       "   contain_gender_bias       hate  \\\n",
       "0                False       none   \n",
       "1                False  offensive   \n",
       "2                False       hate   \n",
       "3                 True       hate   \n",
       "4                False  offensive   \n",
       "\n",
       "                                 emoji_free_comments  \\\n",
       "0                        송중기 시대극은 믿고본다. 첫회 신선하고 좋았다.   \n",
       "1                                            지현우 나쁜놈   \n",
       "2         알바쓰고많이만들면되지 돈욕심없으면골목식당왜나온겨 기댕기게나하고 산에가서팔어라   \n",
       "3                                   설마 ㅈ 현정 작가 아니지??   \n",
       "4  이미자씨 송혜교씨 돈이 그리 많으면 탈세말고 그돈으로 평소에 불우이웃에게 기부도 좀...   \n",
       "\n",
       "                            spell_checked_emoji_free  \\\n",
       "0                      송중기 시대극은 믿고 본다. 첫 회 신선하고 좋았다.   \n",
       "1                                           지현우 나쁜 놈   \n",
       "2  알바 쓰고 많이 만들면 되지 돈 욕심 없으면 골목식당 왜 나온 겨 기댕기게나 하고 ...   \n",
       "3                                   설마 ㅈ 현정 작가 아니지??   \n",
       "4  이미 자씨 송혜교씨 돈이 그리 많으면 탈세 말고 그 돈으로 평소에 불우이웃에게 기부...   \n",
       "\n",
       "                   spell_checked_emoji_free_no_punct  \n",
       "0                      송중기 시대극은 믿고 본다  첫 회 신선하고 좋았다   \n",
       "1                                           지현우 나쁜 놈  \n",
       "2  알바 쓰고 많이 만들면 되지 돈 욕심 없으면 골목식당 왜 나온 겨 기댕기게나 하고 ...  \n",
       "3                                   설마 ㅈ 현정 작가 아니지    \n",
       "4  이미 자씨 송혜교씨 돈이 그리 많으면 탈세 말고 그 돈으로 평소에 불우이웃에게 기부...  "
      ]
     },
     "execution_count": 114,
     "metadata": {},
     "output_type": "execute_result"
    }
   ],
   "source": [
    "dev_df.head()"
   ]
  },
  {
   "cell_type": "code",
   "execution_count": 115,
   "metadata": {},
   "outputs": [],
   "source": [
    "dev = dev_df[['spell_checked_emoji_free_no_punct','bias', 'contain_gender_bias', 'hate' ]]"
   ]
  },
  {
   "cell_type": "code",
   "execution_count": 117,
   "metadata": {},
   "outputs": [],
   "source": [
    "dev.rename(columns = {'spell_checked_emoji_free_no_punct' : 'comments'}, inplace=True)"
   ]
  },
  {
   "cell_type": "code",
   "execution_count": 119,
   "metadata": {},
   "outputs": [],
   "source": [
    "dev_sents = dev['comments'].to_list()"
   ]
  },
  {
   "cell_type": "code",
   "execution_count": 120,
   "metadata": {},
   "outputs": [],
   "source": [
    "comments_pos = []\n",
    "for sent in dev_sents:\n",
    "    pos_tagged = ''\n",
    "    for word in api.analyze(sent):\n",
    "        for morph in word.morphs:\n",
    "            pos_tagged += morph.lex + '/' + morph.tag + ' '\n",
    "    comments_pos.append(pos_tagged)"
   ]
  },
  {
   "cell_type": "code",
   "execution_count": 121,
   "metadata": {},
   "outputs": [
    {
     "name": "stderr",
     "output_type": "stream",
     "text": [
      "/opt/anaconda3/lib/python3.7/site-packages/ipykernel_launcher.py:1: SettingWithCopyWarning: \n",
      "A value is trying to be set on a copy of a slice from a DataFrame.\n",
      "Try using .loc[row_indexer,col_indexer] = value instead\n",
      "\n",
      "See the caveats in the documentation: https://pandas.pydata.org/pandas-docs/stable/user_guide/indexing.html#returning-a-view-versus-a-copy\n",
      "  \"\"\"Entry point for launching an IPython kernel.\n"
     ]
    }
   ],
   "source": [
    "dev['comments_pos'] = comments_pos"
   ]
  },
  {
   "cell_type": "code",
   "execution_count": 122,
   "metadata": {},
   "outputs": [
    {
     "data": {
      "text/html": [
       "<div>\n",
       "<style scoped>\n",
       "    .dataframe tbody tr th:only-of-type {\n",
       "        vertical-align: middle;\n",
       "    }\n",
       "\n",
       "    .dataframe tbody tr th {\n",
       "        vertical-align: top;\n",
       "    }\n",
       "\n",
       "    .dataframe thead th {\n",
       "        text-align: right;\n",
       "    }\n",
       "</style>\n",
       "<table border=\"1\" class=\"dataframe\">\n",
       "  <thead>\n",
       "    <tr style=\"text-align: right;\">\n",
       "      <th></th>\n",
       "      <th>comments</th>\n",
       "      <th>bias</th>\n",
       "      <th>contain_gender_bias</th>\n",
       "      <th>hate</th>\n",
       "      <th>comments_pos</th>\n",
       "    </tr>\n",
       "  </thead>\n",
       "  <tbody>\n",
       "    <tr>\n",
       "      <th>0</th>\n",
       "      <td>송중기 시대극은 믿고 본다  첫 회 신선하고 좋았다</td>\n",
       "      <td>none</td>\n",
       "      <td>False</td>\n",
       "      <td>none</td>\n",
       "      <td>송중기/NNG 시대극/NNG 은/JX 믿/VV 고/EC 보/VV ㄴ다/EC 첫/MM...</td>\n",
       "    </tr>\n",
       "    <tr>\n",
       "      <th>1</th>\n",
       "      <td>지현우 나쁜 놈</td>\n",
       "      <td>none</td>\n",
       "      <td>False</td>\n",
       "      <td>offensive</td>\n",
       "      <td>지현우/NNP 나쁘/VA ㄴ/ETM 놈/NNB</td>\n",
       "    </tr>\n",
       "    <tr>\n",
       "      <th>2</th>\n",
       "      <td>알바 쓰고 많이 만들면 되지 돈 욕심 없으면 골목식당 왜 나온 겨 기댕기게나 하고 ...</td>\n",
       "      <td>none</td>\n",
       "      <td>False</td>\n",
       "      <td>hate</td>\n",
       "      <td>알바/NNP 쓰/VV 고/EC 많이/MAG 만들/VV 면/EC 되/VV 지/EC 돌...</td>\n",
       "    </tr>\n",
       "    <tr>\n",
       "      <th>3</th>\n",
       "      <td>설마 ㅈ 현정 작가 아니지</td>\n",
       "      <td>gender</td>\n",
       "      <td>True</td>\n",
       "      <td>hate</td>\n",
       "      <td>설마/MAG ㅈ/NNG 현정/NNG 작가/NNG 아니/VCN 지/EC</td>\n",
       "    </tr>\n",
       "    <tr>\n",
       "      <th>4</th>\n",
       "      <td>이미 자씨 송혜교씨 돈이 그리 많으면 탈세 말고 그 돈으로 평소에 불우이웃에게 기부...</td>\n",
       "      <td>none</td>\n",
       "      <td>False</td>\n",
       "      <td>offensive</td>\n",
       "      <td>이미/MAG 자/NNP 씨/NNB 송혜교/NNP 씨/NNB 돈/NNG 이/JKS 그...</td>\n",
       "    </tr>\n",
       "    <tr>\n",
       "      <th>...</th>\n",
       "      <td>...</td>\n",
       "      <td>...</td>\n",
       "      <td>...</td>\n",
       "      <td>...</td>\n",
       "      <td>...</td>\n",
       "    </tr>\n",
       "    <tr>\n",
       "      <th>466</th>\n",
       "      <td>지현우 범죄 저지르지 않았나요</td>\n",
       "      <td>none</td>\n",
       "      <td>False</td>\n",
       "      <td>offensive</td>\n",
       "      <td>지현우/NNP 범죄/NNG 저지르/VV 지/EC 않/VX 았/EP 나요/EC</td>\n",
       "    </tr>\n",
       "    <tr>\n",
       "      <th>467</th>\n",
       "      <td>여자 인생 망칠 일 있나 ㅋㅋ</td>\n",
       "      <td>gender</td>\n",
       "      <td>True</td>\n",
       "      <td>hate</td>\n",
       "      <td>여자/NNG 인생/NNG 망치/VV ㄹ/ETM 일/NNG 있/VV 나/EC ㅋ/IC...</td>\n",
       "    </tr>\n",
       "    <tr>\n",
       "      <th>468</th>\n",
       "      <td>근데 전라도에서 사고가 났는데 굳이 서울까지 와서 병원에 가 느 이유는</td>\n",
       "      <td>others</td>\n",
       "      <td>False</td>\n",
       "      <td>offensive</td>\n",
       "      <td>근데/MAJ 전라도/NNP 에서/JKB 사고/NNG 가/JKS 나/VV 았/EP 는...</td>\n",
       "    </tr>\n",
       "    <tr>\n",
       "      <th>469</th>\n",
       "      <td>할매젖x  뱃살x  몸매 s 라인  유륜은 적당해야됨 너무크거나 너무 작아도 x  ...</td>\n",
       "      <td>gender</td>\n",
       "      <td>True</td>\n",
       "      <td>hate</td>\n",
       "      <td>할매젖x/NNG 뱃살/NNG x/SL 몸매/NNG s/SL 라인/NNG 유륜/NNG...</td>\n",
       "    </tr>\n",
       "    <tr>\n",
       "      <th>470</th>\n",
       "      <td>남자가 잘못한 거라면    반성도 없다면   나였다면     여자처럼 아주 못되게 ...</td>\n",
       "      <td>gender</td>\n",
       "      <td>True</td>\n",
       "      <td>none</td>\n",
       "      <td>남자/NNG 가/JKS 잘못/MAG 하/XSV ㄴ/ETM 거/NNB 이/VCP 라면...</td>\n",
       "    </tr>\n",
       "  </tbody>\n",
       "</table>\n",
       "<p>471 rows × 5 columns</p>\n",
       "</div>"
      ],
      "text/plain": [
       "                                              comments    bias  \\\n",
       "0                        송중기 시대극은 믿고 본다  첫 회 신선하고 좋았다     none   \n",
       "1                                             지현우 나쁜 놈    none   \n",
       "2    알바 쓰고 많이 만들면 되지 돈 욕심 없으면 골목식당 왜 나온 겨 기댕기게나 하고 ...    none   \n",
       "3                                     설마 ㅈ 현정 작가 아니지    gender   \n",
       "4    이미 자씨 송혜교씨 돈이 그리 많으면 탈세 말고 그 돈으로 평소에 불우이웃에게 기부...    none   \n",
       "..                                                 ...     ...   \n",
       "466                                  지현우 범죄 저지르지 않았나요     none   \n",
       "467                                   여자 인생 망칠 일 있나 ㅋㅋ  gender   \n",
       "468           근데 전라도에서 사고가 났는데 굳이 서울까지 와서 병원에 가 느 이유는   others   \n",
       "469  할매젖x  뱃살x  몸매 s 라인  유륜은 적당해야됨 너무크거나 너무 작아도 x  ...  gender   \n",
       "470  남자가 잘못한 거라면    반성도 없다면   나였다면     여자처럼 아주 못되게 ...  gender   \n",
       "\n",
       "     contain_gender_bias       hate  \\\n",
       "0                  False       none   \n",
       "1                  False  offensive   \n",
       "2                  False       hate   \n",
       "3                   True       hate   \n",
       "4                  False  offensive   \n",
       "..                   ...        ...   \n",
       "466                False  offensive   \n",
       "467                 True       hate   \n",
       "468                False  offensive   \n",
       "469                 True       hate   \n",
       "470                 True       none   \n",
       "\n",
       "                                          comments_pos  \n",
       "0    송중기/NNG 시대극/NNG 은/JX 믿/VV 고/EC 보/VV ㄴ다/EC 첫/MM...  \n",
       "1                           지현우/NNP 나쁘/VA ㄴ/ETM 놈/NNB   \n",
       "2    알바/NNP 쓰/VV 고/EC 많이/MAG 만들/VV 면/EC 되/VV 지/EC 돌...  \n",
       "3              설마/MAG ㅈ/NNG 현정/NNG 작가/NNG 아니/VCN 지/EC   \n",
       "4    이미/MAG 자/NNP 씨/NNB 송혜교/NNP 씨/NNB 돈/NNG 이/JKS 그...  \n",
       "..                                                 ...  \n",
       "466        지현우/NNP 범죄/NNG 저지르/VV 지/EC 않/VX 았/EP 나요/EC   \n",
       "467  여자/NNG 인생/NNG 망치/VV ㄹ/ETM 일/NNG 있/VV 나/EC ㅋ/IC...  \n",
       "468  근데/MAJ 전라도/NNP 에서/JKB 사고/NNG 가/JKS 나/VV 았/EP 는...  \n",
       "469  할매젖x/NNG 뱃살/NNG x/SL 몸매/NNG s/SL 라인/NNG 유륜/NNG...  \n",
       "470  남자/NNG 가/JKS 잘못/MAG 하/XSV ㄴ/ETM 거/NNB 이/VCP 라면...  \n",
       "\n",
       "[471 rows x 5 columns]"
      ]
     },
     "execution_count": 122,
     "metadata": {},
     "output_type": "execute_result"
    }
   ],
   "source": [
    "dev"
   ]
  },
  {
   "cell_type": "code",
   "execution_count": 126,
   "metadata": {},
   "outputs": [],
   "source": [
    "dev_comments_pos = [sentence.split(' ')[:-1] for sentence in comments_pos]"
   ]
  },
  {
   "cell_type": "code",
   "execution_count": 150,
   "metadata": {},
   "outputs": [],
   "source": [
    "pred = []\n",
    "for sentence in dev['comments_pos']:\n",
    "    pred.append(classifier.classify(term_exists(sentence.split(' ')[:-1])))"
   ]
  },
  {
   "cell_type": "code",
   "execution_count": 151,
   "metadata": {},
   "outputs": [
    {
     "data": {
      "text/plain": [
       "0.5063795477002705"
      ]
     },
     "execution_count": 151,
     "metadata": {},
     "output_type": "execute_result"
    }
   ],
   "source": [
    "from sklearn.metrics import f1_score, accuracy_score, recall_score\n",
    "f1_score(pred, dev['hate'], average='macro')"
   ]
  },
  {
   "cell_type": "code",
   "execution_count": null,
   "metadata": {},
   "outputs": [],
   "source": []
  }
 ],
 "metadata": {
  "kernelspec": {
   "display_name": "Python 3",
   "language": "python",
   "name": "python3"
  },
  "language_info": {
   "codemirror_mode": {
    "name": "ipython",
    "version": 3
   },
   "file_extension": ".py",
   "mimetype": "text/x-python",
   "name": "python",
   "nbconvert_exporter": "python",
   "pygments_lexer": "ipython3",
   "version": "3.7.9"
  }
 },
 "nbformat": 4,
 "nbformat_minor": 4
}
